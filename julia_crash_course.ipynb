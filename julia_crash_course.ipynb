{
 "cells": [
  {
   "attachments": {
    "julia.svg": {
     "image/svg+xml": [
      "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"
     ]
    }
   },
   "cell_type": "markdown",
   "id": "843db417",
   "metadata": {},
   "source": [
    "# Julia: Crash Course and Solving ODEs\n",
    "<br>\n",
    "<div>\n",
    "<img src=\"attachment:julia.svg\" width=\"350\"/>\n",
    "</div>\n",
    "<br>"
   ]
  },
  {
   "cell_type": "markdown",
   "id": "a474d5e4",
   "metadata": {},
   "source": [
    "## Contents\n",
    "1. [Julia Crash Course](#julia)<br>\n",
    "    1.1. [Why Julia](#why-julia)<br>\n",
    "    1.2. [Julia and Jupyter Notebooks](#jupyter)<br>\n",
    "    1.3. [The Julia REPL](#repl)<br>\n",
    "    1.4. [Arrays](#arrays)<br>\n",
    "    1.5. [Functions, Methods, and Multiple Dispatch](#functions)<br>\n",
    "    1.6. [Structs (or: Julia Objects)](#structs)<br>\n",
    "    1.7. [Putting it All Together: Defining Structure and Behaviour in Julia](#structure)<br>\n",
    "    1.8. [Control Flow: Loops and Conditionals](#control)<br>\n",
    "    1.9. [Pkg.jl - The Julia Package Manager](#pkg)<br>\n",
    "2. [DifferentialEquations.jl](#diffeq)<br>\n",
    "    2.1. [Solving ODEs](#solving-odes)<br>\n",
    "    2.2. [Plotting the Solution](#plotting)<br>\n",
    "    2.3. [Configuring the Solver: Common Solver Options](#options)<br>\n",
    "3. [Further Reading](#further-reading)"
   ]
  },
  {
   "cell_type": "markdown",
   "id": "92d72069",
   "metadata": {},
   "source": [
    "## 1. Julia Crash Course <a class=\"anchor\" id=\"julia\"></a>\n",
    "\n",
    "\n",
    "### 1.1. Why Julia <a class=\"anchor\" id=\"why-julia\"></a>\n",
    "\n",
    "- Historically, we might divide programming languages commonly used for scientific computing into so-called \"high-level\" and \"low-level\" languages:\n",
    "\n",
    "\n",
    "| Language Type | Implementation | Type System | Syntax | Speed | Examples\n",
    "| :- | :- | :- | :- | :- | :- |\n",
    "| High-level | [Interpreted](https://en.wikipedia.org/wiki/Interpreter_(computing)) | [Dynamic](https://en.wikipedia.org/wiki/Type_system#Dynamic_type_checking_and_runtime_type_information) | Easy, modern | Painfully slow | Python, R, Mathematica\n",
    "| Low-level | [Compiled](https://en.wikipedia.org/wiki/Compiled_language) | [Static](https://en.wikipedia.org/wiki/Type_system#Static_type_checking) | Hard, obscure | Blazing fast | Fortran, C, C++\n",
    "\n",
    "- This divide gives rise to the dreaded [**two-language problem**](https://www.nature.com/articles/d41586-019-02310-3): scientific programmes are often prototyped in a high-level language, such as Python, but then have to be translated into a low-level language, such as C, when speed becomes important. If you've ever had to convert a Python for-loop into vectorised NumPy code, then you've already experienced the two-language problem first-hand.\n",
    "<br>\n",
    "\n",
    "- Julia aims to solve the two-language problem, giving scientists the flexibility to write code with the ease of Python while executing with the performance of Fortran or C, all inside one language.\n",
    "<br>\n",
    "\n",
    "- That is to say, Julia offers the best of both worlds:\n",
    "    - it's ([JIT](https://en.wikipedia.org/wiki/Just-in-time_compilation)) **compiled**,\n",
    "    - it's **dynamically typed**,\n",
    "    - it has a clean **modern syntax**,\n",
    "    - it's **exceptionally** [**fast**](https://julialang.org/benchmarks/).\n",
    "<br><br>\n",
    "- Despite seeing its [v1.0 release](https://julialang.org/blog/2018/08/one-point-zero/) less than five years ago, Julia has already achieved [widespread use](https://julialang.org/blog/2022/02/10years/) in the scientific community. One high profile example is the  [Climate Modeling Alliance (CliMA)](https://clima.caltech.edu/), who are building a new earth system model in Julia."
   ]
  },
  {
   "cell_type": "markdown",
   "id": "1525bef2",
   "metadata": {},
   "source": [
    "### 1.2. Julia and Jupyter Notebooks <a class=\"anchor\" id=\"jupyter\"></a>\n",
    "\n",
    "- In this workshop, we'll stick mostly to Jupyter notebooks.\n",
    "<br>\n",
    "\n",
    "- With Julia already installed on your computer, the next thing you'll have to do is follow the instructions [here](https://juliahub.com/ui/Packages/IJulia/nfu7T/1.21.2) to install IJulia, which offers a Julia backend for Jupyter notebooks. \n",
    "<br>\n",
    "\n",
    "- If you already have Jupyter installed, then just follow the instructions to point IJulia to your system Jupyter installation. Otherwise, you can allow IJulia to install Jupyter for you."
   ]
  },
  {
   "cell_type": "markdown",
   "id": "a830b201",
   "metadata": {},
   "source": [
    "### 1.3. The Julia REPL <a class=\"anchor\" id=\"repl\"></a>\n",
    "\n",
    "- While we'll stick to notebooks, [Julia's powerful REPL](https://docs.julialang.org/en/v1/stdlib/REPL/) is a key component of a typical Julia developer's workflow and still deserves a mention.\n",
    "<br>\n",
    "\n",
    "- Assuming you have Julia installed and the Julia executable is discoverable on your path, enter the Julia REPL by simply doing `julia` at the command line.\n",
    "<br>\n",
    "\n",
    "- Once in the REPL, you can directly type and execute Julia statements and expressions, useful for testing and exploration.\n",
    "<br>\n",
    "\n",
    "- Other invaluable features of the REPL include:\n",
    "    - Type `?` to enter help mode.\n",
    "    - Type `]` to enter Pkg mode, for installing packages and managing environments (more on this later).\n",
    "    - Type `;` to enter shell mode, for executing shell commands.\n",
    "    - Type `Ctrl + r` to search your REPL history.\n",
    "    "
   ]
  },
  {
   "cell_type": "markdown",
   "id": "67f483d8",
   "metadata": {},
   "source": [
    "### 1.4. Arrays <a class=\"anchor\" id=\"arrays\"></a>\n",
    "\n",
    "- Unsurprisingly, given its emphasis on technical computing, Julia has a first-class array implementation: `Array`.\n",
    "<br>\n",
    "\n",
    "- It's a good idea to read the [documentation](https://docs.julialang.org/en/v1/manual/arrays/), but here we will give a very brief overview of what you need to get started.\n",
    "\n",
    "#### 1.4.1. `Array` can have arbitrary dimensions\n",
    "\n",
    "- In Julia, arrays can have arbitrary dimensions. You can think of an array as a finite n-dimensional grid, with an object placed at each gridpoint."
   ]
  },
  {
   "cell_type": "code",
   "execution_count": 1,
   "id": "841a2934",
   "metadata": {},
   "outputs": [
    {
     "data": {
      "text/plain": [
       "Array{Float64, 3}"
      ]
     },
     "execution_count": 1,
     "metadata": {},
     "output_type": "execute_result"
    }
   ],
   "source": [
    "a = zeros(2, 3, 4)  # zeros is a useful constructor\n",
    "typeof(a)"
   ]
  },
  {
   "cell_type": "code",
   "execution_count": 2,
   "id": "2bb1de32",
   "metadata": {},
   "outputs": [
    {
     "data": {
      "text/plain": [
       "Matrix{Float64}\u001b[90m (alias for \u001b[39m\u001b[90mArray{Float64, 2}\u001b[39m\u001b[90m)\u001b[39m"
      ]
     },
     "execution_count": 2,
     "metadata": {},
     "output_type": "execute_result"
    }
   ],
   "source": [
    "a = zeros(2, 3)\n",
    "typeof(a)"
   ]
  },
  {
   "cell_type": "code",
   "execution_count": 3,
   "id": "3f70a622",
   "metadata": {},
   "outputs": [
    {
     "data": {
      "text/plain": [
       "Vector{Float64}\u001b[90m (alias for \u001b[39m\u001b[90mArray{Float64, 1}\u001b[39m\u001b[90m)\u001b[39m"
      ]
     },
     "execution_count": 3,
     "metadata": {},
     "output_type": "execute_result"
    }
   ],
   "source": [
    "a = zeros(2)\n",
    "typeof(a)"
   ]
  },
  {
   "cell_type": "code",
   "execution_count": 4,
   "id": "bf86cd29",
   "metadata": {},
   "outputs": [
    {
     "data": {
      "text/plain": [
       "Array{Float64, 0}"
      ]
     },
     "execution_count": 4,
     "metadata": {},
     "output_type": "execute_result"
    }
   ],
   "source": [
    "a = zeros()\n",
    "typeof(a)"
   ]
  },
  {
   "cell_type": "code",
   "execution_count": 5,
   "id": "caf68176",
   "metadata": {},
   "outputs": [
    {
     "data": {
      "text/plain": [
       "0-dimensional Array{Float64, 0}:\n",
       "0.0"
      ]
     },
     "execution_count": 5,
     "metadata": {},
     "output_type": "execute_result"
    }
   ],
   "source": [
    "a"
   ]
  },
  {
   "cell_type": "markdown",
   "id": "3a7528d4",
   "metadata": {},
   "source": [
    "#### 1.4.2. `Array` is 1-indexed\n",
    "\n",
    "- Unlike other programming languages you might be familiar with, Julia arrays are 1-indexed rather than 0-indexed."
   ]
  },
  {
   "cell_type": "code",
   "execution_count": 6,
   "id": "a8baa6db",
   "metadata": {},
   "outputs": [
    {
     "data": {
      "text/plain": [
       "3-element Vector{Float64}:\n",
       " 0.5892752963071436\n",
       " 0.15647601013738277\n",
       " 0.9711098137663952"
      ]
     },
     "execution_count": 6,
     "metadata": {},
     "output_type": "execute_result"
    }
   ],
   "source": [
    "a = rand(3)"
   ]
  },
  {
   "cell_type": "code",
   "execution_count": 7,
   "id": "a426180a",
   "metadata": {},
   "outputs": [
    {
     "ename": "LoadError",
     "evalue": "BoundsError: attempt to access 3-element Vector{Float64} at index [0]",
     "output_type": "error",
     "traceback": [
      "BoundsError: attempt to access 3-element Vector{Float64} at index [0]",
      "",
      "Stacktrace:",
      " [1] getindex(A::Vector{Float64}, i1::Int64)",
      "   @ Base ./array.jl:924",
      " [2] top-level scope",
      "   @ In[7]:1",
      " [3] eval",
      "   @ ./boot.jl:368 [inlined]",
      " [4] include_string(mapexpr::typeof(REPL.softscope), mod::Module, code::String, filename::String)",
      "   @ Base ./loading.jl:1428"
     ]
    }
   ],
   "source": [
    "a[0]  # Attempt to get the element at position 0 of a"
   ]
  },
  {
   "cell_type": "code",
   "execution_count": 8,
   "id": "10d42168",
   "metadata": {},
   "outputs": [
    {
     "data": {
      "text/plain": [
       "0.5892752963071436"
      ]
     },
     "execution_count": 8,
     "metadata": {},
     "output_type": "execute_result"
    }
   ],
   "source": [
    "a[1]  # Get the first element of a"
   ]
  },
  {
   "cell_type": "markdown",
   "id": "588e499c",
   "metadata": {},
   "source": [
    "#### 1.4.3. More General Array Indexing\n",
    "\n",
    "- The general syntax for indexing into an n-dimensional array `A` is:\n",
    "\n",
    "    `A[I_1, I_2, ..., I_n]`,\n",
    "\n",
    "    where each `I_k` may be a scalar integer, an array of integers, or any other supported index (see the [docs]((https://docs.julialang.org/en/v1/manual/arrays/#man-supported-index-types)) for other supported indices)."
   ]
  },
  {
   "cell_type": "code",
   "execution_count": 9,
   "id": "43acfb88",
   "metadata": {},
   "outputs": [
    {
     "data": {
      "text/plain": [
       "2×3 Matrix{Float64}:\n",
       " 0.125764  0.1169    0.3178\n",
       " 0.475564  0.885332  0.211962"
      ]
     },
     "execution_count": 9,
     "metadata": {},
     "output_type": "execute_result"
    }
   ],
   "source": [
    "a = rand(2, 3)"
   ]
  },
  {
   "cell_type": "code",
   "execution_count": 10,
   "id": "e1ea5d50",
   "metadata": {},
   "outputs": [
    {
     "data": {
      "text/plain": [
       "0.11689996477055875"
      ]
     },
     "execution_count": 10,
     "metadata": {},
     "output_type": "execute_result"
    }
   ],
   "source": [
    "a[1, 2]"
   ]
  },
  {
   "cell_type": "code",
   "execution_count": 11,
   "id": "aab17f9e",
   "metadata": {},
   "outputs": [
    {
     "data": {
      "text/plain": [
       "2-element Vector{Float64}:\n",
       " 0.4755641467097703\n",
       " 0.8853323150798291"
      ]
     },
     "execution_count": 11,
     "metadata": {},
     "output_type": "execute_result"
    }
   ],
   "source": [
    "a[2, 1:2]  # 1:2 is a range object"
   ]
  },
  {
   "cell_type": "code",
   "execution_count": 12,
   "id": "48079429",
   "metadata": {},
   "outputs": [
    {
     "data": {
      "text/plain": [
       "UnitRange{Int64}"
      ]
     },
     "execution_count": 12,
     "metadata": {},
     "output_type": "execute_result"
    }
   ],
   "source": [
    "typeof(1:2)"
   ]
  },
  {
   "cell_type": "markdown",
   "id": "db752056",
   "metadata": {},
   "source": [
    "#### 1.4.4. Indexed Assignment\n",
    "- As you might expect, arrays are mutable.\n",
    "<br>\n",
    "\n",
    "- Similar to array indexing, the general syntax for assigning values in an n-dimensional array `A` is:\n",
    "\n",
    "    `A[I_1, I_2, ..., I_n] = X`,\n",
    "\n",
    "    where each `I_k` may be a scalar integer, an array of integers, or any other supported index."
   ]
  },
  {
   "cell_type": "code",
   "execution_count": 13,
   "id": "eddf9234",
   "metadata": {},
   "outputs": [
    {
     "data": {
      "text/plain": [
       "2×3 Matrix{Float64}:\n",
       " 0.913153   0.590675  0.185248\n",
       " 0.0356142  0.902919  0.576893"
      ]
     },
     "execution_count": 13,
     "metadata": {},
     "output_type": "execute_result"
    }
   ],
   "source": [
    "a = rand(2, 3)"
   ]
  },
  {
   "cell_type": "code",
   "execution_count": 14,
   "id": "3be5d9a4",
   "metadata": {},
   "outputs": [
    {
     "data": {
      "text/plain": [
       "2×3 Matrix{Float64}:\n",
       " 0.913153   2.0       0.185248\n",
       " 0.0356142  0.902919  0.576893"
      ]
     },
     "execution_count": 14,
     "metadata": {},
     "output_type": "execute_result"
    }
   ],
   "source": [
    "a[1, 2] = 2\n",
    "a"
   ]
  },
  {
   "cell_type": "markdown",
   "id": "90b203a3",
   "metadata": {},
   "source": [
    "- If any index `I_k` is itself an array, then the right hand side `X` must also be an array with the same shape as the result of indexing `A[I_1, I_2, ..., I_n]` or a vector with the same number of elements. "
   ]
  },
  {
   "cell_type": "code",
   "execution_count": 15,
   "id": "0ed60c99",
   "metadata": {},
   "outputs": [
    {
     "data": {
      "text/plain": [
       "(2,)"
      ]
     },
     "execution_count": 15,
     "metadata": {},
     "output_type": "execute_result"
    }
   ],
   "source": [
    "size(a[1, [1,2]])  # Two-element vector"
   ]
  },
  {
   "cell_type": "code",
   "execution_count": 16,
   "id": "49b15155",
   "metadata": {},
   "outputs": [
    {
     "data": {
      "text/plain": [
       "(2,)"
      ]
     },
     "execution_count": 16,
     "metadata": {},
     "output_type": "execute_result"
    }
   ],
   "source": [
    "size([3, 4])  # Also a two-element vector"
   ]
  },
  {
   "cell_type": "code",
   "execution_count": 17,
   "id": "519ab143",
   "metadata": {},
   "outputs": [
    {
     "data": {
      "text/plain": [
       "2×3 Matrix{Float64}:\n",
       " 0.913153  2.0  0.185248\n",
       " 3.0       4.0  0.576893"
      ]
     },
     "execution_count": 17,
     "metadata": {},
     "output_type": "execute_result"
    }
   ],
   "source": [
    "a[2, [1,2]] = [3, 4]  # Which means we can do this\n",
    "a"
   ]
  },
  {
   "cell_type": "markdown",
   "id": "5ff2fa7a",
   "metadata": {},
   "source": [
    "- Finally, the element-wise assignment operator `.=` may be used to broadcast `X` across the selected locations:\n",
    "\n",
    "    `A[I_1, I_2, ..., I_n] .= X`"
   ]
  },
  {
   "cell_type": "code",
   "execution_count": 18,
   "id": "31b51f40",
   "metadata": {},
   "outputs": [
    {
     "data": {
      "text/plain": [
       "2×3 Matrix{Float64}:\n",
       " 0.913153  2.0  5.0\n",
       " 3.0       4.0  5.0"
      ]
     },
     "execution_count": 18,
     "metadata": {},
     "output_type": "execute_result"
    }
   ],
   "source": [
    "a[:, 3] .= 5.0\n",
    "a"
   ]
  },
  {
   "cell_type": "markdown",
   "id": "200f6513",
   "metadata": {},
   "source": [
    "#### 1.4.5. Array Literals\n",
    "\n",
    "- Julia has some useful [array literal](https://docs.julialang.org/en/v1/manual/arrays/#man-array-literals) syntax.\n",
    "<br>\n",
    "\n",
    "- Often you will find yourself creating vectors (one-dimensional arrays) as literals, the elements of which are passed as comma-separated values between square brackets:"
   ]
  },
  {
   "cell_type": "code",
   "execution_count": 19,
   "id": "d165c161",
   "metadata": {},
   "outputs": [
    {
     "data": {
      "text/plain": [
       "3-element Vector{Int64}:\n",
       " 1\n",
       " 2\n",
       " 3"
      ]
     },
     "execution_count": 19,
     "metadata": {},
     "output_type": "execute_result"
    }
   ],
   "source": [
    "[1, 2, 3]"
   ]
  },
  {
   "cell_type": "code",
   "execution_count": 20,
   "id": "cf40fb88",
   "metadata": {},
   "outputs": [
    {
     "data": {
      "text/plain": [
       "2-element Vector{String}:\n",
       " \"Machine\"\n",
       " \"Learning\""
      ]
     },
     "execution_count": 20,
     "metadata": {},
     "output_type": "execute_result"
    }
   ],
   "source": [
    "[\"Machine\", \"Learning\"]"
   ]
  },
  {
   "cell_type": "markdown",
   "id": "fade862f",
   "metadata": {},
   "source": [
    "- It is highly recommeded to consult the [docs](https://docs.julialang.org/en/v1/manual/arrays/#man-array-concatenation) for the full story, but Julia also has powerful and intuitive concatenation rules for array literals, giving rise to some nice array literal syntax like:"
   ]
  },
  {
   "cell_type": "code",
   "execution_count": 21,
   "id": "dc7fb009",
   "metadata": {},
   "outputs": [
    {
     "data": {
      "text/plain": [
       "2×2 Matrix{Int64}:\n",
       " 1  2\n",
       " 3  4"
      ]
     },
     "execution_count": 21,
     "metadata": {},
     "output_type": "execute_result"
    }
   ],
   "source": [
    "[1 2\n",
    " 3 4]"
   ]
  },
  {
   "cell_type": "markdown",
   "id": "cd2cb77c",
   "metadata": {},
   "source": [
    "#### 1.4.6. Array Constructors\n",
    "\n",
    "- For constructing and pre-allocating arrays, see the various [constructors](https://docs.julialang.org/en/v1/manual/arrays/#Construction-and-Initialization), such as `zeros`, `ones`, `rand`."
   ]
  },
  {
   "cell_type": "markdown",
   "id": "bdf0b276",
   "metadata": {},
   "source": [
    "### 1.5. Functions, Methods, and Multiple Dispatch <a class=\"anchor\" id=\"functions\"></a>\n",
    "\n",
    "- At a high level, functions in Julia are conceptually similar to functions from other languages: they map a tuple of inputs to return values, while also potentially modifying the program's state.\n",
    "<br>\n",
    "\n",
    "#### 1.5.1. Standard Function Definition Syntax \n",
    "\n",
    "- This is probably the form you'll see and use most often."
   ]
  },
  {
   "cell_type": "code",
   "execution_count": 22,
   "id": "2f3c4e78",
   "metadata": {},
   "outputs": [
    {
     "data": {
      "text/plain": [
       "f (generic function with 1 method)"
      ]
     },
     "execution_count": 22,
     "metadata": {},
     "output_type": "execute_result"
    }
   ],
   "source": [
    "function f(x, y)\n",
    "    return x + y\n",
    "end"
   ]
  },
  {
   "cell_type": "code",
   "execution_count": 23,
   "id": "e6b7ecd0",
   "metadata": {
    "scrolled": true
   },
   "outputs": [
    {
     "data": {
      "text/plain": [
       "3"
      ]
     },
     "execution_count": 23,
     "metadata": {},
     "output_type": "execute_result"
    }
   ],
   "source": [
    "f(1, 2)"
   ]
  },
  {
   "cell_type": "markdown",
   "id": "cc4db6e5",
   "metadata": {},
   "source": [
    "- Note that the `return` keyword is optional, since by default a function will return the value of the **last expression evaluated**. That said, I prefer to be as explicit as possible so I generally include it.\n",
    "<br>\n",
    "\n",
    "- By convention, functions which modify their arguments in-place have names ending in `!`."
   ]
  },
  {
   "cell_type": "code",
   "execution_count": 24,
   "id": "91997f90",
   "metadata": {},
   "outputs": [
    {
     "data": {
      "text/plain": [
       "square_array! (generic function with 1 method)"
      ]
     },
     "execution_count": 24,
     "metadata": {},
     "output_type": "execute_result"
    }
   ],
   "source": [
    "function square_array!(a)\n",
    "    a .= a.^2\n",
    "    return nothing\n",
    "end"
   ]
  },
  {
   "cell_type": "code",
   "execution_count": 25,
   "id": "11f6eeb5",
   "metadata": {},
   "outputs": [
    {
     "data": {
      "text/plain": [
       "2×3 Matrix{Float64}:\n",
       " 0.729161  0.853163  0.680455\n",
       " 0.261599  0.65259   0.272093"
      ]
     },
     "execution_count": 25,
     "metadata": {},
     "output_type": "execute_result"
    }
   ],
   "source": [
    "a = rand(2, 3)"
   ]
  },
  {
   "cell_type": "code",
   "execution_count": 26,
   "id": "fe8efb68",
   "metadata": {},
   "outputs": [],
   "source": [
    "square_array!(a)  # returns nothing"
   ]
  },
  {
   "cell_type": "code",
   "execution_count": 27,
   "id": "3e6d74d3",
   "metadata": {},
   "outputs": [
    {
     "data": {
      "text/plain": [
       "2×3 Matrix{Float64}:\n",
       " 0.531676   0.727887  0.46302\n",
       " 0.0684339  0.425874  0.0740346"
      ]
     },
     "execution_count": 27,
     "metadata": {},
     "output_type": "execute_result"
    }
   ],
   "source": [
    "a  # but a was modified in-place"
   ]
  },
  {
   "cell_type": "markdown",
   "id": "e4fb8b7f",
   "metadata": {},
   "source": [
    "- For more information on defining functions, such as [optional arguments](https://docs.julialang.org/en/v1/manual/functions/#Optional-Arguments) and [keyword arguments](https://docs.julialang.org/en/v1/manual/functions/#Keyword-Arguments), see the [docs](https://docs.julialang.org/en/v1/manual/functions/)."
   ]
  },
  {
   "cell_type": "markdown",
   "id": "e1dd118e",
   "metadata": {},
   "source": [
    "#### 1.5.2. Methods\n",
    "\n",
    "- Closely related to functions are methods.\n",
    "<br>\n",
    "\n",
    "- _A method defines one possible behaviour for a function, given the_ number _and_ types _of its arguments_.\n"
   ]
  },
  {
   "cell_type": "code",
   "execution_count": 28,
   "id": "59bf72f3",
   "metadata": {},
   "outputs": [
    {
     "data": {
      "text/plain": [
       "add (generic function with 2 methods)"
      ]
     },
     "execution_count": 28,
     "metadata": {},
     "output_type": "execute_result"
    }
   ],
   "source": [
    "function add(x, y)\n",
    "    return x + y\n",
    "end\n",
    "\n",
    "function add(x, y, z)\n",
    "    return x + y + z\n",
    "end"
   ]
  },
  {
   "cell_type": "markdown",
   "id": "fa999e46",
   "metadata": {},
   "source": [
    "- You can call `methods` on a function to see its method table."
   ]
  },
  {
   "cell_type": "code",
   "execution_count": 29,
   "id": "4e4876c7",
   "metadata": {},
   "outputs": [
    {
     "data": {
      "text/html": [
       "# 2 methods for generic function <b>add</b>:<ul><li> add(x, y) in Main at In[28]:1</li> <li> add(x, y, z) in Main at In[28]:5</li> </ul>"
      ],
      "text/plain": [
       "# 2 methods for generic function \"add\":\n",
       "[1] add(x, y) in Main at In[28]:1\n",
       "[2] add(x, y, z) in Main at In[28]:5"
      ]
     },
     "execution_count": 29,
     "metadata": {},
     "output_type": "execute_result"
    }
   ],
   "source": [
    "methods(add)"
   ]
  },
  {
   "cell_type": "code",
   "execution_count": 30,
   "id": "00d5b4da",
   "metadata": {},
   "outputs": [
    {
     "data": {
      "text/plain": [
       "3"
      ]
     },
     "execution_count": 30,
     "metadata": {},
     "output_type": "execute_result"
    }
   ],
   "source": [
    "add(1, 2)"
   ]
  },
  {
   "cell_type": "code",
   "execution_count": 31,
   "id": "ed9120a8",
   "metadata": {},
   "outputs": [
    {
     "data": {
      "text/plain": [
       "6"
      ]
     },
     "execution_count": 31,
     "metadata": {},
     "output_type": "execute_result"
    }
   ],
   "source": [
    "add(1, 2, 3)"
   ]
  },
  {
   "cell_type": "markdown",
   "id": "73e32800",
   "metadata": {},
   "source": [
    "- Conceptually, we have one function (addition) with many possible behaviours, depending on the number of inputs and their types (integers, floats, matrices, and so on).\n",
    "<br>\n",
    "\n",
    "- The first time you define a function with a given name, the function is created along with its first method. Each subsequent definition with the same function name then creates a new method of the same function.\n",
    "<br>\n",
    "\n",
    "- We can use **type annotations** to make our method definitions more specific. "
   ]
  },
  {
   "cell_type": "code",
   "execution_count": 32,
   "id": "95c0af23",
   "metadata": {},
   "outputs": [
    {
     "data": {
      "text/plain": [
       "add (generic function with 3 methods)"
      ]
     },
     "execution_count": 32,
     "metadata": {},
     "output_type": "execute_result"
    }
   ],
   "source": [
    "function add(X::Array, Y::Array)\n",
    "    return X .+ Y\n",
    "end"
   ]
  },
  {
   "cell_type": "code",
   "execution_count": 33,
   "id": "c6edaa10",
   "metadata": {},
   "outputs": [
    {
     "data": {
      "text/html": [
       "# 3 methods for generic function <b>add</b>:<ul><li> add(X::<b>Array</b>, Y::<b>Array</b>) in Main at In[32]:1</li> <li> add(x, y) in Main at In[28]:1</li> <li> add(x, y, z) in Main at In[28]:5</li> </ul>"
      ],
      "text/plain": [
       "# 3 methods for generic function \"add\":\n",
       "[1] add(X::Array, Y::Array) in Main at In[32]:1\n",
       "[2] add(x, y) in Main at In[28]:1\n",
       "[3] add(x, y, z) in Main at In[28]:5"
      ]
     },
     "execution_count": 33,
     "metadata": {},
     "output_type": "execute_result"
    }
   ],
   "source": [
    "methods(add)"
   ]
  },
  {
   "cell_type": "code",
   "execution_count": 34,
   "id": "584ad042",
   "metadata": {},
   "outputs": [
    {
     "data": {
      "text/plain": [
       "2×3 Matrix{Float64}:\n",
       " 0.683435  1.37785  1.11657\n",
       " 0.419844  1.00781  1.10052"
      ]
     },
     "execution_count": 34,
     "metadata": {},
     "output_type": "execute_result"
    }
   ],
   "source": [
    "A = rand(2, 3)\n",
    "B = rand(2, 3)\n",
    "add(A, B)"
   ]
  },
  {
   "cell_type": "markdown",
   "id": "63b3d857",
   "metadata": {},
   "source": [
    "#### 1.5.3. Multiple Dispatch\n",
    "\n",
    "- Given a single function with many methods, how does Julia choose which method to call?\n",
    "\n",
    "> The choice of which method to execute when a function is applied is called dispatch. **Julia allows the dispatch process to choose which of a function's methods to call based on the number of arguments given, and on the types of all of the function's arguments**. This is different than traditional object-oriented languages, where dispatch occurs based only on the first argument, which often has a special argument syntax, and is sometimes implied rather than explicitly written as an argument. [c.f. Python classes and methods.] **Using all of a function's arguments to choose which method should be invoked, rather than just the first, is known as multiple dispatch**. \n",
    "\n",
    "\n",
    "- In particular, Julia will automatically select the **most specific** method matching the arguments provided.\n",
    "<br>\n",
    "\n",
    "- _Multiple dispatch is the core programming paradigm of the Julia language_.\n",
    "<br>\n",
    "\n",
    "- Used appropriately, multiple dispatch can lead to highly elegant, flexible, and composable code."
   ]
  },
  {
   "cell_type": "markdown",
   "id": "ae4799a8",
   "metadata": {},
   "source": [
    "### 1.6. Structs (or: Julia Objects) <a class=\"anchor\" id=\"structs\"></a>\n",
    "\n",
    "- The most common user-defined type in Julia is a [**composite type**](https://docs.julialang.org/en/v1/manual/types/#Composite-Types) or `struct`. This is the Julia equivalent of a `Class` in Python.\n",
    "\n",
    "#### 1.6.1. Defining Structs\n",
    "\n",
    "- Composite types are introduced with the `struct` keyword followed by a block of field names."
   ]
  },
  {
   "cell_type": "code",
   "execution_count": 35,
   "id": "251eacb3",
   "metadata": {},
   "outputs": [],
   "source": [
    "struct Foo\n",
    "    bar\n",
    "    baz\n",
    "end"
   ]
  },
  {
   "cell_type": "markdown",
   "id": "2ebd6c0d",
   "metadata": {},
   "source": [
    "- That's it! (More or less...)"
   ]
  },
  {
   "cell_type": "markdown",
   "id": "edbe306d",
   "metadata": {},
   "source": [
    "#### 1.6.2. Instantiating Structs\n",
    "\n",
    "- To create a new object of a given type, simply apply the type name like a function."
   ]
  },
  {
   "cell_type": "code",
   "execution_count": 36,
   "id": "480ba118",
   "metadata": {},
   "outputs": [
    {
     "data": {
      "text/plain": [
       "Foo(\"Machine\", \"Learning\")"
      ]
     },
     "execution_count": 36,
     "metadata": {},
     "output_type": "execute_result"
    }
   ],
   "source": [
    "foo = Foo(\"Machine\", \"Learning\")"
   ]
  },
  {
   "cell_type": "code",
   "execution_count": 37,
   "id": "71905692",
   "metadata": {},
   "outputs": [
    {
     "data": {
      "text/plain": [
       "Foo"
      ]
     },
     "execution_count": 37,
     "metadata": {},
     "output_type": "execute_result"
    }
   ],
   "source": [
    "typeof(foo)"
   ]
  },
  {
   "cell_type": "markdown",
   "id": "da1dadc4",
   "metadata": {},
   "source": [
    "#### 1.6.3. Accessing the Fields of a Struct\n",
    "\n",
    "- You can access the field names of a struct using the standard `foo.bar` notation."
   ]
  },
  {
   "cell_type": "code",
   "execution_count": 38,
   "id": "32560da0",
   "metadata": {},
   "outputs": [
    {
     "data": {
      "text/plain": [
       "\"Machine\""
      ]
     },
     "execution_count": 38,
     "metadata": {},
     "output_type": "execute_result"
    }
   ],
   "source": [
    "foo.bar"
   ]
  },
  {
   "cell_type": "code",
   "execution_count": 39,
   "id": "e68cc5c8",
   "metadata": {},
   "outputs": [
    {
     "data": {
      "text/plain": [
       "\"Learning\""
      ]
     },
     "execution_count": 39,
     "metadata": {},
     "output_type": "execute_result"
    }
   ],
   "source": [
    "foo.baz"
   ]
  },
  {
   "cell_type": "markdown",
   "id": "e100c7bd",
   "metadata": {},
   "source": [
    "#### 1.6.4 Structs are Not Mutable\n",
    "\n",
    "- Composite objects declared with `struct` are **immutable**; they cannot be modified after construction."
   ]
  },
  {
   "cell_type": "code",
   "execution_count": 40,
   "id": "91ed8795",
   "metadata": {},
   "outputs": [
    {
     "ename": "LoadError",
     "evalue": "setfield!: immutable struct of type Foo cannot be changed",
     "output_type": "error",
     "traceback": [
      "setfield!: immutable struct of type Foo cannot be changed",
      "",
      "Stacktrace:",
      " [1] setproperty!(x::Foo, f::Symbol, v::String)",
      "   @ Base ./Base.jl:39",
      " [2] top-level scope",
      "   @ In[40]:1",
      " [3] eval",
      "   @ ./boot.jl:368 [inlined]",
      " [4] include_string(mapexpr::typeof(REPL.softscope), mod::Module, code::String, filename::String)",
      "   @ Base ./loading.jl:1428"
     ]
    }
   ],
   "source": [
    "foo.baz = \"Intelligence\""
   ]
  },
  {
   "cell_type": "markdown",
   "id": "3b8c183e",
   "metadata": {},
   "source": [
    "- **N.B.** An immutable object might contain mutable objects, such as arrays, as fields. Those mutable field values will remain mutable; only the fields of the immutable object itself cannot be changed to point to different objects."
   ]
  },
  {
   "cell_type": "code",
   "execution_count": 41,
   "id": "b5019547",
   "metadata": {},
   "outputs": [
    {
     "data": {
      "text/plain": [
       "2-element Vector{Float64}:\n",
       " 0.6814432086845662\n",
       " 0.6698389430756965"
      ]
     },
     "execution_count": 41,
     "metadata": {},
     "output_type": "execute_result"
    }
   ],
   "source": [
    "struct ArrayStruct\n",
    "    a::Array\n",
    "end\n",
    "\n",
    "array_struct = ArrayStruct(rand(2))\n",
    "array_struct.a"
   ]
  },
  {
   "cell_type": "code",
   "execution_count": 42,
   "id": "5984de46",
   "metadata": {},
   "outputs": [
    {
     "data": {
      "text/plain": [
       "2-element Vector{Float64}:\n",
       " 3.0\n",
       " 0.6698389430756965"
      ]
     },
     "execution_count": 42,
     "metadata": {},
     "output_type": "execute_result"
    }
   ],
   "source": [
    "# Modify the mutable object\n",
    "array_struct.a[1] = 3.0\n",
    "array_struct.a"
   ]
  },
  {
   "cell_type": "code",
   "execution_count": 43,
   "id": "20624d04",
   "metadata": {},
   "outputs": [
    {
     "ename": "LoadError",
     "evalue": "setfield!: immutable struct of type ArrayStruct cannot be changed",
     "output_type": "error",
     "traceback": [
      "setfield!: immutable struct of type ArrayStruct cannot be changed",
      "",
      "Stacktrace:",
      " [1] setproperty!(x::ArrayStruct, f::Symbol, v::Vector{Float64})",
      "   @ Base ./Base.jl:39",
      " [2] top-level scope",
      "   @ In[43]:2",
      " [3] eval",
      "   @ ./boot.jl:368 [inlined]",
      " [4] include_string(mapexpr::typeof(REPL.softscope), mod::Module, code::String, filename::String)",
      "   @ Base ./loading.jl:1428"
     ]
    }
   ],
   "source": [
    "# Attempt to modify the field value itself\n",
    "array_struct.a = [3.0, 4.0]"
   ]
  },
  {
   "cell_type": "markdown",
   "id": "98865a3e",
   "metadata": {},
   "source": [
    "- Why is it like this? Isn't this unnecessarily restrictive for the programmer?\n",
    "<br>\n",
    "\n",
    "- The main reason for structs to be immutable is to allow the compiler to effectively optimise your code. In particular, it allows your objects to be laid out efficiently in memory (e.g. stack allocated rather than heap).\n",
    "<br>\n",
    "\n",
    "- If you _really_ do need a mutable struct (you probably don't), you can simply declare one with the `mutable` keyword:"
   ]
  },
  {
   "cell_type": "code",
   "execution_count": 44,
   "id": "0aa42e1a",
   "metadata": {},
   "outputs": [
    {
     "data": {
      "text/plain": [
       "\"original value\""
      ]
     },
     "execution_count": 44,
     "metadata": {},
     "output_type": "execute_result"
    }
   ],
   "source": [
    "mutable struct MyMutableStruct\n",
    "    a\n",
    "end\n",
    "m = MyMutableStruct(\"original value\")\n",
    "m.a"
   ]
  },
  {
   "cell_type": "code",
   "execution_count": 45,
   "id": "52a77c03",
   "metadata": {},
   "outputs": [
    {
     "data": {
      "text/plain": [
       "\"new value\""
      ]
     },
     "execution_count": 45,
     "metadata": {},
     "output_type": "execute_result"
    }
   ],
   "source": [
    "m.a = \"new value\"\n",
    "m.a"
   ]
  },
  {
   "cell_type": "markdown",
   "id": "7cf4b330",
   "metadata": {},
   "source": [
    "### 1.7. Putting it All Together: Defining Structure and Behaviour in Julia <a class=\"anchor\" id=\"structure\"></a>\n",
    "\n",
    "- Putting together the last two sections, you can think of structs as defining the _structure_ of your Julia programs and methods which dispatch on those structs as providing the _behaviour_.\n",
    "<br>\n",
    "\n",
    "- This is directly analogous to defining classes and methods in Python."
   ]
  },
  {
   "cell_type": "code",
   "execution_count": 46,
   "id": "08e5e078",
   "metadata": {},
   "outputs": [],
   "source": [
    "struct My2DVector\n",
    "    x\n",
    "    y\n",
    "end"
   ]
  },
  {
   "cell_type": "code",
   "execution_count": 47,
   "id": "13756389",
   "metadata": {},
   "outputs": [
    {
     "data": {
      "text/plain": [
       "add (generic function with 4 methods)"
      ]
     },
     "execution_count": 47,
     "metadata": {},
     "output_type": "execute_result"
    }
   ],
   "source": [
    "function add(a::My2DVector, b::My2DVector)\n",
    "    return My2DVector(a.x + b.x, a.y + b.y)\n",
    "end"
   ]
  },
  {
   "cell_type": "markdown",
   "id": "89750831",
   "metadata": {},
   "source": [
    "### 1.8. Control Flow: Loops and Conditionals <a class=\"anchor\" id=\"control\"></a>\n",
    "\n",
    "- See the [docs](https://docs.julialang.org/en/v1/manual/control-flow/) for a much more complete discussion of control flow.\n",
    "\n",
    "#### 1.8.1 The `for` Loop\n",
    "\n",
    "- The most common loop construct in Julia is the `for` loop:"
   ]
  },
  {
   "cell_type": "code",
   "execution_count": 48,
   "id": "001de796",
   "metadata": {},
   "outputs": [
    {
     "name": "stdout",
     "output_type": "stream",
     "text": [
      "1\n",
      "2\n",
      "3\n",
      "4\n",
      "5\n"
     ]
    }
   ],
   "source": [
    "for i = 1:5\n",
    "    println(i)\n",
    "end"
   ]
  },
  {
   "cell_type": "markdown",
   "id": "5ab4e135",
   "metadata": {},
   "source": [
    "- You will often find yourself using range objects together with `for` loops. This is a very useful construct for generating sequences of numbers and takes the general form:\n",
    "\n",
    "    ```julia\n",
    "    a:b:c\n",
    "    ```\n",
    "\n",
    "    where `a` is the starting number, `c` is the ending number, and `b` is the stepsize. By default `b = 1`.    \n",
    "\n",
    "- **N.B.** ranges in Julia are **inclusive**, i.e. the range includes `c`.\n",
    "<br>\n",
    "- The `for` loop can also iterate over the items of a container (e.g. `Array`, `Tuple`), not just a range object:"
   ]
  },
  {
   "cell_type": "code",
   "execution_count": 49,
   "id": "0fe62dc4",
   "metadata": {},
   "outputs": [
    {
     "name": "stdout",
     "output_type": "stream",
     "text": [
      "Machine\n",
      "Learning\n"
     ]
    }
   ],
   "source": [
    "stuff = [\"Machine\", \"Learning\"]\n",
    "for thing in stuff\n",
    "    println(thing)\n",
    "end"
   ]
  },
  {
   "cell_type": "markdown",
   "id": "778ef486",
   "metadata": {},
   "source": [
    "#### 1.8.2. Conditional Evaluation\n",
    "\n",
    "- The standard `if`-`elseif`-`else` syntax in Julia is:\n",
    "\n",
    "```julia\n",
    "if x < y\n",
    "    println(\"x is less than y\")\n",
    "elseif x > y\n",
    "    println(\"x is greater than y\")\n",
    "else\n",
    "    println(\"x is equal to y\")\n",
    "end\n",
    "```\n",
    "\n",
    "- Unlike other languages (e.g. Python), the value given to the conditional expression __must be a boolean__, i.e. `true` or `false`. In other words, there are no \"truthy\" and \"falsy\" values in Julia."
   ]
  },
  {
   "cell_type": "markdown",
   "id": "dbae3512",
   "metadata": {},
   "source": [
    "### 1.9. Pkg.jl - The Julia Package Manager <a class=\"anchor\" id=\"pkg\"></a>\n",
    "\n",
    "- [Pkg.jl](https://pkgdocs.julialang.org/v1/) is Julia's built-in package manager.\n",
    "<br>\n",
    "\n",
    "- It's comparable to the combination of `pip` and `virtualenv`, or `conda`, in Python. Except it actually works.\n",
    "<br>\n",
    "\n",
    "- There are two ways to use Pkg.jl:\n",
    "    1. [The Pkg REPL](https://pkgdocs.julialang.org/v1/repl/), which you can enter by simply typing `]` at the Julia REPL.\n",
    "    2. [The Pkg API](https://pkgdocs.julialang.org/v1/api/), for when you want to interact with the package manager from a script or Jupyter notebook.\n",
    "<br><br>\n",
    "\n",
    "- Pkg.jl is built around the idea of environments, and an environment is defined by a `Project.toml` file (c.f. `requirements.txt` if you're using `pip` and `virtualenv` in Python).\n",
    "<br>"
   ]
  },
  {
   "cell_type": "code",
   "execution_count": 50,
   "id": "675b96f5",
   "metadata": {},
   "outputs": [],
   "source": [
    "using Pkg  # Need to import Pkg in order to use the API"
   ]
  },
  {
   "cell_type": "markdown",
   "id": "181efbd8",
   "metadata": {},
   "source": [
    "#### 1.9.1. Activating an Environment\n",
    "\n",
    "- The active environment determines what packages you can currently load and use in your code.\n",
    "<br>\n",
    "\n",
    "- To activate the environment in the current directory, do:"
   ]
  },
  {
   "cell_type": "code",
   "execution_count": 51,
   "id": "e0f9ca70",
   "metadata": {},
   "outputs": [
    {
     "name": "stderr",
     "output_type": "stream",
     "text": [
      "\u001b[32m\u001b[1m  Activating\u001b[22m\u001b[39m project at `~/code/ML-DS-Workshop-23`\n"
     ]
    }
   ],
   "source": [
    "Pkg.activate(\".\")"
   ]
  },
  {
   "cell_type": "markdown",
   "id": "46e06abe",
   "metadata": {},
   "source": [
    "- If there is no `Project.toml` in the current directory, this will create a new environment.\n",
    "<br>\n",
    "\n",
    "- All further Pkg actions will then refer to the activated environment."
   ]
  },
  {
   "cell_type": "markdown",
   "id": "3725743c",
   "metadata": {},
   "source": [
    "#### 1.9.2. Instantiating an Environment\n",
    "\n",
    "- When using an existing environment for the first time, for example after you've cloned someone elses Git repo, you also need to download the packages.\n",
    "<br>\n",
    "\n",
    "- To do this, just instantiate the package after activating it:"
   ]
  },
  {
   "cell_type": "code",
   "execution_count": 52,
   "id": "451e0327",
   "metadata": {},
   "outputs": [],
   "source": [
    "Pkg.instantiate()"
   ]
  },
  {
   "cell_type": "markdown",
   "id": "9dcea145",
   "metadata": {},
   "source": [
    "#### 1.9.3. Adding Packages\n",
    "\n",
    "- One of the most common actions you'll take with Pkg is adding new packages. Fortunately, it's as easy as:"
   ]
  },
  {
   "cell_type": "code",
   "execution_count": 53,
   "id": "16ca9999",
   "metadata": {},
   "outputs": [
    {
     "name": "stderr",
     "output_type": "stream",
     "text": [
      "┌ Warning: could not download https://pkg.julialang.org/registries\n",
      "│   exception = Downloads.RequestError(\"https://pkg.julialang.org/registries\", 6, \"Could not resolve host: eu-central.pkg.julialang.org\", Downloads.Response(\"https\", \"https://eu-central.pkg.julialang.org/registries\", 301, \"HTTP/2 301\", [\"server\" => \"Varnish\", \"retry-after\" => \"0\", \"location\" => \"https://eu-central.pkg.julialang.org/registries\", \"x-geo-continent\" => \"EU\", \"x-geo-country\" => \"DE\", \"x-geo-region\" => \"BY\", \"accept-ranges\" => \"bytes\", \"date\" => \"Sun, 19 Feb 2023 20:07:02 GMT\", \"via\" => \"1.1 varnish\", \"x-served-by\" => \"cache-muc13974-MUC\", \"x-cache\" => \"HIT\", \"x-cache-hits\" => \"0\", \"x-timer\" => \"S1676837223.704874,VS0,VE0\", \"content-length\" => \"0\"]))\n",
      "└ @ Pkg.Registry /cache/build/default-amdci4-6/julialang/julia-release-1-dot-8/usr/share/julia/stdlib/v1.8/Pkg/src/Registry/Registry.jl:68\n",
      "\u001b[32m\u001b[1m    Updating\u001b[22m\u001b[39m registry at `~/.julia/registries/General.toml`\n",
      "\u001b[32m\u001b[1m   Resolving\u001b[22m\u001b[39m package versions...\n",
      "\u001b[32m\u001b[1m  No Changes\u001b[22m\u001b[39m to `~/code/ML-DS-Workshop-23/Project.toml`\n",
      "\u001b[32m\u001b[1m  No Changes\u001b[22m\u001b[39m to `~/code/ML-DS-Workshop-23/Manifest.toml`\n"
     ]
    }
   ],
   "source": [
    "Pkg.add(\"DifferentialEquations\")"
   ]
  },
  {
   "cell_type": "markdown",
   "id": "0aa5e6ca",
   "metadata": {},
   "source": [
    "## 2. DifferentialEquations.jl <a class=\"anchor\" id=\"diffeq\"></a>\n",
    "\n",
    "- [DifferentialEquations.jl](https://diffeq.sciml.ai/stable/) is a comprehensive suite of algorithms for the numerical solution of differential equations in Julia.\n",
    "<br>\n",
    "\n",
    "- We've already installed the package, so now we just need to import it. This is most commonly done with the `using` keyword, although see [here](https://docs.julialang.org/en/v1/manual/code-loading/) for other options and the full story of code loading in Julia."
   ]
  },
  {
   "cell_type": "code",
   "execution_count": 54,
   "id": "5e54edff",
   "metadata": {},
   "outputs": [],
   "source": [
    "using DifferentialEquations"
   ]
  },
  {
   "cell_type": "markdown",
   "id": "88469a93",
   "metadata": {},
   "source": [
    "### 2.1. Solving ODEs <a class=\"anchor\" id=\"solving-odes\"></a>"
   ]
  },
  {
   "cell_type": "markdown",
   "id": "c279f666",
   "metadata": {},
   "source": [
    "- With the package installed and loaded, solving an ODE in Julia is a simple 3-step process.\n",
    "\n",
    "#### Step 1: Define the RHS of your ODE\n",
    "\n",
    "- For a standard ODE of the form $\\dot u = f(u, t; p)$, where $u \\in \\mathbb R^n$, $t \\in \\mathbb R$, and $p \\in \\mathbb R^m$ are some parameters of the the ODE, we need to define $f$ as a Julia function.\n",
    "<br>\n",
    "\n",
    "- In particular, we define a function with signature `(u, p, t)` that returns a vector containing $\\dot u$."
   ]
  },
  {
   "cell_type": "code",
   "execution_count": 55,
   "id": "7c29a641",
   "metadata": {},
   "outputs": [
    {
     "data": {
      "text/plain": [
       "f (generic function with 2 methods)"
      ]
     },
     "execution_count": 55,
     "metadata": {},
     "output_type": "execute_result"
    }
   ],
   "source": [
    "# Lorenz '63\n",
    "function f(u, p, t)\n",
    "    x, y, z = u  # You can unpack the ODE variables and parameters like this\n",
    "    σ, β, ρ = p\n",
    "    \n",
    "    dx = σ * (y - x)\n",
    "    dy = x * (ρ - z) - y\n",
    "    dz = x * y - β * z\n",
    "    \n",
    "    return [dx, dy, dz]  # Return a vector\n",
    "end"
   ]
  },
  {
   "cell_type": "markdown",
   "id": "9e94d5d3",
   "metadata": {},
   "source": [
    "#### Step 2: Set up the ODE Problem\n",
    "\n",
    "- Given `f`, we now need to set up an `ODEProblem` object. See the [docs](https://docs.sciml.ai/DiffEqDocs/latest/basics/problem/) for more details."
   ]
  },
  {
   "cell_type": "code",
   "execution_count": 56,
   "id": "4d1e8567",
   "metadata": {},
   "outputs": [
    {
     "data": {
      "text/plain": [
       "\u001b[38;2;86;182;194mODEProblem\u001b[0m with uType \u001b[38;2;86;182;194mVector{Float64}\u001b[0m and tType \u001b[38;2;86;182;194mFloat64\u001b[0m. In-place: \u001b[38;2;86;182;194mfalse\u001b[0m\n",
       "timespan: (0.0, 10.0)\n",
       "u0: 3-element Vector{Float64}:\n",
       " 0.5087143106577112\n",
       " 0.7220387290925273\n",
       " 0.554321660471579"
      ]
     },
     "execution_count": 56,
     "metadata": {},
     "output_type": "execute_result"
    }
   ],
   "source": [
    "u0 = rand(3)             # Initial conditions\n",
    "tspan = (0.0, 10.0)      # Timespan of the integration\n",
    "p = [10.0, 8 / 3, 28.0]  # Parameters (generally optional)\n",
    "\n",
    "prob = ODEProblem(f, u0, tspan, p)"
   ]
  },
  {
   "cell_type": "markdown",
   "id": "2958817c",
   "metadata": {},
   "source": [
    "#### Step 3: Solve the ODE Problem\n",
    "\n",
    "- All that's left is to solve the ODE problem:"
   ]
  },
  {
   "cell_type": "code",
   "execution_count": 57,
   "id": "6b03d49e",
   "metadata": {},
   "outputs": [
    {
     "data": {
      "text/plain": [
       "retcode: Success\n",
       "Interpolation: specialized 4th order \"free\" interpolation, specialized 2nd order \"free\" stiffness-aware interpolation\n",
       "t: 98-element Vector{Float64}:\n",
       "  0.0\n",
       "  0.037686027031711686\n",
       "  0.06423640192671112\n",
       "  0.10885438709916373\n",
       "  0.15302988397674022\n",
       "  0.20133061019692808\n",
       "  0.2505553496183315\n",
       "  0.30217418372626514\n",
       "  0.3547847618321569\n",
       "  0.407677873576059\n",
       "  0.45247224835476085\n",
       "  0.49906051472202\n",
       "  0.5501392287184734\n",
       "  ⋮\n",
       "  8.895982054220877\n",
       "  8.99879870769752\n",
       "  9.114734498762507\n",
       "  9.208280932224376\n",
       "  9.314506017204021\n",
       "  9.409788826491067\n",
       "  9.533441320933024\n",
       "  9.634056880993645\n",
       "  9.748527973563217\n",
       "  9.840770777437339\n",
       "  9.942399632658445\n",
       " 10.0\n",
       "u: 98-element Vector{Vector{Float64}}:\n",
       " [0.5087143106577112, 0.7220387290925273, 0.554321660471579]\n",
       " [0.6649362036279258, 1.2791846113336978, 0.5220871061012304]\n",
       " [0.868104250729835, 1.793000621061993, 0.5164220785351178]\n",
       " [1.4274555626941074, 3.0612517145926113, 0.5741785858523176]\n",
       " [2.3766333536552793, 5.12949412971582, 0.8312677213101087]\n",
       " [4.151129396529686, 8.911530214591709, 1.757143519332517]\n",
       " [7.226802016080853, 15.14698127024013, 4.678601496124218]\n",
       " [12.28480234085383, 23.71027301880449, 13.335786112521589]\n",
       " [18.11055063526237, 26.85040307180352, 31.60925285714361]\n",
       " [19.08283623554213, 12.69321010736697, 47.32861849832327]\n",
       " [13.692014078534767, -2.1376254108551116, 45.494948401949976]\n",
       " [6.277903170677953, -8.374460413832702, 37.733746739444655]\n",
       " [0.17091326717202193, -9.054475994856663, 31.69299511039665]\n",
       " ⋮\n",
       " [-7.03389254794945, -9.11116125688568, 21.807147589686807]\n",
       " [-9.641616733605275, -12.269225445853877, 24.81812873780573]\n",
       " [-11.21169243064555, -10.622763528995126, 31.15182895359235]\n",
       " [-9.240984944110899, -6.15178591006802, 31.40693606096934]\n",
       " [-6.312373266250075, -4.379639100754093, 27.113187662296315]\n",
       " [-5.422522402560724, -5.464517392829144, 23.32164821482172]\n",
       " [-6.862678687503903, -9.052904473527663, 21.323820229955498]\n",
       " [-9.595258695185882, -12.487026942033022, 24.332692117369035]\n",
       " [-11.469202514252308, -11.06046765264166, 31.2888798929525]\n",
       " [-9.493321200134263, -6.16418786036192, 31.9223608538489]\n",
       " [-6.346278306436551, -4.029469098086202, 27.617950219436807]\n",
       " [-5.382712995884016, -4.358896319561033, 24.962044907334562]"
      ]
     },
     "execution_count": 57,
     "metadata": {},
     "output_type": "execute_result"
    }
   ],
   "source": [
    "sol = solve(prob)"
   ]
  },
  {
   "cell_type": "code",
   "execution_count": 58,
   "id": "2fa6dc71",
   "metadata": {},
   "outputs": [
    {
     "data": {
      "text/plain": [
       "3×98 Matrix{Float64}:\n",
       " 0.508714  0.664936  0.868104  1.42746   …  -9.49332  -6.34628  -5.38271\n",
       " 0.722039  1.27918   1.793     3.06125      -6.16419  -4.02947  -4.3589\n",
       " 0.554322  0.522087  0.516422  0.574179     31.9224   27.618    24.962"
      ]
     },
     "execution_count": 58,
     "metadata": {},
     "output_type": "execute_result"
    }
   ],
   "source": [
    "Array(sol)"
   ]
  },
  {
   "cell_type": "markdown",
   "id": "3a4bdb48",
   "metadata": {},
   "source": [
    "#### Alternative: In-Place Updates\n",
    "\n",
    "- So far we've defined and solved our problem in the out-of-place (OOP) form.\n",
    "<br>\n",
    "\n",
    "- For higher-dimensional problems it might be more efficient to define and solve the problem in the in-place (IIP) form.\n",
    "<br>\n",
    "\n",
    "- In this case the RHS function has the signature `(du, u, p, t)` with the vector `du` containing the derivatives which much be updated."
   ]
  },
  {
   "cell_type": "code",
   "execution_count": 59,
   "id": "a860b1e3",
   "metadata": {},
   "outputs": [
    {
     "data": {
      "text/plain": [
       "f! (generic function with 1 method)"
      ]
     },
     "execution_count": 59,
     "metadata": {},
     "output_type": "execute_result"
    }
   ],
   "source": [
    "# Lorenz '63 (IIP)\n",
    "function f!(du, u, p, t)\n",
    "    x, y, z = u\n",
    "    σ, β, ρ = p\n",
    "    \n",
    "    du[1] = σ * (y - x)\n",
    "    du[2] = x * (ρ - z) - y\n",
    "    du[3] = x * y - β * z\n",
    "    \n",
    "    return nothing\n",
    "end"
   ]
  },
  {
   "cell_type": "markdown",
   "id": "02e9ed8d",
   "metadata": {},
   "source": [
    "- If you're not sure which approach is best for your problem, you can test out different approaches using the useful [BenchmarkTools](https://juliaci.github.io/BenchmarkTools.jl/stable/) package."
   ]
  },
  {
   "cell_type": "code",
   "execution_count": 60,
   "id": "c0fa7fd2",
   "metadata": {},
   "outputs": [
    {
     "data": {
      "text/plain": [
       "BenchmarkTools.Trial: 10000 samples with 1 evaluation.\n",
       " Range \u001b[90m(\u001b[39m\u001b[36m\u001b[1mmin\u001b[22m\u001b[39m … \u001b[35mmax\u001b[39m\u001b[90m):  \u001b[39m\u001b[36m\u001b[1m262.299 μs\u001b[22m\u001b[39m … \u001b[35m33.414 ms\u001b[39m  \u001b[90m┊\u001b[39m GC \u001b[90m(\u001b[39mmin … max\u001b[90m): \u001b[39m 0.00% … 98.45%\n",
       " Time  \u001b[90m(\u001b[39m\u001b[34m\u001b[1mmedian\u001b[22m\u001b[39m\u001b[90m):     \u001b[39m\u001b[34m\u001b[1m452.114 μs              \u001b[22m\u001b[39m\u001b[90m┊\u001b[39m GC \u001b[90m(\u001b[39mmedian\u001b[90m):    \u001b[39m 0.00%\n",
       " Time  \u001b[90m(\u001b[39m\u001b[32m\u001b[1mmean\u001b[22m\u001b[39m ± \u001b[32mσ\u001b[39m\u001b[90m):   \u001b[39m\u001b[32m\u001b[1m478.653 μs\u001b[22m\u001b[39m ± \u001b[32m 1.386 ms\u001b[39m  \u001b[90m┊\u001b[39m GC \u001b[90m(\u001b[39mmean ± σ\u001b[90m):  \u001b[39m15.00% ±  5.11%\n",
       "\n",
       "  \u001b[39m▃\u001b[39m▆\u001b[39m█\u001b[39m▇\u001b[39m▅\u001b[39m▄\u001b[39m▃\u001b[39m▂\u001b[39m▂\u001b[39m▁\u001b[39m \u001b[39m \u001b[39m \u001b[39m \u001b[39m▁\u001b[39m \u001b[39m \u001b[39m \u001b[39m \u001b[39m \u001b[39m \u001b[39m▂\u001b[39m▆\u001b[34m█\u001b[39m\u001b[39m▇\u001b[39m▇\u001b[39m▆\u001b[32m▅\u001b[39m\u001b[39m▄\u001b[39m▂\u001b[39m▁\u001b[39m▁\u001b[39m \u001b[39m \u001b[39m \u001b[39m \u001b[39m \u001b[39m \u001b[39m \u001b[39m \u001b[39m \u001b[39m \u001b[39m \u001b[39m \u001b[39m \u001b[39m \u001b[39m \u001b[39m \u001b[39m \u001b[39m \u001b[39m \u001b[39m \u001b[39m \u001b[39m \u001b[39m \u001b[39m \u001b[39m \u001b[39m \u001b[39m \u001b[39m \u001b[39m \u001b[39m▂\n",
       "  \u001b[39m█\u001b[39m█\u001b[39m█\u001b[39m█\u001b[39m█\u001b[39m█\u001b[39m█\u001b[39m█\u001b[39m█\u001b[39m█\u001b[39m█\u001b[39m█\u001b[39m█\u001b[39m▇\u001b[39m█\u001b[39m▇\u001b[39m▇\u001b[39m▇\u001b[39m▇\u001b[39m▆\u001b[39m▇\u001b[39m█\u001b[39m█\u001b[34m█\u001b[39m\u001b[39m█\u001b[39m█\u001b[39m█\u001b[32m█\u001b[39m\u001b[39m█\u001b[39m█\u001b[39m█\u001b[39m█\u001b[39m█\u001b[39m█\u001b[39m█\u001b[39m█\u001b[39m█\u001b[39m█\u001b[39m▇\u001b[39m▆\u001b[39m▇\u001b[39m▆\u001b[39m▆\u001b[39m▄\u001b[39m▆\u001b[39m▄\u001b[39m▅\u001b[39m▅\u001b[39m▅\u001b[39m▄\u001b[39m▄\u001b[39m▃\u001b[39m▅\u001b[39m▅\u001b[39m▆\u001b[39m▆\u001b[39m▅\u001b[39m▆\u001b[39m▆\u001b[39m▆\u001b[39m \u001b[39m█\n",
       "  262 μs\u001b[90m        \u001b[39m\u001b[90mHistogram: \u001b[39m\u001b[90m\u001b[1mlog(\u001b[22m\u001b[39m\u001b[90mfrequency\u001b[39m\u001b[90m\u001b[1m)\u001b[22m\u001b[39m\u001b[90m by time\u001b[39m       751 μs \u001b[0m\u001b[1m<\u001b[22m\n",
       "\n",
       " Memory estimate\u001b[90m: \u001b[39m\u001b[33m615.08 KiB\u001b[39m, allocs estimate\u001b[90m: \u001b[39m\u001b[33m7744\u001b[39m."
      ]
     },
     "execution_count": 60,
     "metadata": {},
     "output_type": "execute_result"
    }
   ],
   "source": [
    "using BenchmarkTools\n",
    "@benchmark solve(prob)  # experiment with this yourself"
   ]
  },
  {
   "cell_type": "markdown",
   "id": "69813612",
   "metadata": {},
   "source": [
    "### 2.2. Plotting the Solution <a class=\"anchor\" id=\"plotting\"></a>\n",
    "\n",
    "- DifferentialEquations.jl provides recipes for plotting ODE solutions using the Plots.jl package.\n",
    "<br>\n",
    "\n",
    "- First, make sure the Plots.jl package is installed and imported."
   ]
  },
  {
   "cell_type": "code",
   "execution_count": 61,
   "id": "c5dcbf6b",
   "metadata": {},
   "outputs": [
    {
     "name": "stderr",
     "output_type": "stream",
     "text": [
      "\u001b[32m\u001b[1m   Resolving\u001b[22m\u001b[39m package versions...\n",
      "\u001b[32m\u001b[1m  No Changes\u001b[22m\u001b[39m to `~/code/ML-DS-Workshop-23/Project.toml`\n",
      "\u001b[32m\u001b[1m  No Changes\u001b[22m\u001b[39m to `~/code/ML-DS-Workshop-23/Manifest.toml`\n",
      "┌ Info: Precompiling Plots [91a5bcdd-55d7-5caf-9e0b-520d859cae80]\n",
      "└ @ Base loading.jl:1664\n",
      "\u001b[36m\u001b[1m[ \u001b[22m\u001b[39m\u001b[36m\u001b[1mInfo: \u001b[22m\u001b[39mGR\n"
     ]
    }
   ],
   "source": [
    "Pkg.add(\"Plots\")\n",
    "using Plots"
   ]
  },
  {
   "cell_type": "markdown",
   "id": "bcf60511",
   "metadata": {},
   "source": [
    "- Then, plotting trajectories is as simple as calling `plot` with the solution object (this is an example of multiple dispatch!)."
   ]
  },
  {
   "cell_type": "code",
   "execution_count": 62,
   "id": "0b263b1c",
   "metadata": {},
   "outputs": [
    {
     "data": {
      "image/svg+xml": [
       "<?xml version=\"1.0\" encoding=\"utf-8\"?>\n",
       "<svg xmlns=\"http://www.w3.org/2000/svg\" xmlns:xlink=\"http://www.w3.org/1999/xlink\" width=\"600\" height=\"400\" viewBox=\"0 0 2400 1600\">\n",
       "<defs>\n",
       "  <clipPath id=\"clip560\">\n",
       "    <rect x=\"0\" y=\"0\" width=\"2400\" height=\"1600\"/>\n",
       "  </clipPath>\n",
       "</defs>\n",
       "<path clip-path=\"url(#clip560)\" d=\"M0 1600 L2400 1600 L2400 0 L0 0  Z\" fill=\"#ffffff\" fill-rule=\"evenodd\" fill-opacity=\"1\"/>\n",
       "<defs>\n",
       "  <clipPath id=\"clip561\">\n",
       "    <rect x=\"480\" y=\"0\" width=\"1681\" height=\"1600\"/>\n",
       "  </clipPath>\n",
       "</defs>\n",
       "<path clip-path=\"url(#clip560)\" d=\"M178.867 1423.18 L2352.76 1423.18 L2352.76 47.2441 L178.867 47.2441  Z\" fill=\"#ffffff\" fill-rule=\"evenodd\" fill-opacity=\"1\"/>\n",
       "<defs>\n",
       "  <clipPath id=\"clip562\">\n",
       "    <rect x=\"178\" y=\"47\" width=\"2175\" height=\"1377\"/>\n",
       "  </clipPath>\n",
       "</defs>\n",
       "<polyline clip-path=\"url(#clip562)\" style=\"stroke:#000000; stroke-linecap:round; stroke-linejoin:round; stroke-width:2; stroke-opacity:0.1; fill:none\" points=\"178.867,1423.18 178.867,47.2441 \"/>\n",
       "<polyline clip-path=\"url(#clip562)\" style=\"stroke:#000000; stroke-linecap:round; stroke-linejoin:round; stroke-width:2; stroke-opacity:0.1; fill:none\" points=\"613.644,1423.18 613.644,47.2441 \"/>\n",
       "<polyline clip-path=\"url(#clip562)\" style=\"stroke:#000000; stroke-linecap:round; stroke-linejoin:round; stroke-width:2; stroke-opacity:0.1; fill:none\" points=\"1048.42,1423.18 1048.42,47.2441 \"/>\n",
       "<polyline clip-path=\"url(#clip562)\" style=\"stroke:#000000; stroke-linecap:round; stroke-linejoin:round; stroke-width:2; stroke-opacity:0.1; fill:none\" points=\"1483.2,1423.18 1483.2,47.2441 \"/>\n",
       "<polyline clip-path=\"url(#clip562)\" style=\"stroke:#000000; stroke-linecap:round; stroke-linejoin:round; stroke-width:2; stroke-opacity:0.1; fill:none\" points=\"1917.98,1423.18 1917.98,47.2441 \"/>\n",
       "<polyline clip-path=\"url(#clip562)\" style=\"stroke:#000000; stroke-linecap:round; stroke-linejoin:round; stroke-width:2; stroke-opacity:0.1; fill:none\" points=\"2352.76,1423.18 2352.76,47.2441 \"/>\n",
       "<polyline clip-path=\"url(#clip560)\" style=\"stroke:#000000; stroke-linecap:round; stroke-linejoin:round; stroke-width:4; stroke-opacity:1; fill:none\" points=\"178.867,1423.18 2352.76,1423.18 \"/>\n",
       "<polyline clip-path=\"url(#clip560)\" style=\"stroke:#000000; stroke-linecap:round; stroke-linejoin:round; stroke-width:4; stroke-opacity:1; fill:none\" points=\"178.867,1423.18 178.867,1404.28 \"/>\n",
       "<polyline clip-path=\"url(#clip560)\" style=\"stroke:#000000; stroke-linecap:round; stroke-linejoin:round; stroke-width:4; stroke-opacity:1; fill:none\" points=\"613.644,1423.18 613.644,1404.28 \"/>\n",
       "<polyline clip-path=\"url(#clip560)\" style=\"stroke:#000000; stroke-linecap:round; stroke-linejoin:round; stroke-width:4; stroke-opacity:1; fill:none\" points=\"1048.42,1423.18 1048.42,1404.28 \"/>\n",
       "<polyline clip-path=\"url(#clip560)\" style=\"stroke:#000000; stroke-linecap:round; stroke-linejoin:round; stroke-width:4; stroke-opacity:1; fill:none\" points=\"1483.2,1423.18 1483.2,1404.28 \"/>\n",
       "<polyline clip-path=\"url(#clip560)\" style=\"stroke:#000000; stroke-linecap:round; stroke-linejoin:round; stroke-width:4; stroke-opacity:1; fill:none\" points=\"1917.98,1423.18 1917.98,1404.28 \"/>\n",
       "<polyline clip-path=\"url(#clip560)\" style=\"stroke:#000000; stroke-linecap:round; stroke-linejoin:round; stroke-width:4; stroke-opacity:1; fill:none\" points=\"2352.76,1423.18 2352.76,1404.28 \"/>\n",
       "<path clip-path=\"url(#clip560)\" d=\"M178.867 1454.1 Q175.256 1454.1 173.427 1457.66 Q171.621 1461.2 171.621 1468.33 Q171.621 1475.44 173.427 1479.01 Q175.256 1482.55 178.867 1482.55 Q182.501 1482.55 184.306 1479.01 Q186.135 1475.44 186.135 1468.33 Q186.135 1461.2 184.306 1457.66 Q182.501 1454.1 178.867 1454.1 M178.867 1450.39 Q184.677 1450.39 187.732 1455 Q190.811 1459.58 190.811 1468.33 Q190.811 1477.06 187.732 1481.67 Q184.677 1486.25 178.867 1486.25 Q173.056 1486.25 169.978 1481.67 Q166.922 1477.06 166.922 1468.33 Q166.922 1459.58 169.978 1455 Q173.056 1450.39 178.867 1450.39 Z\" fill=\"#000000\" fill-rule=\"evenodd\" fill-opacity=\"1\" /><path clip-path=\"url(#clip560)\" d=\"M608.297 1481.64 L624.617 1481.64 L624.617 1485.58 L602.672 1485.58 L602.672 1481.64 Q605.334 1478.89 609.918 1474.26 Q614.524 1469.61 615.705 1468.27 Q617.95 1465.74 618.83 1464.01 Q619.732 1462.25 619.732 1460.56 Q619.732 1457.8 617.788 1456.07 Q615.867 1454.33 612.765 1454.33 Q610.566 1454.33 608.112 1455.09 Q605.682 1455.86 602.904 1457.41 L602.904 1452.69 Q605.728 1451.55 608.182 1450.97 Q610.635 1450.39 612.672 1450.39 Q618.043 1450.39 621.237 1453.08 Q624.431 1455.77 624.431 1460.26 Q624.431 1462.39 623.621 1464.31 Q622.834 1466.2 620.728 1468.8 Q620.149 1469.47 617.047 1472.69 Q613.945 1475.88 608.297 1481.64 Z\" fill=\"#000000\" fill-rule=\"evenodd\" fill-opacity=\"1\" /><path clip-path=\"url(#clip560)\" d=\"M1051.43 1455.09 L1039.63 1473.54 L1051.43 1473.54 L1051.43 1455.09 M1050.2 1451.02 L1056.08 1451.02 L1056.08 1473.54 L1061.01 1473.54 L1061.01 1477.43 L1056.08 1477.43 L1056.08 1485.58 L1051.43 1485.58 L1051.43 1477.43 L1035.83 1477.43 L1035.83 1472.92 L1050.2 1451.02 Z\" fill=\"#000000\" fill-rule=\"evenodd\" fill-opacity=\"1\" /><path clip-path=\"url(#clip560)\" d=\"M1483.61 1466.44 Q1480.46 1466.44 1478.61 1468.59 Q1476.78 1470.74 1476.78 1474.49 Q1476.78 1478.22 1478.61 1480.39 Q1480.46 1482.55 1483.61 1482.55 Q1486.75 1482.55 1488.58 1480.39 Q1490.43 1478.22 1490.43 1474.49 Q1490.43 1470.74 1488.58 1468.59 Q1486.75 1466.44 1483.61 1466.44 M1492.89 1451.78 L1492.89 1456.04 Q1491.13 1455.21 1489.32 1454.77 Q1487.54 1454.33 1485.78 1454.33 Q1481.15 1454.33 1478.7 1457.45 Q1476.27 1460.58 1475.92 1466.9 Q1477.29 1464.89 1479.35 1463.82 Q1481.41 1462.73 1483.88 1462.73 Q1489.09 1462.73 1492.1 1465.9 Q1495.13 1469.05 1495.13 1474.49 Q1495.13 1479.82 1491.98 1483.03 Q1488.84 1486.25 1483.61 1486.25 Q1477.61 1486.25 1474.44 1481.67 Q1471.27 1477.06 1471.27 1468.33 Q1471.27 1460.14 1475.16 1455.28 Q1479.05 1450.39 1485.6 1450.39 Q1487.36 1450.39 1489.14 1450.74 Q1490.94 1451.09 1492.89 1451.78 Z\" fill=\"#000000\" fill-rule=\"evenodd\" fill-opacity=\"1\" /><path clip-path=\"url(#clip560)\" d=\"M1917.98 1469.17 Q1914.64 1469.17 1912.72 1470.95 Q1910.83 1472.73 1910.83 1475.86 Q1910.83 1478.98 1912.72 1480.77 Q1914.64 1482.55 1917.98 1482.55 Q1921.31 1482.55 1923.23 1480.77 Q1925.15 1478.96 1925.15 1475.86 Q1925.15 1472.73 1923.23 1470.95 Q1921.33 1469.17 1917.98 1469.17 M1913.3 1467.18 Q1910.29 1466.44 1908.6 1464.38 Q1906.94 1462.32 1906.94 1459.35 Q1906.94 1455.21 1909.88 1452.8 Q1912.84 1450.39 1917.98 1450.39 Q1923.14 1450.39 1926.08 1452.8 Q1929.02 1455.21 1929.02 1459.35 Q1929.02 1462.32 1927.33 1464.38 Q1925.66 1466.44 1922.68 1467.18 Q1926.06 1467.96 1927.93 1470.26 Q1929.83 1472.55 1929.83 1475.86 Q1929.83 1480.88 1926.75 1483.57 Q1923.7 1486.25 1917.98 1486.25 Q1912.26 1486.25 1909.18 1483.57 Q1906.13 1480.88 1906.13 1475.86 Q1906.13 1472.55 1908.02 1470.26 Q1909.92 1467.96 1913.3 1467.18 M1911.59 1459.79 Q1911.59 1462.48 1913.26 1463.98 Q1914.95 1465.49 1917.98 1465.49 Q1920.99 1465.49 1922.68 1463.98 Q1924.39 1462.48 1924.39 1459.79 Q1924.39 1457.11 1922.68 1455.6 Q1920.99 1454.1 1917.98 1454.1 Q1914.95 1454.1 1913.26 1455.6 Q1911.59 1457.11 1911.59 1459.79 Z\" fill=\"#000000\" fill-rule=\"evenodd\" fill-opacity=\"1\" /><path clip-path=\"url(#clip560)\" d=\"M2327.44 1481.64 L2335.08 1481.64 L2335.08 1455.28 L2326.77 1456.95 L2326.77 1452.69 L2335.04 1451.02 L2339.71 1451.02 L2339.71 1481.64 L2347.35 1481.64 L2347.35 1485.58 L2327.44 1485.58 L2327.44 1481.64 Z\" fill=\"#000000\" fill-rule=\"evenodd\" fill-opacity=\"1\" /><path clip-path=\"url(#clip560)\" d=\"M2366.8 1454.1 Q2363.18 1454.1 2361.36 1457.66 Q2359.55 1461.2 2359.55 1468.33 Q2359.55 1475.44 2361.36 1479.01 Q2363.18 1482.55 2366.8 1482.55 Q2370.43 1482.55 2372.23 1479.01 Q2374.06 1475.44 2374.06 1468.33 Q2374.06 1461.2 2372.23 1457.66 Q2370.43 1454.1 2366.8 1454.1 M2366.8 1450.39 Q2372.61 1450.39 2375.66 1455 Q2378.74 1459.58 2378.74 1468.33 Q2378.74 1477.06 2375.66 1481.67 Q2372.61 1486.25 2366.8 1486.25 Q2360.99 1486.25 2357.91 1481.67 Q2354.85 1477.06 2354.85 1468.33 Q2354.85 1459.58 2357.91 1455 Q2360.99 1450.39 2366.8 1450.39 Z\" fill=\"#000000\" fill-rule=\"evenodd\" fill-opacity=\"1\" /><path clip-path=\"url(#clip560)\" d=\"M1264.87 1522.27 L1264.87 1532.4 L1276.94 1532.4 L1276.94 1536.95 L1264.87 1536.95 L1264.87 1556.3 Q1264.87 1560.66 1266.05 1561.9 Q1267.26 1563.14 1270.92 1563.14 L1276.94 1563.14 L1276.94 1568.04 L1270.92 1568.04 Q1264.14 1568.04 1261.56 1565.53 Q1258.98 1562.98 1258.98 1556.3 L1258.98 1536.95 L1254.69 1536.95 L1254.69 1532.4 L1258.98 1532.4 L1258.98 1522.27 L1264.87 1522.27 Z\" fill=\"#000000\" fill-rule=\"evenodd\" fill-opacity=\"1\" /><polyline clip-path=\"url(#clip562)\" style=\"stroke:#000000; stroke-linecap:round; stroke-linejoin:round; stroke-width:2; stroke-opacity:0.1; fill:none\" points=\"178.867,1321.22 2352.76,1321.22 \"/>\n",
       "<polyline clip-path=\"url(#clip562)\" style=\"stroke:#000000; stroke-linecap:round; stroke-linejoin:round; stroke-width:2; stroke-opacity:0.1; fill:none\" points=\"178.867,1108.8 2352.76,1108.8 \"/>\n",
       "<polyline clip-path=\"url(#clip562)\" style=\"stroke:#000000; stroke-linecap:round; stroke-linejoin:round; stroke-width:2; stroke-opacity:0.1; fill:none\" points=\"178.867,896.385 2352.76,896.385 \"/>\n",
       "<polyline clip-path=\"url(#clip562)\" style=\"stroke:#000000; stroke-linecap:round; stroke-linejoin:round; stroke-width:2; stroke-opacity:0.1; fill:none\" points=\"178.867,683.968 2352.76,683.968 \"/>\n",
       "<polyline clip-path=\"url(#clip562)\" style=\"stroke:#000000; stroke-linecap:round; stroke-linejoin:round; stroke-width:2; stroke-opacity:0.1; fill:none\" points=\"178.867,471.551 2352.76,471.551 \"/>\n",
       "<polyline clip-path=\"url(#clip562)\" style=\"stroke:#000000; stroke-linecap:round; stroke-linejoin:round; stroke-width:2; stroke-opacity:0.1; fill:none\" points=\"178.867,259.134 2352.76,259.134 \"/>\n",
       "<polyline clip-path=\"url(#clip560)\" style=\"stroke:#000000; stroke-linecap:round; stroke-linejoin:round; stroke-width:4; stroke-opacity:1; fill:none\" points=\"178.867,1423.18 178.867,47.2441 \"/>\n",
       "<polyline clip-path=\"url(#clip560)\" style=\"stroke:#000000; stroke-linecap:round; stroke-linejoin:round; stroke-width:4; stroke-opacity:1; fill:none\" points=\"178.867,1321.22 197.764,1321.22 \"/>\n",
       "<polyline clip-path=\"url(#clip560)\" style=\"stroke:#000000; stroke-linecap:round; stroke-linejoin:round; stroke-width:4; stroke-opacity:1; fill:none\" points=\"178.867,1108.8 197.764,1108.8 \"/>\n",
       "<polyline clip-path=\"url(#clip560)\" style=\"stroke:#000000; stroke-linecap:round; stroke-linejoin:round; stroke-width:4; stroke-opacity:1; fill:none\" points=\"178.867,896.385 197.764,896.385 \"/>\n",
       "<polyline clip-path=\"url(#clip560)\" style=\"stroke:#000000; stroke-linecap:round; stroke-linejoin:round; stroke-width:4; stroke-opacity:1; fill:none\" points=\"178.867,683.968 197.764,683.968 \"/>\n",
       "<polyline clip-path=\"url(#clip560)\" style=\"stroke:#000000; stroke-linecap:round; stroke-linejoin:round; stroke-width:4; stroke-opacity:1; fill:none\" points=\"178.867,471.551 197.764,471.551 \"/>\n",
       "<polyline clip-path=\"url(#clip560)\" style=\"stroke:#000000; stroke-linecap:round; stroke-linejoin:round; stroke-width:4; stroke-opacity:1; fill:none\" points=\"178.867,259.134 197.764,259.134 \"/>\n",
       "<path clip-path=\"url(#clip560)\" d=\"M50.9921 1321.67 L80.6679 1321.67 L80.6679 1325.61 L50.9921 1325.61 L50.9921 1321.67 Z\" fill=\"#000000\" fill-rule=\"evenodd\" fill-opacity=\"1\" /><path clip-path=\"url(#clip560)\" d=\"M91.5706 1334.56 L99.2095 1334.56 L99.2095 1308.2 L90.8993 1309.86 L90.8993 1305.61 L99.1632 1303.94 L103.839 1303.94 L103.839 1334.56 L111.478 1334.56 L111.478 1338.5 L91.5706 1338.5 L91.5706 1334.56 Z\" fill=\"#000000\" fill-rule=\"evenodd\" fill-opacity=\"1\" /><path clip-path=\"url(#clip560)\" d=\"M130.922 1307.02 Q127.311 1307.02 125.482 1310.58 Q123.677 1314.12 123.677 1321.25 Q123.677 1328.36 125.482 1331.92 Q127.311 1335.47 130.922 1335.47 Q134.556 1335.47 136.362 1331.92 Q138.191 1328.36 138.191 1321.25 Q138.191 1314.12 136.362 1310.58 Q134.556 1307.02 130.922 1307.02 M130.922 1303.31 Q136.732 1303.31 139.788 1307.92 Q142.867 1312.5 142.867 1321.25 Q142.867 1329.98 139.788 1334.59 Q136.732 1339.17 130.922 1339.17 Q125.112 1339.17 122.033 1334.59 Q118.978 1329.98 118.978 1321.25 Q118.978 1312.5 122.033 1307.92 Q125.112 1303.31 130.922 1303.31 Z\" fill=\"#000000\" fill-rule=\"evenodd\" fill-opacity=\"1\" /><path clip-path=\"url(#clip560)\" d=\"M130.922 1094.6 Q127.311 1094.6 125.482 1098.17 Q123.677 1101.71 123.677 1108.84 Q123.677 1115.94 125.482 1119.51 Q127.311 1123.05 130.922 1123.05 Q134.556 1123.05 136.362 1119.51 Q138.191 1115.94 138.191 1108.84 Q138.191 1101.71 136.362 1098.17 Q134.556 1094.6 130.922 1094.6 M130.922 1090.9 Q136.732 1090.9 139.788 1095.5 Q142.867 1100.09 142.867 1108.84 Q142.867 1117.56 139.788 1122.17 Q136.732 1126.75 130.922 1126.75 Q125.112 1126.75 122.033 1122.17 Q118.978 1117.56 118.978 1108.84 Q118.978 1100.09 122.033 1095.5 Q125.112 1090.9 130.922 1090.9 Z\" fill=\"#000000\" fill-rule=\"evenodd\" fill-opacity=\"1\" /><path clip-path=\"url(#clip560)\" d=\"M91.5706 909.73 L99.2095 909.73 L99.2095 883.364 L90.8993 885.031 L90.8993 880.771 L99.1632 879.105 L103.839 879.105 L103.839 909.73 L111.478 909.73 L111.478 913.665 L91.5706 913.665 L91.5706 909.73 Z\" fill=\"#000000\" fill-rule=\"evenodd\" fill-opacity=\"1\" /><path clip-path=\"url(#clip560)\" d=\"M130.922 882.183 Q127.311 882.183 125.482 885.748 Q123.677 889.29 123.677 896.419 Q123.677 903.526 125.482 907.091 Q127.311 910.632 130.922 910.632 Q134.556 910.632 136.362 907.091 Q138.191 903.526 138.191 896.419 Q138.191 889.29 136.362 885.748 Q134.556 882.183 130.922 882.183 M130.922 878.48 Q136.732 878.48 139.788 883.086 Q142.867 887.669 142.867 896.419 Q142.867 905.146 139.788 909.753 Q136.732 914.336 130.922 914.336 Q125.112 914.336 122.033 909.753 Q118.978 905.146 118.978 896.419 Q118.978 887.669 122.033 883.086 Q125.112 878.48 130.922 878.48 Z\" fill=\"#000000\" fill-rule=\"evenodd\" fill-opacity=\"1\" /><path clip-path=\"url(#clip560)\" d=\"M94.7882 697.313 L111.108 697.313 L111.108 701.248 L89.1632 701.248 L89.1632 697.313 Q91.8252 694.558 96.4085 689.928 Q101.015 685.276 102.196 683.933 Q104.441 681.41 105.321 679.674 Q106.223 677.915 106.223 676.225 Q106.223 673.47 104.279 671.734 Q102.358 669.998 99.2558 669.998 Q97.0567 669.998 94.603 670.762 Q92.1725 671.526 89.3947 673.077 L89.3947 668.354 Q92.2188 667.22 94.6724 666.641 Q97.1261 666.063 99.1632 666.063 Q104.534 666.063 107.728 668.748 Q110.922 671.433 110.922 675.924 Q110.922 678.053 110.112 679.975 Q109.325 681.873 107.219 684.465 Q106.64 685.137 103.538 688.354 Q100.436 691.549 94.7882 697.313 Z\" fill=\"#000000\" fill-rule=\"evenodd\" fill-opacity=\"1\" /><path clip-path=\"url(#clip560)\" d=\"M130.922 669.766 Q127.311 669.766 125.482 673.331 Q123.677 676.873 123.677 684.002 Q123.677 691.109 125.482 694.674 Q127.311 698.215 130.922 698.215 Q134.556 698.215 136.362 694.674 Q138.191 691.109 138.191 684.002 Q138.191 676.873 136.362 673.331 Q134.556 669.766 130.922 669.766 M130.922 666.063 Q136.732 666.063 139.788 670.669 Q142.867 675.253 142.867 684.002 Q142.867 692.729 139.788 697.336 Q136.732 701.919 130.922 701.919 Q125.112 701.919 122.033 697.336 Q118.978 692.729 118.978 684.002 Q118.978 675.253 122.033 670.669 Q125.112 666.063 130.922 666.063 Z\" fill=\"#000000\" fill-rule=\"evenodd\" fill-opacity=\"1\" /><path clip-path=\"url(#clip560)\" d=\"M104.927 470.197 Q108.283 470.914 110.158 473.183 Q112.057 475.451 112.057 478.785 Q112.057 483.9 108.538 486.701 Q105.02 489.502 98.5382 489.502 Q96.3623 489.502 94.0475 489.062 Q91.7558 488.646 89.3021 487.789 L89.3021 483.275 Q91.2465 484.41 93.5613 484.988 Q95.8761 485.567 98.3993 485.567 Q102.797 485.567 105.089 483.831 Q107.404 482.095 107.404 478.785 Q107.404 475.729 105.251 474.016 Q103.121 472.28 99.3021 472.28 L95.2743 472.28 L95.2743 468.437 L99.4872 468.437 Q102.936 468.437 104.765 467.072 Q106.594 465.683 106.594 463.09 Q106.594 460.428 104.696 459.016 Q102.821 457.581 99.3021 457.581 Q97.3808 457.581 95.1817 457.998 Q92.9826 458.414 90.3438 459.294 L90.3438 455.127 Q93.0058 454.387 95.3206 454.016 Q97.6585 453.646 99.7187 453.646 Q105.043 453.646 108.145 456.076 Q111.246 458.484 111.246 462.604 Q111.246 465.474 109.603 467.465 Q107.959 469.433 104.927 470.197 Z\" fill=\"#000000\" fill-rule=\"evenodd\" fill-opacity=\"1\" /><path clip-path=\"url(#clip560)\" d=\"M130.922 457.35 Q127.311 457.35 125.482 460.914 Q123.677 464.456 123.677 471.586 Q123.677 478.692 125.482 482.257 Q127.311 485.798 130.922 485.798 Q134.556 485.798 136.362 482.257 Q138.191 478.692 138.191 471.586 Q138.191 464.456 136.362 460.914 Q134.556 457.35 130.922 457.35 M130.922 453.646 Q136.732 453.646 139.788 458.252 Q142.867 462.836 142.867 471.586 Q142.867 480.312 139.788 484.919 Q136.732 489.502 130.922 489.502 Q125.112 489.502 122.033 484.919 Q118.978 480.312 118.978 471.586 Q118.978 462.836 122.033 458.252 Q125.112 453.646 130.922 453.646 Z\" fill=\"#000000\" fill-rule=\"evenodd\" fill-opacity=\"1\" /><path clip-path=\"url(#clip560)\" d=\"M103.608 245.928 L91.8021 264.377 L103.608 264.377 L103.608 245.928 M102.381 241.854 L108.26 241.854 L108.26 264.377 L113.191 264.377 L113.191 268.266 L108.26 268.266 L108.26 276.414 L103.608 276.414 L103.608 268.266 L88.0058 268.266 L88.0058 263.752 L102.381 241.854 Z\" fill=\"#000000\" fill-rule=\"evenodd\" fill-opacity=\"1\" /><path clip-path=\"url(#clip560)\" d=\"M130.922 244.933 Q127.311 244.933 125.482 248.497 Q123.677 252.039 123.677 259.169 Q123.677 266.275 125.482 269.84 Q127.311 273.382 130.922 273.382 Q134.556 273.382 136.362 269.84 Q138.191 266.275 138.191 259.169 Q138.191 252.039 136.362 248.497 Q134.556 244.933 130.922 244.933 M130.922 241.229 Q136.732 241.229 139.788 245.835 Q142.867 250.419 142.867 259.169 Q142.867 267.895 139.788 272.502 Q136.732 277.085 130.922 277.085 Q125.112 277.085 122.033 272.502 Q118.978 267.895 118.978 259.169 Q118.978 250.419 122.033 245.835 Q125.112 241.229 130.922 241.229 Z\" fill=\"#000000\" fill-rule=\"evenodd\" fill-opacity=\"1\" /><polyline clip-path=\"url(#clip562)\" style=\"stroke:#009af9; stroke-linecap:round; stroke-linejoin:round; stroke-width:4; stroke-opacity:1; fill:none\" points=\"178.867,1098 181.043,1097.43 183.219,1096.63 185.395,1095.61 187.571,1094.36 189.747,1092.88 191.923,1091.16 194.099,1089.17 196.275,1086.89 198.451,1084.3 200.627,1081.36 202.803,1078.04 204.979,1074.29 207.155,1070.07 209.332,1065.32 211.508,1059.97 213.684,1053.97 215.86,1047.24 218.036,1039.68 220.212,1031.22 222.388,1021.76 224.564,1011.2 226.74,999.423 228.916,986.33 231.092,971.819 233.268,955.805 235.444,938.228 237.62,919.04 239.796,898.246 241.973,875.956 244.149,852.383 246.325,827.853 248.501,802.857 250.677,778.064 252.853,754.331 255.029,732.7 257.205,714.374 259.381,700.545 261.557,692.302 263.733,690.436 265.909,695.421 268.085,707.41 270.261,725.989 272.437,750.24 274.614,779.066 276.79,811.196 278.966,845.254 281.142,880.059 283.318,914.6 285.494,948.079 287.67,979.909 289.846,1009.7 292.022,1037.25 294.198,1062.47 296.374,1085.36 298.55,1105.98 300.726,1124.46 302.902,1140.97 305.078,1155.66 307.254,1168.7 309.431,1180.27 311.607,1190.54 313.783,1199.68 315.959,1207.81 318.135,1215.06 320.311,1221.55 322.487,1227.41 324.663,1232.74 326.839,1237.62 329.015,1242.12 331.191,1246.3 333.367,1250.24 335.543,1253.96 337.719,1257.53 339.895,1260.97 342.072,1264.31 344.248,1267.56 346.424,1270.75 348.6,1273.88 350.776,1276.96 352.952,1280 355.128,1282.98 357.304,1285.92 359.48,1288.78 361.656,1291.57 363.832,1294.25 366.008,1296.83 368.184,1299.28 370.36,1301.58 372.536,1303.72 374.713,1305.66 376.889,1307.39 379.065,1308.89 381.241,1310.14 383.417,1311.13 385.593,1311.84 387.769,1312.26 389.945,1312.4 392.121,1312.24 394.297,1311.79 396.473,1311.06 398.649,1310.05 400.825,1308.78 403.001,1307.26 405.177,1305.52 407.353,1303.58 409.53,1301.46 411.706,1299.2 413.882,1296.83 416.058,1294.37 418.234,1291.86 420.41,1289.32 422.586,1286.79 424.762,1284.28 426.938,1281.83 429.114,1279.46 431.29,1277.2 433.466,1275.07 435.642,1273.09 437.818,1271.28 439.994,1269.64 442.171,1268.19 444.347,1266.94 446.523,1265.89 448.699,1265.06 450.875,1264.45 453.051,1264.06 455.227,1263.89 457.403,1263.93 459.579,1264.19 461.755,1264.67 463.931,1265.36 466.107,1266.27 468.283,1267.38 470.459,1268.7 472.635,1270.2 474.812,1271.88 476.988,1273.72 479.164,1275.71 481.34,1277.82 483.516,1280.05 485.692,1282.37 487.868,1284.77 490.044,1287.24 492.22,1289.74 494.396,1292.26 496.572,1294.77 498.748,1297.24 500.924,1299.65 503.1,1301.97 505.276,1304.17 507.452,1306.21 509.629,1308.08 511.805,1309.75 513.981,1311.2 516.157,1312.39 518.333,1313.32 520.509,1313.97 522.685,1314.32 524.861,1314.38 527.037,1314.13 529.213,1313.58 531.389,1312.73 533.565,1311.58 535.741,1310.16 537.917,1308.48 540.093,1306.57 542.27,1304.46 544.446,1302.16 546.622,1299.72 548.798,1297.15 550.974,1294.49 553.15,1291.78 555.326,1289.05 557.502,1286.32 559.678,1283.65 561.854,1281.04 564.03,1278.53 566.206,1276.13 568.382,1273.88 570.558,1271.78 572.734,1269.85 574.911,1268.12 577.087,1266.59 579.263,1265.28 581.439,1264.19 583.615,1263.33 585.791,1262.7 587.967,1262.31 590.143,1262.14 592.319,1262.22 594.495,1262.52 596.671,1263.06 598.847,1263.83 601.023,1264.82 603.199,1266.02 605.375,1267.43 607.552,1269.02 609.728,1270.8 611.904,1272.74 614.08,1274.83 616.256,1277.06 618.432,1279.41 620.608,1281.88 622.784,1284.44 624.96,1287.08 627.136,1289.76 629.312,1292.46 631.488,1295.16 633.664,1297.82 635.84,1300.4 638.016,1302.88 640.192,1305.22 642.369,1307.41 644.545,1309.41 646.721,1311.19 648.897,1312.73 651.073,1314 653.249,1314.99 655.425,1315.67 657.601,1316.04 659.777,1316.08 661.953,1315.8 664.129,1315.2 666.305,1314.26 668.481,1313.01 670.657,1311.47 672.833,1309.65 675.01,1307.59 677.186,1305.31 679.362,1302.84 681.538,1300.21 683.714,1297.45 685.89,1294.6 688.066,1291.7 690.242,1288.77 692.418,1285.86 694.594,1283 696.77,1280.22 698.946,1277.55 701.122,1275 703.298,1272.61 705.474,1270.38 707.651,1268.34 709.827,1266.51 712.003,1264.9 714.179,1263.51 716.355,1262.37 718.531,1261.48 720.707,1260.84 722.883,1260.44 725.059,1260.28 727.235,1260.37 729.411,1260.71 731.587,1261.29 733.763,1262.12 735.939,1263.17 738.115,1264.46 740.291,1265.95 742.468,1267.65 744.644,1269.54 746.82,1271.6 748.996,1273.81 751.172,1276.18 753.348,1278.68 755.524,1281.3 757.7,1284.02 759.876,1286.83 762.052,1289.69 764.228,1292.57 766.404,1295.45 768.58,1298.3 770.756,1301.07 772.932,1303.73 775.109,1306.24 777.285,1308.58 779.461,1310.73 781.637,1312.65 783.813,1314.3 785.989,1315.67 788.165,1316.73 790.341,1317.46 792.517,1317.86 794.693,1317.91 796.869,1317.61 799.045,1316.96 801.221,1315.95 803.397,1314.61 805.573,1312.95 807.75,1310.99 809.926,1308.77 812.102,1306.32 814.278,1303.66 816.454,1300.84 818.63,1297.88 820.806,1294.82 822.982,1291.71 825.158,1288.57 827.334,1285.46 829.51,1282.4 831.686,1279.43 833.862,1276.58 836.038,1273.87 838.214,1271.32 840.39,1268.96 842.567,1266.8 844.743,1264.86 846.919,1263.15 849.095,1261.69 851.271,1260.48 853.447,1259.53 855.623,1258.85 857.799,1258.43 859.975,1258.26 862.151,1258.36 864.327,1258.71 866.503,1259.32 868.679,1260.19 870.855,1261.3 873.031,1262.65 875.208,1264.23 877.384,1266.03 879.56,1268.02 881.736,1270.2 883.912,1272.55 886.088,1275.05 888.264,1277.7 890.44,1280.48 892.616,1283.37 894.792,1286.35 896.968,1289.4 899.144,1292.47 901.32,1295.55 903.496,1298.59 905.672,1301.57 907.849,1304.43 910.025,1307.13 912.201,1309.66 914.377,1311.99 916.553,1314.07 918.729,1315.87 920.905,1317.37 923.081,1318.53 925.257,1319.35 927.433,1319.81 929.609,1319.89 931.785,1319.6 933.961,1318.92 936.137,1317.87 938.313,1316.44 940.49,1314.67 942.666,1312.58 944.842,1310.21 947.018,1307.58 949.194,1304.74 951.37,1301.71 953.546,1298.54 955.722,1295.26 957.898,1291.92 960.074,1288.56 962.25,1285.23 964.426,1281.95 966.602,1278.78 968.778,1275.73 970.954,1272.83 973.13,1270.11 975.307,1267.58 977.483,1265.27 979.659,1263.19 981.835,1261.37 984.011,1259.8 986.187,1258.5 988.363,1257.49 990.539,1256.75 992.715,1256.28 994.891,1256.08 997.067,1256.16 999.243,1256.51 1001.42,1257.14 1003.6,1258.03 1005.77,1259.18 1007.95,1260.59 1010.12,1262.23 1012.3,1264.11 1014.48,1266.19 1016.65,1268.47 1018.83,1270.94 1021,1273.58 1023.18,1276.37 1025.36,1279.32 1027.53,1282.38 1029.71,1285.55 1031.88,1288.8 1034.06,1292.08 1036.24,1295.38 1038.41,1298.64 1040.59,1301.84 1042.76,1304.91 1044.94,1307.84 1047.12,1310.6 1049.29,1313.13 1051.47,1315.42 1053.64,1317.41 1055.82,1319.07 1058,1320.39 1060.17,1321.33 1062.35,1321.88 1064.53,1322.03 1066.7,1321.78 1068.88,1321.1 1071.05,1320.02 1073.23,1318.53 1075.41,1316.67 1077.58,1314.47 1079.76,1311.95 1081.93,1309.15 1084.11,1306.12 1086.29,1302.89 1088.46,1299.49 1090.64,1295.98 1092.81,1292.4 1094.99,1288.8 1097.17,1285.22 1099.34,1281.72 1101.52,1278.31 1103.69,1275.03 1105.87,1271.92 1108.05,1268.99 1110.22,1266.27 1112.4,1263.78 1114.57,1261.54 1116.75,1259.57 1118.93,1257.87 1121.1,1256.47 1123.28,1255.36 1125.46,1254.53 1127.63,1254 1129.81,1253.75 1131.98,1253.79 1134.16,1254.13 1136.34,1254.75 1138.51,1255.65 1140.69,1256.82 1142.86,1258.26 1145.04,1259.95 1147.22,1261.88 1149.39,1264.02 1151.57,1266.38 1153.74,1268.95 1155.92,1271.71 1158.1,1274.65 1160.27,1277.76 1162.45,1281.01 1164.62,1284.39 1166.8,1287.85 1168.98,1291.36 1171.15,1294.89 1173.33,1298.39 1175.5,1301.82 1177.68,1305.14 1179.86,1308.32 1182.03,1311.33 1184.21,1314.12 1186.38,1316.64 1188.56,1318.85 1190.74,1320.73 1192.91,1322.24 1195.09,1323.35 1197.27,1324.05 1199.44,1324.31 1201.62,1324.13 1203.79,1323.49 1205.97,1322.4 1208.15,1320.88 1210.32,1318.95 1212.5,1316.66 1214.67,1314.02 1216.85,1311.07 1219.03,1307.86 1221.2,1304.42 1223.38,1300.8 1225.55,1297.04 1227.73,1293.2 1229.91,1289.34 1232.08,1285.51 1234.26,1281.74 1236.43,1278.07 1238.61,1274.53 1240.79,1271.17 1242.96,1268 1245.14,1265.06 1247.31,1262.36 1249.49,1259.93 1251.67,1257.79 1253.84,1255.95 1256.02,1254.4 1258.2,1253.16 1260.37,1252.21 1262.55,1251.58 1264.72,1251.25 1266.9,1251.23 1269.08,1251.51 1271.25,1252.1 1273.43,1252.97 1275.6,1254.14 1277.78,1255.57 1279.96,1257.26 1282.13,1259.18 1284.31,1261.36 1286.48,1263.79 1288.66,1266.45 1290.84,1269.34 1293.01,1272.44 1295.19,1275.74 1297.36,1279.19 1299.54,1282.78 1301.72,1286.47 1303.89,1290.22 1306.07,1293.99 1308.24,1297.72 1310.42,1301.4 1312.6,1305 1314.77,1308.47 1316.95,1311.76 1319.12,1314.83 1321.3,1317.64 1323.48,1320.13 1325.65,1322.29 1327.83,1324.06 1330.01,1325.41 1332.18,1326.31 1334.36,1326.74 1336.53,1326.66 1338.71,1326.1 1340.89,1325.06 1343.06,1323.57 1345.24,1321.65 1347.41,1319.31 1349.59,1316.59 1351.77,1313.53 1353.94,1310.15 1356.12,1306.51 1358.29,1302.64 1360.47,1298.62 1362.65,1294.52 1364.82,1290.38 1367,1286.24 1369.17,1282.17 1371.35,1278.2 1373.53,1274.36 1375.7,1270.71 1377.88,1267.26 1380.05,1264.06 1382.23,1261.12 1384.41,1258.46 1386.58,1256.1 1388.76,1254.04 1390.94,1252.29 1393.11,1250.86 1395.29,1249.75 1397.46,1248.97 1399.64,1248.51 1401.82,1248.37 1403.99,1248.55 1406.17,1249.05 1408.34,1249.83 1410.52,1250.91 1412.7,1252.27 1414.87,1253.94 1417.05,1255.9 1419.22,1258.14 1421.4,1260.66 1423.58,1263.45 1425.75,1266.48 1427.93,1269.73 1430.1,1273.18 1432.28,1276.79 1434.46,1280.53 1436.63,1284.37 1438.81,1288.28 1440.98,1292.26 1443.16,1296.26 1445.34,1300.23 1447.51,1304.14 1449.69,1307.94 1451.86,1311.58 1454.04,1315.02 1456.22,1318.21 1458.39,1321.08 1460.57,1323.6 1462.75,1325.7 1464.92,1327.36 1467.1,1328.54 1469.27,1329.23 1471.45,1329.42 1473.63,1329.1 1475.8,1328.28 1477.98,1326.95 1480.15,1325.13 1482.33,1322.83 1484.51,1320.09 1486.68,1316.91 1488.86,1313.37 1491.03,1309.52 1493.21,1305.44 1495.39,1301.18 1497.56,1296.8 1499.74,1292.34 1501.91,1287.88 1504.09,1283.45 1506.27,1279.12 1508.44,1274.93 1510.62,1270.93 1512.79,1267.14 1514.97,1263.6 1517.15,1260.33 1519.32,1257.34 1521.5,1254.66 1523.68,1252.3 1525.85,1250.26 1528.03,1248.57 1530.2,1247.22 1532.38,1246.21 1534.56,1245.54 1536.73,1245.21 1538.91,1245.21 1541.08,1245.55 1543.26,1246.22 1545.44,1247.22 1547.61,1248.54 1549.79,1250.18 1551.96,1252.12 1554.14,1254.36 1556.32,1256.87 1558.49,1259.64 1560.67,1262.65 1562.84,1265.89 1565.02,1269.36 1567.2,1273.03 1569.37,1276.89 1571.55,1280.91 1573.72,1285.06 1575.9,1289.31 1578.08,1293.62 1580.25,1297.94 1582.43,1302.22 1584.6,1306.41 1586.78,1310.48 1588.96,1314.37 1591.13,1318.02 1593.31,1321.36 1595.49,1324.36 1597.66,1326.95 1599.84,1329.09 1602.01,1330.75 1604.19,1331.9 1606.37,1332.5 1608.54,1332.53 1610.72,1331.99 1612.89,1330.85 1615.07,1329.14 1617.25,1326.9 1619.42,1324.16 1621.6,1320.96 1623.77,1317.35 1625.95,1313.39 1628.13,1309.12 1630.3,1304.61 1632.48,1299.93 1634.65,1295.14 1636.83,1290.32 1639.01,1285.52 1641.18,1280.8 1643.36,1276.21 1645.53,1271.79 1647.71,1267.59 1649.89,1263.62 1652.06,1259.94 1654.24,1256.57 1656.41,1253.52 1658.59,1250.82 1660.77,1248.47 1662.94,1246.48 1665.12,1244.84 1667.3,1243.56 1669.47,1242.63 1671.65,1242.07 1673.82,1241.87 1676,1242.02 1678.18,1242.51 1680.35,1243.35 1682.53,1244.5 1684.7,1245.94 1686.88,1247.69 1689.06,1249.76 1691.23,1252.15 1693.41,1254.85 1695.58,1257.87 1697.76,1261.18 1699.94,1264.77 1702.11,1268.61 1704.29,1272.67 1706.46,1276.92 1708.64,1281.32 1710.82,1285.82 1712.99,1290.37 1715.17,1294.95 1717.34,1299.55 1719.52,1304.12 1721.7,1308.59 1723.87,1312.91 1726.05,1317.03 1728.23,1320.88 1730.4,1324.42 1732.58,1327.58 1734.75,1330.29 1736.93,1332.49 1739.11,1334.12 1741.28,1335.17 1743.46,1335.62 1745.63,1335.46 1747.81,1334.71 1749.99,1333.37 1752.16,1331.45 1754.34,1328.97 1756.51,1325.95 1758.69,1322.41 1760.87,1318.41 1763.04,1314 1765.22,1309.29 1767.39,1304.34 1769.57,1299.25 1771.75,1294.06 1773.92,1288.85 1776.1,1283.69 1778.27,1278.62 1780.45,1273.72 1782.63,1269.02 1784.8,1264.59 1786.98,1260.43 1789.15,1256.58 1791.33,1253.06 1793.51,1249.88 1795.68,1247.06 1797.86,1244.62 1800.04,1242.55 1802.21,1240.87 1804.39,1239.57 1806.56,1238.66 1808.74,1238.11 1810.92,1237.93 1813.09,1238.13 1815.27,1238.69 1817.44,1239.62 1819.62,1240.9 1821.8,1242.54 1823.97,1244.51 1826.15,1246.81 1828.32,1249.42 1830.5,1252.33 1832.68,1255.53 1834.85,1259 1837.03,1262.74 1839.2,1266.74 1841.38,1270.98 1843.56,1275.44 1845.73,1280.08 1847.91,1284.88 1850.08,1289.78 1852.26,1294.75 1854.44,1299.74 1856.61,1304.68 1858.79,1309.56 1860.97,1314.28 1863.14,1318.79 1865.32,1323.01 1867.49,1326.87 1869.67,1330.33 1871.85,1333.31 1874.02,1335.76 1876.2,1337.64 1878.37,1338.89 1880.55,1339.47 1882.73,1339.34 1884.9,1338.5 1887.08,1336.98 1889.25,1334.8 1891.43,1332 1893.61,1328.62 1895.78,1324.7 1897.96,1320.31 1900.13,1315.5 1902.31,1310.35 1904.49,1304.95 1906.66,1299.4 1908.84,1293.77 1911.01,1288.13 1913.19,1282.55 1915.37,1277.1 1917.54,1271.83 1919.72,1266.79 1921.89,1262.02 1924.07,1257.57 1926.25,1253.48 1928.42,1249.75 1930.6,1246.39 1932.78,1243.42 1934.95,1240.84 1937.13,1238.67 1939.3,1236.9 1941.48,1235.53 1943.66,1234.56 1945.83,1233.99 1948.01,1233.81 1950.18,1234 1952.36,1234.56 1954.54,1235.51 1956.71,1236.82 1958.89,1238.51 1961.06,1240.56 1963.24,1242.96 1965.42,1245.7 1967.59,1248.77 1969.77,1252.15 1971.94,1255.82 1974.12,1259.76 1976.3,1263.97 1978.47,1268.43 1980.65,1273.13 1982.82,1278.04 1985,1283.13 1987.18,1288.36 1989.35,1293.69 1991.53,1299.06 1993.71,1304.41 1995.88,1309.69 1998.06,1314.85 2000.23,1319.81 2002.41,1324.49 2004.59,1328.81 2006.76,1332.69 2008.94,1336.06 2011.11,1338.86 2013.29,1341.05 2015.47,1342.56 2017.64,1343.36 2019.82,1343.42 2021.99,1342.69 2024.17,1341.19 2026.35,1338.95 2028.52,1336 2030.7,1332.4 2032.87,1328.2 2035.05,1323.48 2037.23,1318.3 2039.4,1312.75 2041.58,1306.91 2043.75,1300.89 2045.93,1294.78 2048.11,1288.66 2050.28,1282.6 2052.46,1276.68 2054.63,1270.96 2056.81,1265.48 2058.99,1260.31 2061.16,1255.47 2063.34,1251.01 2065.52,1246.94 2067.69,1243.29 2069.87,1240.05 2072.04,1237.24 2074.22,1234.84 2076.4,1232.87 2078.57,1231.33 2080.75,1230.21 2082.92,1229.5 2085.1,1229.21 2087.28,1229.31 2089.45,1229.79 2091.63,1230.66 2093.8,1231.91 2095.98,1233.55 2098.16,1235.57 2100.33,1237.96 2102.51,1240.72 2104.68,1243.84 2106.86,1247.29 2109.04,1251.07 2111.21,1255.15 2113.39,1259.51 2115.56,1264.14 2117.74,1269.04 2119.92,1274.17 2122.09,1279.52 2124.27,1285.06 2126.45,1290.73 2128.62,1296.49 2130.8,1302.29 2132.97,1308.06 2135.15,1313.72 2137.33,1319.22 2139.5,1324.49 2141.68,1329.42 2143.85,1333.93 2146.03,1337.92 2148.21,1341.32 2150.38,1344.07 2152.56,1346.11 2154.73,1347.39 2156.91,1347.87 2159.09,1347.53 2161.26,1346.32 2163.44,1344.27 2165.61,1341.4 2167.79,1337.79 2169.97,1333.49 2172.14,1328.57 2174.32,1323.12 2176.49,1317.23 2178.67,1310.98 2180.85,1304.49 2183.02,1297.86 2185.2,1291.19 2187.37,1284.57 2189.55,1278.08 2191.73,1271.78 2193.9,1265.74 2196.08,1260 2198.26,1254.63 2200.43,1249.64 2202.61,1245.08 2204.78,1240.96 2206.96,1237.29 2209.14,1234.07 2211.31,1231.3 2213.49,1228.97 2215.66,1227.1 2217.84,1225.67 2220.02,1224.68 2222.19,1224.12 2224.37,1223.98 2226.54,1224.25 2228.72,1224.91 2230.9,1225.97 2233.07,1227.42 2235.25,1229.28 2237.42,1231.53 2239.6,1234.17 2241.78,1237.18 2243.95,1240.57 2246.13,1244.31 2248.3,1248.39 2250.48,1252.78 2252.66,1257.47 2254.83,1262.45 2257.01,1267.72 2259.19,1273.26 2261.36,1279.03 2263.54,1285 2265.71,1291.14 2267.89,1297.37 2270.07,1303.64 2272.24,1309.89 2274.42,1316.03 2276.59,1322.02 2278.77,1327.75 2280.95,1333.1 2283.12,1337.98 2285.3,1342.29 2287.47,1345.96 2289.65,1348.91 2291.83,1351.08 2294,1352.4 2296.18,1352.82 2298.35,1352.31 2300.53,1350.84 2302.71,1348.43 2304.88,1345.15 2307.06,1341.04 2309.23,1336.19 2311.41,1330.67 2313.59,1324.59 2315.76,1318.03 2317.94,1311.11 2320.11,1303.96 2322.29,1296.7 2324.47,1289.42 2326.64,1282.23 2328.82,1275.2 2331,1268.42 2333.17,1261.94 2335.35,1255.82 2337.52,1250.1 2339.7,1244.83 2341.88,1240.02 2344.05,1235.69 2346.23,1231.83 2348.4,1228.45 2350.58,1225.55 2352.76,1223.14 \"/>\n",
       "<polyline clip-path=\"url(#clip562)\" style=\"stroke:#e26f46; stroke-linecap:round; stroke-linejoin:round; stroke-width:4; stroke-opacity:1; fill:none\" points=\"178.867,1093.46 181.043,1090.59 183.219,1087.56 185.395,1084.3 187.571,1080.77 189.747,1076.9 191.923,1072.63 194.099,1067.89 196.275,1062.62 198.451,1056.74 200.627,1050.17 202.803,1042.81 204.979,1034.56 207.155,1025.33 209.332,1015 211.508,1003.42 213.684,990.473 215.86,976.003 218.036,959.854 220.212,941.87 222.388,921.894 224.564,899.779 226.74,875.388 228.916,848.629 231.092,819.491 233.268,788.047 235.444,754.503 237.62,719.234 239.796,682.897 241.973,646.508 244.149,611.439 246.325,579.361 248.501,552.624 250.677,534.002 252.853,526.099 255.029,531.34 257.205,551.852 259.381,588.384 261.557,640.294 263.733,705.58 265.909,780.854 268.085,861.35 270.261,941.736 272.437,1017.6 274.614,1085.67 276.79,1143.79 278.966,1191.05 281.142,1227.95 283.318,1255.53 285.494,1275.11 287.67,1288.25 289.846,1296.45 292.022,1300.89 294.198,1302.6 296.374,1302.44 298.55,1301.06 300.726,1298.95 302.902,1296.47 305.078,1293.88 307.254,1291.39 309.431,1289.12 311.607,1287.17 313.783,1285.57 315.959,1284.37 318.135,1283.57 320.311,1283.18 322.487,1283.19 324.663,1283.58 326.839,1284.32 329.015,1285.4 331.191,1286.79 333.367,1288.45 335.543,1290.35 337.719,1292.47 339.895,1294.75 342.072,1297.18 344.248,1299.71 346.424,1302.31 348.6,1304.93 350.776,1307.54 352.952,1310.09 355.128,1312.55 357.304,1314.87 359.48,1317.01 361.656,1318.94 363.832,1320.61 366.008,1321.99 368.184,1323.05 370.36,1323.75 372.536,1324.08 374.713,1324.02 376.889,1323.55 379.065,1322.66 381.241,1321.35 383.417,1319.64 385.593,1317.55 387.769,1315.08 389.945,1312.29 392.121,1309.2 394.297,1305.86 396.473,1302.32 398.649,1298.62 400.825,1294.82 403.001,1290.96 405.177,1287.09 407.353,1283.28 409.53,1279.57 411.706,1276 413.882,1272.62 416.058,1269.46 418.234,1266.54 420.41,1263.9 422.586,1261.54 424.762,1259.5 426.938,1257.77 429.114,1256.37 431.29,1255.29 433.466,1254.54 435.642,1254.11 437.818,1253.99 439.994,1254.18 442.171,1254.68 444.347,1255.46 446.523,1256.52 448.699,1257.85 450.875,1259.43 453.051,1261.26 455.227,1263.3 457.403,1265.56 459.579,1268.02 461.755,1270.66 463.931,1273.47 466.107,1276.43 468.283,1279.52 470.459,1282.71 472.635,1286 474.812,1289.35 476.988,1292.73 479.164,1296.12 481.34,1299.49 483.516,1302.81 485.692,1306.05 487.868,1309.17 490.044,1312.13 492.22,1314.9 494.396,1317.43 496.572,1319.69 498.748,1321.64 500.924,1323.26 503.1,1324.51 505.276,1325.36 507.452,1325.79 509.629,1325.77 511.805,1325.31 513.981,1324.4 516.157,1323.04 518.333,1321.25 520.509,1319.03 522.685,1316.41 524.861,1313.44 527.037,1310.13 529.213,1306.54 531.389,1302.73 533.565,1298.74 535.741,1294.66 537.917,1290.52 540.093,1286.4 542.27,1282.35 544.446,1278.4 546.622,1274.6 548.798,1271.01 550.974,1267.64 553.15,1264.55 555.326,1261.76 557.502,1259.29 559.678,1257.16 561.854,1255.37 564.03,1253.92 566.206,1252.81 568.382,1252.06 570.558,1251.65 572.734,1251.58 574.911,1251.85 577.087,1252.43 579.263,1253.33 581.439,1254.5 583.615,1255.95 585.791,1257.64 587.967,1259.59 590.143,1261.77 592.319,1264.17 594.495,1266.79 596.671,1269.6 598.847,1272.58 601.023,1275.71 603.199,1278.99 605.375,1282.38 607.552,1285.86 609.728,1289.4 611.904,1293 614.08,1296.61 616.256,1300.2 618.432,1303.74 620.608,1307.18 622.784,1310.5 624.96,1313.65 627.136,1316.6 629.312,1319.3 631.488,1321.73 633.664,1323.84 635.84,1325.58 638.016,1326.93 640.192,1327.84 642.369,1328.3 644.545,1328.29 646.721,1327.8 648.897,1326.82 651.073,1325.35 653.249,1323.4 655.425,1321 657.601,1318.17 659.777,1314.94 661.953,1311.36 664.129,1307.48 666.305,1303.36 668.481,1299.07 670.657,1294.69 672.833,1290.26 675.01,1285.85 677.186,1281.5 679.362,1277.27 681.538,1273.21 683.714,1269.36 685.89,1265.77 688.066,1262.49 690.242,1259.54 692.418,1256.95 694.594,1254.71 696.77,1252.84 698.946,1251.33 701.122,1250.2 703.298,1249.44 705.474,1249.05 707.651,1249.03 709.827,1249.36 712.003,1250.03 714.179,1251.02 716.355,1252.3 718.531,1253.85 720.707,1255.66 722.883,1257.73 725.059,1260.04 727.235,1262.59 729.411,1265.36 731.587,1268.33 733.763,1271.49 735.939,1274.8 738.115,1278.27 740.291,1281.85 742.468,1285.54 744.644,1289.3 746.82,1293.12 748.996,1296.96 751.172,1300.78 753.348,1304.55 755.524,1308.23 757.7,1311.78 759.876,1315.15 762.052,1318.31 764.228,1321.22 766.404,1323.84 768.58,1326.11 770.756,1328.01 772.932,1329.48 775.109,1330.48 777.285,1331 779.461,1331 781.637,1330.48 783.813,1329.44 785.989,1327.87 788.165,1325.78 790.341,1323.21 792.517,1320.16 794.693,1316.69 796.869,1312.84 799.045,1308.66 801.221,1304.22 803.397,1299.6 805.573,1294.87 807.75,1290.11 809.926,1285.37 812.102,1280.71 814.278,1276.19 816.454,1271.84 818.63,1267.74 820.806,1263.92 822.982,1260.42 825.158,1257.29 827.334,1254.55 829.51,1252.2 831.686,1250.23 833.862,1248.66 836.038,1247.49 838.214,1246.71 840.39,1246.32 842.567,1246.31 844.743,1246.67 846.919,1247.39 849.095,1248.44 851.271,1249.81 853.447,1251.46 855.623,1253.37 857.799,1255.56 859.975,1258 862.151,1260.69 864.327,1263.6 866.503,1266.73 868.679,1270.06 870.855,1273.56 873.031,1277.21 875.208,1281 877.384,1284.9 879.56,1288.89 881.736,1292.94 883.912,1297.02 886.088,1301.09 888.264,1305.12 890.44,1309.06 892.616,1312.87 894.792,1316.51 896.968,1319.92 899.144,1323.08 901.32,1325.92 903.496,1328.41 905.672,1330.5 907.849,1332.14 910.025,1333.28 912.201,1333.89 914.377,1333.96 916.553,1333.46 918.729,1332.39 920.905,1330.75 923.081,1328.56 925.257,1325.82 927.433,1322.58 929.609,1318.87 931.785,1314.74 933.961,1310.26 936.137,1305.48 938.313,1300.5 940.49,1295.41 942.666,1290.28 944.842,1285.17 947.018,1280.16 949.194,1275.29 951.37,1270.63 953.546,1266.23 955.722,1262.13 957.898,1258.39 960.074,1255.05 962.25,1252.13 964.426,1249.63 966.602,1247.54 968.778,1245.87 970.954,1244.62 973.13,1243.8 975.307,1243.38 977.483,1243.37 979.659,1243.75 981.835,1244.51 984.011,1245.61 986.187,1247.03 988.363,1248.75 990.539,1250.75 992.715,1253.03 994.891,1255.59 997.067,1258.4 999.243,1261.46 1001.42,1264.74 1003.6,1268.23 1005.77,1271.9 1007.95,1275.75 1010.12,1279.74 1012.3,1283.85 1014.48,1288.07 1016.65,1292.36 1018.83,1296.7 1021,1301.04 1023.18,1305.35 1025.36,1309.57 1027.53,1313.67 1029.71,1317.6 1031.88,1321.32 1034.06,1324.77 1036.24,1327.9 1038.41,1330.66 1040.59,1333.01 1042.76,1334.87 1044.94,1336.21 1047.12,1336.99 1049.29,1337.18 1051.47,1336.76 1053.64,1335.72 1055.82,1334.06 1058,1331.78 1060.17,1328.92 1062.35,1325.49 1064.53,1321.54 1066.7,1317.13 1068.88,1312.32 1071.05,1307.19 1073.23,1301.85 1075.41,1296.38 1077.58,1290.86 1079.76,1285.36 1081.93,1279.94 1084.11,1274.68 1086.29,1269.64 1088.46,1264.88 1090.64,1260.46 1092.81,1256.43 1094.99,1252.85 1097.17,1249.71 1099.34,1247.01 1101.52,1244.75 1103.69,1242.95 1105.87,1241.6 1108.05,1240.71 1110.22,1240.25 1112.4,1240.23 1114.57,1240.61 1116.75,1241.38 1118.93,1242.5 1121.1,1243.96 1123.28,1245.71 1125.46,1247.78 1127.63,1250.15 1129.81,1252.8 1131.98,1255.73 1134.16,1258.91 1136.34,1262.32 1138.51,1265.96 1140.69,1269.8 1142.86,1273.82 1145.04,1278.01 1147.22,1282.34 1149.39,1286.79 1151.57,1291.34 1153.74,1295.94 1155.92,1300.55 1158.1,1305.15 1160.27,1309.68 1162.45,1314.11 1164.62,1318.37 1166.8,1322.43 1168.98,1326.22 1171.15,1329.7 1173.33,1332.79 1175.5,1335.45 1177.68,1337.61 1179.86,1339.22 1182.03,1340.25 1184.21,1340.64 1186.38,1340.36 1188.56,1339.41 1190.74,1337.77 1192.91,1335.46 1195.09,1332.5 1197.27,1328.91 1199.44,1324.74 1201.62,1320.05 1203.79,1314.93 1205.97,1309.47 1208.15,1303.77 1210.32,1297.91 1212.5,1291.97 1214.67,1286.01 1216.85,1280.14 1219.03,1274.42 1221.2,1268.93 1223.38,1263.75 1225.55,1258.96 1227.73,1254.64 1229.91,1250.75 1232.08,1247.33 1234.26,1244.38 1236.43,1241.93 1238.61,1239.96 1240.79,1238.48 1242.96,1237.49 1245.14,1236.96 1247.31,1236.89 1249.49,1237.23 1251.67,1237.95 1253.84,1239.03 1256.02,1240.47 1258.2,1242.25 1260.37,1244.37 1262.55,1246.8 1264.72,1249.53 1266.9,1252.54 1269.08,1255.83 1271.25,1259.36 1273.43,1263.13 1275.6,1267.12 1277.78,1271.32 1279.96,1275.69 1282.13,1280.23 1284.31,1284.91 1286.48,1289.7 1288.66,1294.57 1290.84,1299.48 1293.01,1304.39 1295.19,1309.26 1297.36,1314.04 1299.54,1318.68 1301.72,1323.13 1303.89,1327.32 1306.07,1331.2 1308.24,1334.7 1310.42,1337.76 1312.6,1340.32 1314.77,1342.3 1316.95,1343.64 1319.12,1344.31 1321.3,1344.27 1323.48,1343.49 1325.65,1341.97 1327.83,1339.7 1330.01,1336.71 1332.18,1333.01 1334.36,1328.66 1336.53,1323.78 1338.71,1318.42 1340.89,1312.66 1343.06,1306.6 1345.24,1300.3 1347.41,1293.87 1349.59,1287.39 1351.77,1280.97 1353.94,1274.72 1356.12,1268.73 1358.29,1263.12 1360.47,1257.92 1362.65,1253.17 1364.82,1248.89 1367,1245.12 1369.17,1241.86 1371.35,1239.14 1373.53,1236.94 1375.7,1235.26 1377.88,1234.09 1380.05,1233.4 1382.23,1233.16 1384.41,1233.35 1386.58,1233.97 1388.76,1234.99 1390.94,1236.4 1393.11,1238.18 1395.29,1240.31 1397.46,1242.77 1399.64,1245.54 1401.82,1248.61 1403.99,1251.97 1406.17,1255.59 1408.34,1259.47 1410.52,1263.58 1412.7,1267.93 1414.87,1272.48 1417.05,1277.22 1419.22,1282.12 1421.4,1287.16 1423.58,1292.3 1425.75,1297.5 1427.93,1302.74 1430.1,1307.97 1432.28,1313.13 1434.46,1318.19 1436.63,1323.1 1438.81,1327.78 1440.98,1332.17 1443.16,1336.18 1445.34,1339.74 1447.51,1342.77 1449.69,1345.22 1451.86,1347.03 1454.04,1348.13 1456.22,1348.49 1458.39,1348.06 1460.57,1346.8 1462.75,1344.72 1464.92,1341.86 1467.1,1338.24 1469.27,1333.93 1471.45,1328.96 1473.63,1323.42 1475.8,1317.39 1477.98,1310.94 1480.15,1304.19 1482.33,1297.23 1484.51,1290.19 1486.68,1283.2 1488.86,1276.39 1491.03,1269.84 1493.21,1263.63 1495.39,1257.83 1497.56,1252.5 1499.74,1247.68 1501.91,1243.41 1504.09,1239.69 1506.27,1236.54 1508.44,1233.96 1510.62,1231.93 1512.79,1230.44 1514.97,1229.47 1517.15,1228.99 1519.32,1229 1521.5,1229.47 1523.68,1230.37 1525.85,1231.69 1528.03,1233.4 1530.2,1235.47 1532.38,1237.89 1534.56,1240.63 1536.73,1243.69 1538.91,1247.06 1541.08,1250.71 1543.26,1254.65 1545.44,1258.85 1547.61,1263.29 1549.79,1267.97 1551.96,1272.85 1554.14,1277.92 1556.32,1283.16 1558.49,1288.54 1560.67,1294.05 1562.84,1299.63 1565.02,1305.25 1567.2,1310.85 1569.37,1316.38 1571.55,1321.79 1573.72,1327 1575.9,1331.95 1578.08,1336.56 1580.25,1340.77 1582.43,1344.5 1584.6,1347.65 1586.78,1350.15 1588.96,1351.94 1591.13,1352.94 1593.31,1353.11 1595.49,1352.4 1597.66,1350.8 1599.84,1348.31 1602.01,1344.94 1604.19,1340.73 1606.37,1335.73 1608.54,1329.99 1610.72,1323.61 1612.89,1316.74 1615.07,1309.51 1617.25,1302.04 1619.42,1294.45 1621.6,1286.85 1623.77,1279.34 1625.95,1272.04 1628.13,1265.06 1630.3,1258.49 1632.48,1252.45 1634.65,1246.99 1636.83,1242.1 1639.01,1237.8 1641.18,1234.12 1643.36,1231.05 1645.53,1228.6 1647.71,1226.75 1649.89,1225.49 1652.06,1224.79 1654.24,1224.6 1656.41,1224.89 1658.59,1225.61 1660.77,1226.75 1662.94,1228.3 1665.12,1230.25 1667.3,1232.57 1669.47,1235.25 1671.65,1238.26 1673.82,1241.6 1676,1245.24 1678.18,1249.18 1680.35,1253.4 1682.53,1257.89 1684.7,1262.63 1686.88,1267.62 1689.06,1272.84 1691.23,1278.26 1693.41,1283.87 1695.58,1289.63 1697.76,1295.51 1699.94,1301.47 1702.11,1307.45 1704.29,1313.42 1706.46,1319.32 1708.64,1325.08 1710.82,1330.65 1712.99,1335.95 1715.17,1340.9 1717.34,1345.4 1719.52,1349.35 1721.7,1352.66 1723.87,1355.24 1726.05,1357.01 1728.23,1357.91 1730.4,1357.9 1732.58,1356.92 1734.75,1354.94 1736.93,1351.96 1739.11,1348.04 1741.28,1343.25 1743.46,1337.64 1745.63,1331.31 1747.81,1324.35 1749.99,1316.87 1752.16,1308.99 1754.34,1300.82 1756.51,1292.52 1758.69,1284.22 1760.87,1276.1 1763.04,1268.31 1765.22,1260.92 1767.39,1254.03 1769.57,1247.7 1771.75,1241.99 1773.92,1236.92 1776.1,1232.53 1778.27,1228.81 1780.45,1225.75 1782.63,1223.33 1784.8,1221.52 1786.98,1220.31 1789.15,1219.66 1791.33,1219.55 1793.51,1219.94 1795.68,1220.82 1797.86,1222.14 1800.04,1223.89 1802.21,1226.04 1804.39,1228.56 1806.56,1231.43 1808.74,1234.64 1810.92,1238.18 1813.09,1242.05 1815.27,1246.22 1817.44,1250.69 1819.62,1255.43 1821.8,1260.45 1823.97,1265.72 1826.15,1271.22 1828.32,1276.95 1830.5,1282.89 1832.68,1289.01 1834.85,1295.28 1837.03,1301.65 1839.2,1308.08 1841.38,1314.51 1843.56,1320.89 1845.73,1327.15 1847.91,1333.2 1850.08,1338.98 1852.26,1344.39 1854.44,1349.33 1856.61,1353.71 1858.79,1357.43 1860.97,1360.39 1863.14,1362.47 1865.32,1363.58 1867.49,1363.68 1869.67,1362.72 1871.85,1360.66 1874.02,1357.52 1876.2,1353.3 1878.37,1348.04 1880.55,1341.8 1882.73,1334.73 1884.9,1326.98 1887.08,1318.68 1889.25,1309.97 1891.43,1301 1893.61,1291.91 1895.78,1282.85 1897.96,1273.98 1900.13,1265.47 1902.31,1257.48 1904.49,1250.09 1906.66,1243.34 1908.84,1237.27 1911.01,1231.92 1913.19,1227.3 1915.37,1223.43 1917.54,1220.28 1919.72,1217.84 1921.89,1216.06 1924.07,1214.9 1926.25,1214.3 1928.42,1214.26 1930.6,1214.73 1932.78,1215.7 1934.95,1217.12 1937.13,1218.98 1939.3,1221.25 1941.48,1223.9 1943.66,1226.92 1945.83,1230.28 1948.01,1233.98 1950.18,1238.01 1952.36,1242.35 1954.54,1247.01 1956.71,1251.96 1958.89,1257.2 1961.06,1262.72 1963.24,1268.5 1965.42,1274.51 1967.59,1280.75 1969.77,1287.2 1971.94,1293.82 1974.12,1300.6 1976.3,1307.47 1978.47,1314.39 1980.65,1321.28 1982.82,1328.07 1985,1334.69 1987.18,1341.05 1989.35,1347.05 1991.53,1352.58 1993.71,1357.55 1995.88,1361.82 1998.06,1365.3 2000.23,1367.86 2002.41,1369.41 2004.59,1369.85 2006.76,1369.13 2008.94,1367.2 2011.11,1364.07 2013.29,1359.74 2015.47,1354.26 2017.64,1347.69 2019.82,1340.12 2021.99,1331.68 2024.17,1322.61 2026.35,1313.08 2028.52,1303.26 2030.7,1293.32 2032.87,1283.43 2035.05,1273.74 2037.23,1264.42 2039.4,1255.61 2041.58,1247.47 2043.75,1240.09 2045.93,1233.47 2048.11,1227.63 2050.28,1222.59 2052.46,1218.36 2054.63,1214.93 2056.81,1212.26 2058.99,1210.34 2061.16,1209.09 2063.34,1208.46 2065.52,1208.37 2067.69,1208.82 2069.87,1209.77 2072.04,1211.2 2074.22,1213.07 2076.4,1215.36 2078.57,1218.05 2080.75,1221.11 2082.92,1224.53 2085.1,1228.29 2087.28,1232.39 2089.45,1236.82 2091.63,1241.57 2093.8,1246.64 2095.98,1252.02 2098.16,1257.69 2100.33,1263.66 2102.51,1269.9 2104.68,1276.39 2106.86,1283.11 2109.04,1290.06 2111.21,1297.19 2113.39,1304.48 2115.56,1311.88 2117.74,1319.32 2119.92,1326.73 2122.09,1334.01 2124.27,1341.09 2126.45,1347.86 2128.62,1354.2 2130.8,1360.01 2132.97,1365.16 2135.15,1369.5 2137.33,1372.92 2139.5,1375.28 2141.68,1376.49 2143.85,1376.44 2146.03,1375.07 2148.21,1372.37 2150.38,1368.33 2152.56,1362.98 2154.73,1356.38 2156.91,1348.62 2159.09,1339.81 2161.26,1330.1 2163.44,1319.79 2165.61,1309.08 2167.79,1298.18 2169.97,1287.27 2172.14,1276.54 2174.32,1266.16 2176.49,1256.3 2178.67,1247.11 2180.85,1238.74 2183.02,1231.24 2185.2,1224.61 2187.37,1218.86 2189.55,1213.99 2191.73,1210 2193.9,1206.85 2196.08,1204.51 2198.26,1202.93 2200.43,1202.04 2202.61,1201.76 2204.78,1202.02 2206.96,1202.81 2209.14,1204.09 2211.31,1205.84 2213.49,1208.03 2215.66,1210.63 2217.84,1213.61 2220.02,1216.96 2222.19,1220.67 2224.37,1224.72 2226.54,1229.1 2228.72,1233.82 2230.9,1238.88 2233.07,1244.26 2235.25,1249.97 2237.42,1255.99 2239.6,1262.32 2241.78,1268.94 2243.95,1275.85 2246.13,1283.01 2248.3,1290.43 2250.48,1298.06 2252.66,1305.89 2254.83,1313.85 2257.01,1321.88 2259.19,1329.89 2261.36,1337.79 2263.54,1345.49 2265.71,1352.87 2267.89,1359.81 2270.07,1366.18 2272.24,1371.82 2274.42,1376.59 2276.59,1380.36 2278.77,1382.95 2280.95,1384.24 2283.12,1384.12 2285.3,1382.52 2287.47,1379.42 2289.65,1374.81 2291.83,1368.72 2294,1361.23 2296.18,1352.44 2298.35,1342.47 2300.53,1331.6 2302.71,1320.11 2304.88,1308.23 2307.06,1296.17 2309.23,1284.15 2311.41,1272.38 2313.59,1261.07 2315.76,1250.41 2317.94,1240.6 2320.11,1231.75 2322.29,1223.85 2324.47,1216.94 2326.64,1211 2328.82,1206.05 2331,1202.06 2333.17,1198.97 2335.35,1196.74 2337.52,1195.28 2339.7,1194.49 2341.88,1194.31 2344.05,1194.72 2346.23,1195.68 2348.4,1197.13 2350.58,1199.05 2352.76,1201.39 \"/>\n",
       "<polyline clip-path=\"url(#clip562)\" style=\"stroke:#3da44d; stroke-linecap:round; stroke-linejoin:round; stroke-width:4; stroke-opacity:1; fill:none\" points=\"178.867,1097.03 181.043,1097.25 183.219,1097.45 185.395,1097.61 187.571,1097.74 189.747,1097.82 191.923,1097.84 194.099,1097.8 196.275,1097.67 198.451,1097.43 200.627,1097.06 202.803,1096.53 204.979,1095.79 207.155,1094.79 209.332,1093.46 211.508,1091.73 213.684,1089.49 215.86,1086.6 218.036,1082.91 220.212,1078.21 222.388,1072.24 224.564,1064.71 226.74,1055.23 228.916,1043.34 231.092,1028.5 233.268,1010.05 235.444,987.28 237.62,959.322 239.796,925.261 241.973,884.26 244.149,835.557 246.325,778.597 248.501,713.196 250.677,639.745 252.853,559.633 255.029,475.258 257.205,390.051 259.381,308.462 261.557,234.87 263.733,173.095 265.909,126.393 268.085,97.3961 270.261,86.1857 272.437,90.7823 274.614,108.552 276.79,136.044 278.966,169.399 281.142,205.738 283.318,242.663 285.494,278.424 287.67,311.929 289.846,342.606 292.022,370.296 294.198,395.034 296.374,416.964 298.55,436.339 300.726,453.461 302.902,468.606 305.078,482.034 307.254,493.972 309.431,504.617 311.607,514.136 313.783,522.669 315.959,530.324 318.135,537.195 320.311,543.356 322.487,548.867 324.663,553.769 326.839,558.096 329.015,561.87 331.191,565.11 333.367,567.831 335.543,570.043 337.719,571.756 339.895,572.975 342.072,573.7 344.248,573.937 346.424,573.689 348.6,572.967 350.776,571.779 352.952,570.14 355.128,568.066 357.304,565.573 359.48,562.683 361.656,559.422 363.832,555.826 366.008,551.931 368.184,547.784 370.36,543.433 372.536,538.93 374.713,534.333 376.889,529.7 379.065,525.091 381.241,520.565 383.417,516.183 385.593,512.009 387.769,508.103 389.945,504.529 392.121,501.328 394.297,498.544 396.473,496.213 398.649,494.364 400.825,493.017 403.001,492.183 405.177,491.867 407.353,492.063 409.53,492.76 411.706,493.934 413.882,495.56 416.058,497.613 418.234,500.06 420.41,502.87 422.586,506.006 424.762,509.429 426.938,513.098 429.114,516.967 431.29,520.988 433.466,525.112 435.642,529.306 437.818,533.539 439.994,537.774 442.171,541.976 444.347,546.112 446.523,550.148 448.699,554.054 450.875,557.802 453.051,561.362 455.227,564.71 457.403,567.824 459.579,570.677 461.755,573.241 463.931,575.493 466.107,577.411 468.283,578.975 470.459,580.166 472.635,580.971 474.812,581.374 476.988,581.366 479.164,580.935 481.34,580.077 483.516,578.788 485.692,577.074 487.868,574.932 490.044,572.37 492.22,569.399 494.396,566.039 496.572,562.314 498.748,558.257 500.924,553.906 503.1,549.305 505.276,544.507 507.452,539.57 509.629,534.561 511.805,529.541 513.981,524.57 516.157,519.709 518.333,515.015 520.509,510.546 522.685,506.358 524.861,502.508 527.037,499.051 529.213,496.039 531.389,493.527 533.565,491.566 535.741,490.163 537.917,489.31 540.093,489.011 542.27,489.263 544.446,490.056 546.622,491.37 548.798,493.182 550.974,495.456 553.15,498.154 555.326,501.227 557.502,504.62 559.678,508.297 561.854,512.221 564.03,516.345 566.206,520.628 568.382,525.026 570.558,529.498 572.734,534.005 574.911,538.508 577.087,542.971 579.263,547.357 581.439,551.631 583.615,555.762 585.791,559.721 587.967,563.483 590.143,567.018 592.319,570.298 594.495,573.298 596.671,575.99 598.847,578.354 601.023,580.366 603.199,582.006 605.375,583.257 607.552,584.102 609.728,584.525 611.904,584.523 614.08,584.083 616.256,583.188 618.432,581.829 620.608,580.003 622.784,577.713 624.96,574.969 627.136,571.786 629.312,568.186 631.488,564.197 633.664,559.854 635.84,555.196 638.016,550.272 640.192,545.138 642.369,539.863 644.545,534.508 646.721,529.133 648.897,523.803 651.073,518.581 653.249,513.53 655.425,508.717 657.601,504.208 659.777,500.069 661.953,496.368 664.129,493.175 666.305,490.551 668.481,488.499 670.657,487.029 672.833,486.157 675.01,485.884 677.186,486.208 679.362,487.115 681.538,488.583 683.714,490.581 685.89,493.07 688.066,496.002 690.242,499.319 692.418,502.972 694.594,506.93 696.77,511.141 698.946,515.56 701.122,520.139 703.298,524.833 705.474,529.601 707.651,534.399 709.827,539.186 712.003,543.925 714.179,548.577 716.355,553.106 718.531,557.477 720.707,561.663 722.883,565.64 725.059,569.377 727.235,572.845 729.411,576.017 731.587,578.866 733.763,581.369 735.939,583.502 738.115,585.244 740.291,586.577 742.468,587.481 744.644,587.94 746.82,587.952 748.996,587.5 751.172,586.567 753.348,585.14 755.524,583.215 757.7,580.794 759.876,577.886 762.052,574.506 764.228,570.676 766.404,566.425 768.58,561.791 770.756,556.814 772.932,551.545 775.109,546.042 777.285,540.382 779.461,534.634 781.637,528.865 783.813,523.143 785.989,517.538 788.165,512.118 790.341,506.954 792.517,502.116 794.693,497.675 796.869,493.703 799.045,490.272 801.221,487.455 803.397,485.272 805.573,483.718 807.75,482.808 809.926,482.544 812.102,482.921 814.278,483.924 816.454,485.529 818.63,487.701 820.806,490.399 822.982,493.57 825.158,497.152 827.334,501.08 829.51,505.322 831.686,509.83 833.862,514.552 836.038,519.437 838.214,524.439 840.39,529.51 842.567,534.607 844.743,539.688 846.919,544.712 849.095,549.642 851.271,554.442 853.447,559.077 855.623,563.518 857.799,567.738 859.975,571.708 862.151,575.395 864.327,578.773 866.503,581.814 868.679,584.491 870.855,586.782 873.031,588.663 875.208,590.114 877.384,591.114 879.56,591.646 881.736,591.7 883.912,591.268 886.088,590.328 888.264,588.865 890.44,586.872 892.616,584.347 894.792,581.3 896.968,577.743 899.144,573.7 901.32,569.2 903.496,564.279 905.672,558.983 907.849,553.362 910.025,547.479 912.201,541.414 914.377,535.245 916.553,529.045 918.729,522.888 920.905,516.849 923.081,511.003 925.257,505.426 927.433,500.195 929.609,495.387 931.785,491.081 933.961,487.355 936.137,484.288 938.313,481.916 940.49,480.227 942.666,479.232 944.842,478.937 947.018,479.333 949.194,480.403 951.37,482.121 953.546,484.449 955.722,487.339 957.898,490.734 960.074,494.565 962.25,498.763 964.426,503.293 966.602,508.102 968.778,513.135 970.954,518.338 973.13,523.661 975.307,529.054 977.483,534.471 979.659,539.869 981.835,545.206 984.011,550.442 986.187,555.541 988.363,560.469 990.539,565.196 992.715,569.694 994.891,573.929 997.067,577.872 999.243,581.492 1001.42,584.763 1003.6,587.656 1005.77,590.147 1007.95,592.212 1010.12,593.827 1012.3,594.972 1014.48,595.626 1016.65,595.784 1018.83,595.425 1021,594.525 1023.18,593.068 1025.36,591.044 1027.53,588.453 1029.71,585.299 1031.88,581.598 1034.06,577.37 1036.24,572.644 1038.41,567.458 1040.59,561.854 1042.76,555.884 1044.94,549.617 1047.12,543.139 1049.29,536.526 1051.47,529.856 1053.64,523.209 1055.82,516.668 1058,510.316 1060.17,504.24 1062.35,498.526 1064.53,493.266 1066.7,488.551 1068.88,484.476 1071.05,481.12 1073.23,478.485 1075.41,476.59 1077.58,475.45 1079.76,475.069 1081.93,475.44 1084.11,476.541 1086.29,478.342 1088.46,480.799 1090.64,483.858 1092.81,487.451 1094.99,491.501 1097.17,495.963 1099.34,500.781 1101.52,505.896 1103.69,511.248 1105.87,516.781 1108.05,522.44 1110.22,528.174 1112.4,533.935 1114.57,539.676 1116.75,545.353 1118.93,550.924 1121.1,556.352 1123.28,561.602 1125.46,566.647 1127.63,571.453 1129.81,575.989 1131.98,580.222 1134.16,584.123 1136.34,587.662 1138.51,590.813 1140.69,593.548 1142.86,595.843 1145.04,597.672 1147.22,599.015 1149.39,599.862 1151.57,600.184 1153.74,599.95 1155.92,599.139 1158.1,597.734 1160.27,595.726 1162.45,593.114 1164.62,589.902 1166.8,586.102 1168.98,581.734 1171.15,576.823 1173.33,571.402 1175.5,565.512 1177.68,559.205 1179.86,552.565 1182.03,545.665 1184.21,538.582 1186.38,531.399 1188.56,524.202 1190.74,517.085 1192.91,510.143 1195.09,503.479 1197.27,497.198 1199.44,491.414 1201.62,486.241 1203.79,481.767 1205.97,478.02 1208.15,475.043 1210.32,472.868 1212.5,471.512 1214.67,470.98 1216.85,471.262 1219.03,472.336 1221.2,474.166 1223.38,476.701 1225.55,479.88 1227.73,483.63 1229.91,487.894 1232.08,492.608 1234.26,497.705 1236.43,503.122 1238.61,508.796 1240.79,514.668 1242.96,520.681 1245.14,526.778 1247.31,532.906 1249.49,539.015 1251.67,545.055 1253.84,550.981 1256.02,556.766 1258.2,562.377 1260.37,567.778 1262.55,572.934 1264.72,577.811 1266.9,582.379 1269.08,586.606 1271.25,590.464 1273.43,593.925 1275.6,596.962 1277.78,599.552 1279.96,601.68 1282.13,603.31 1284.31,604.407 1286.48,604.94 1288.66,604.884 1290.84,604.22 1293.01,602.933 1295.19,601.013 1297.36,598.457 1299.54,595.266 1301.72,591.445 1303.89,587.006 1306.07,581.967 1308.24,576.348 1310.42,570.203 1312.6,563.596 1314.77,556.588 1316.95,549.249 1319.12,541.658 1321.3,533.904 1323.48,526.086 1325.65,518.312 1327.83,510.699 1330.01,503.373 1332.18,496.471 1334.36,490.118 1336.53,484.398 1338.71,479.383 1340.89,475.135 1343.06,471.704 1345.24,469.124 1347.41,467.418 1349.59,466.595 1351.77,466.65 1353.94,467.568 1356.12,469.316 1358.29,471.852 1360.47,475.098 1362.65,478.977 1364.82,483.42 1367,488.358 1369.17,493.722 1371.35,499.443 1373.53,505.454 1375.7,511.687 1377.88,518.074 1380.05,524.549 1382.23,531.047 1384.41,537.533 1386.58,543.967 1388.76,550.306 1390.94,556.507 1393.11,562.531 1395.29,568.34 1397.46,573.901 1399.64,579.179 1401.82,584.146 1403.99,588.772 1406.17,593.034 1408.34,596.904 1410.52,600.348 1412.7,603.33 1414.87,605.818 1417.05,607.782 1419.22,609.193 1421.4,610.026 1423.58,610.256 1425.75,609.864 1427.93,608.829 1430.1,607.135 1432.28,604.767 1434.46,601.713 1436.63,597.966 1438.81,593.548 1440.98,588.476 1443.16,582.766 1445.34,576.451 1447.51,569.579 1449.69,562.21 1451.86,554.418 1454.04,546.293 1456.22,537.938 1458.39,529.469 1460.57,521.021 1462.75,512.753 1464.92,504.787 1467.1,497.227 1469.27,490.172 1471.45,483.71 1473.63,477.926 1475.8,472.897 1477.98,468.692 1480.15,465.376 1482.33,463.003 1484.51,461.624 1486.68,461.281 1488.86,461.927 1491.03,463.473 1493.21,465.867 1495.39,469.049 1497.56,472.955 1499.74,477.514 1501.91,482.647 1504.09,488.27 1506.27,494.291 1508.44,500.614 1510.62,507.166 1512.79,513.904 1514.97,520.766 1517.15,527.69 1519.32,534.622 1521.5,541.51 1523.68,548.307 1525.85,554.971 1528.03,561.463 1530.2,567.749 1532.38,573.798 1534.56,579.579 1536.73,585.055 1538.91,590.194 1541.08,594.962 1543.26,599.329 1545.44,603.262 1547.61,606.731 1549.79,609.704 1551.96,612.152 1554.14,614.045 1556.32,615.352 1558.49,616.046 1560.67,616.108 1562.84,615.513 1565.02,614.223 1567.2,612.214 1569.37,609.466 1571.55,605.973 1573.72,601.737 1575.9,596.769 1578.08,591.091 1580.25,584.732 1582.43,577.734 1584.6,570.145 1586.78,562.054 1588.96,553.558 1591.13,544.754 1593.31,535.745 1595.49,526.641 1597.66,517.561 1599.84,508.63 1602.01,499.981 1604.19,491.756 1606.37,484.101 1608.54,477.172 1610.72,471.128 1612.89,466.035 1615.07,461.936 1617.25,458.877 1619.42,456.885 1621.6,455.964 1623.77,456.102 1625.95,457.266 1628.13,459.402 1630.3,462.44 1632.48,466.287 1634.65,470.851 1636.83,476.056 1639.01,481.811 1641.18,488.03 1643.36,494.629 1645.53,501.53 1647.71,508.659 1649.89,515.943 1652.06,523.316 1654.24,530.715 1656.41,538.08 1658.59,545.357 1660.77,552.515 1662.94,559.518 1665.12,566.326 1667.3,572.903 1669.47,579.211 1671.65,585.218 1673.82,590.889 1676,596.195 1678.18,601.105 1680.35,605.59 1682.53,609.629 1684.7,613.188 1686.88,616.224 1689.06,618.701 1691.23,620.582 1693.41,621.834 1695.58,622.426 1697.76,622.332 1699.94,621.525 1702.11,619.983 1704.29,617.685 1706.46,614.615 1708.64,610.757 1710.82,606.099 1712.99,600.632 1715.17,594.392 1717.34,587.422 1719.52,579.762 1721.7,571.467 1723.87,562.611 1726.05,553.287 1728.23,543.604 1730.4,533.692 1732.58,523.697 1734.75,513.782 1736.93,504.141 1739.11,494.959 1741.28,486.361 1743.46,478.46 1745.63,471.359 1747.81,465.147 1749.99,459.905 1752.16,455.702 1754.34,452.596 1756.51,450.635 1758.69,449.855 1760.87,450.282 1763.04,451.868 1765.22,454.472 1767.39,458.01 1769.57,462.398 1771.75,467.545 1773.92,473.358 1776.1,479.739 1778.27,486.588 1780.45,493.799 1782.63,501.265 1784.8,508.927 1786.98,516.726 1789.15,524.594 1791.33,532.471 1793.51,540.301 1795.68,548.035 1797.86,555.625 1800.04,563.033 1802.21,570.222 1804.39,577.163 1806.56,583.826 1808.74,590.172 1810.92,596.168 1813.09,601.783 1815.27,606.985 1817.44,611.741 1819.62,616.018 1821.8,619.782 1823.97,622.999 1826.15,625.635 1828.32,627.655 1830.5,629.025 1832.68,629.722 1834.85,629.703 1837.03,628.924 1839.2,627.349 1841.38,624.95 1843.56,621.706 1845.73,617.607 1847.91,612.651 1850.08,606.841 1852.26,600.193 1854.44,592.73 1856.61,584.494 1858.79,575.573 1860.97,566.046 1863.14,556.01 1865.32,545.573 1867.49,534.861 1869.67,524.018 1871.85,513.2 1874.02,502.58 1876.2,492.346 1878.37,482.705 1880.55,473.871 1882.73,465.99 1884.9,459.168 1887.08,453.498 1889.25,449.05 1891.43,445.868 1893.61,443.974 1895.78,443.362 1897.96,444.005 1900.13,445.848 1902.31,448.815 1904.49,452.799 1906.66,457.68 1908.84,463.351 1911.01,469.705 1913.19,476.636 1915.37,484.044 1917.54,491.83 1919.72,499.899 1921.89,508.159 1924.07,516.519 1926.25,524.907 1928.42,533.288 1930.6,541.611 1932.78,549.825 1934.95,557.884 1937.13,565.748 1939.3,573.378 1941.48,580.738 1943.66,587.798 1945.83,594.531 1948.01,600.905 1950.18,606.885 1952.36,612.441 1954.54,617.539 1956.71,622.147 1958.89,626.23 1961.06,629.753 1963.24,632.68 1965.42,634.971 1967.59,636.589 1969.77,637.494 1971.94,637.644 1974.12,637.011 1976.3,635.563 1978.47,633.249 1980.65,630.035 1982.82,625.894 1985,620.815 1987.18,614.799 1989.35,607.86 1991.53,600.022 1993.71,591.326 1995.88,581.822 1998.06,571.612 2000.23,560.819 2002.41,549.565 2004.59,537.987 2006.76,526.234 2008.94,514.469 2011.11,502.868 2013.29,491.619 2015.47,480.924 2017.64,470.999 2019.82,462.07 2021.99,454.349 2024.17,447.906 2026.35,442.819 2028.52,439.141 2030.7,436.897 2032.87,436.081 2035.05,436.657 2037.23,438.561 2039.4,441.697 2041.58,445.941 2043.75,451.164 2045.93,457.25 2048.11,464.071 2050.28,471.508 2052.46,479.445 2054.63,487.777 2056.81,496.404 2058.99,505.232 2061.16,514.175 2063.34,523.154 2065.52,532.097 2067.69,540.966 2069.87,549.72 2072.04,558.314 2074.22,566.708 2076.4,574.863 2078.57,582.743 2080.75,590.317 2082.92,597.554 2085.1,604.425 2087.28,610.904 2089.45,616.955 2091.63,622.545 2093.8,627.644 2095.98,632.216 2098.16,636.226 2100.33,639.637 2102.51,642.409 2104.68,644.5 2106.86,645.868 2109.04,646.467 2111.21,646.253 2113.39,645.177 2115.56,643.219 2117.74,640.329 2119.92,636.462 2122.09,631.585 2124.27,625.684 2126.45,618.759 2128.62,610.828 2130.8,601.923 2132.97,592.092 2135.15,581.401 2137.33,569.962 2139.5,557.93 2141.68,545.455 2143.85,532.698 2146.03,519.835 2148.21,507.049 2150.38,494.54 2152.56,482.516 2154.73,471.199 2156.91,460.823 2159.09,451.633 2161.26,443.868 2163.44,437.599 2165.61,432.879 2167.79,429.746 2169.97,428.205 2172.14,428.229 2174.32,429.753 2176.49,432.682 2178.67,436.886 2180.85,442.2 2183.02,448.484 2185.2,455.609 2187.37,463.434 2189.55,471.825 2191.73,480.661 2193.9,489.829 2196.08,499.227 2198.26,508.763 2200.43,518.355 2202.61,527.929 2204.78,537.426 2206.96,546.807 2209.14,556.031 2211.31,565.058 2213.49,573.85 2215.66,582.373 2217.84,590.594 2220.02,598.481 2222.19,606.008 2224.37,613.148 2226.54,619.87 2228.72,626.141 2230.9,631.93 2233.07,637.207 2235.25,641.935 2237.42,646.078 2239.6,649.596 2241.78,652.445 2243.95,654.581 2246.13,655.955 2248.3,656.517 2250.48,656.213 2252.66,654.997 2254.83,652.838 2257.01,649.672 2259.19,645.447 2261.36,640.129 2263.54,633.697 2265.71,626.149 2267.89,617.496 2270.07,607.767 2272.24,597.007 2274.42,585.286 2276.59,572.746 2278.77,559.536 2280.95,545.819 2283.12,531.774 2285.3,517.599 2287.47,503.509 2289.65,489.735 2291.83,476.527 2294,464.153 2296.18,452.896 2298.35,443.058 2300.53,434.816 2302.71,428.245 2304.88,423.42 2307.06,420.374 2309.23,419.101 2311.41,419.554 2313.59,421.645 2315.76,425.249 2317.94,430.195 2320.11,436.31 2322.29,443.444 2324.47,451.429 2326.64,460.112 2328.82,469.349 2331,479.008 2333.17,488.97 2335.35,499.124 2337.52,509.375 2339.7,519.635 2341.88,529.841 2344.05,539.952 2346.23,549.92 2348.4,559.703 2350.58,569.263 2352.76,578.566 \"/>\n",
       "<path clip-path=\"url(#clip560)\" d=\"M1955.22 300.469 L2280.29 300.469 L2280.29 93.1086 L1955.22 93.1086  Z\" fill=\"#ffffff\" fill-rule=\"evenodd\" fill-opacity=\"1\"/>\n",
       "<polyline clip-path=\"url(#clip560)\" style=\"stroke:#000000; stroke-linecap:round; stroke-linejoin:round; stroke-width:4; stroke-opacity:1; fill:none\" points=\"1955.22,300.469 2280.29,300.469 2280.29,93.1086 1955.22,93.1086 1955.22,300.469 \"/>\n",
       "<polyline clip-path=\"url(#clip560)\" style=\"stroke:#009af9; stroke-linecap:round; stroke-linejoin:round; stroke-width:4; stroke-opacity:1; fill:none\" points=\"1979.37,144.949 2124.3,144.949 \"/>\n",
       "<path clip-path=\"url(#clip560)\" d=\"M2148.45 151.997 L2148.45 136.303 L2152.71 136.303 L2152.71 151.835 Q2152.71 155.516 2154.15 157.368 Q2155.58 159.196 2158.45 159.196 Q2161.9 159.196 2163.89 156.997 Q2165.91 154.798 2165.91 151.002 L2165.91 136.303 L2170.17 136.303 L2170.17 162.229 L2165.91 162.229 L2165.91 158.247 Q2164.36 160.608 2162.3 161.766 Q2160.26 162.9 2157.55 162.9 Q2153.08 162.9 2150.77 160.122 Q2148.45 157.344 2148.45 151.997 M2159.17 135.678 L2159.17 135.678 Z\" fill=\"#000000\" fill-rule=\"evenodd\" fill-opacity=\"1\" /><path clip-path=\"url(#clip560)\" d=\"M2180.35 158.293 L2187.99 158.293 L2187.99 131.928 L2179.68 133.595 L2179.68 129.335 L2187.94 127.669 L2192.62 127.669 L2192.62 158.293 L2200.26 158.293 L2200.26 162.229 L2180.35 162.229 L2180.35 158.293 Z\" fill=\"#000000\" fill-rule=\"evenodd\" fill-opacity=\"1\" /><path clip-path=\"url(#clip560)\" d=\"M2219.33 126.257 Q2216.23 131.581 2214.73 136.789 Q2213.22 141.997 2213.22 147.344 Q2213.22 152.692 2214.73 157.946 Q2216.25 163.178 2219.33 168.479 L2215.63 168.479 Q2212.16 163.039 2210.42 157.784 Q2208.71 152.53 2208.71 147.344 Q2208.71 142.182 2210.42 136.951 Q2212.13 131.72 2215.63 126.257 L2219.33 126.257 Z\" fill=\"#000000\" fill-rule=\"evenodd\" fill-opacity=\"1\" /><path clip-path=\"url(#clip560)\" d=\"M2231.81 128.942 L2231.81 136.303 L2240.58 136.303 L2240.58 139.613 L2231.81 139.613 L2231.81 153.687 Q2231.81 156.858 2232.67 157.761 Q2233.55 158.664 2236.21 158.664 L2240.58 158.664 L2240.58 162.229 L2236.21 162.229 Q2231.28 162.229 2229.4 160.4 Q2227.53 158.548 2227.53 153.687 L2227.53 139.613 L2224.4 139.613 L2224.4 136.303 L2227.53 136.303 L2227.53 128.942 L2231.81 128.942 Z\" fill=\"#000000\" fill-rule=\"evenodd\" fill-opacity=\"1\" /><path clip-path=\"url(#clip560)\" d=\"M2245.51 126.257 L2249.22 126.257 Q2252.69 131.72 2254.4 136.951 Q2256.14 142.182 2256.14 147.344 Q2256.14 152.53 2254.4 157.784 Q2252.69 163.039 2249.22 168.479 L2245.51 168.479 Q2248.59 163.178 2250.1 157.946 Q2251.62 152.692 2251.62 147.344 Q2251.62 141.997 2250.1 136.789 Q2248.59 131.581 2245.51 126.257 Z\" fill=\"#000000\" fill-rule=\"evenodd\" fill-opacity=\"1\" /><polyline clip-path=\"url(#clip560)\" style=\"stroke:#e26f46; stroke-linecap:round; stroke-linejoin:round; stroke-width:4; stroke-opacity:1; fill:none\" points=\"1979.37,196.789 2124.3,196.789 \"/>\n",
       "<path clip-path=\"url(#clip560)\" d=\"M2148.45 203.837 L2148.45 188.143 L2152.71 188.143 L2152.71 203.675 Q2152.71 207.356 2154.15 209.208 Q2155.58 211.036 2158.45 211.036 Q2161.9 211.036 2163.89 208.837 Q2165.91 206.638 2165.91 202.842 L2165.91 188.143 L2170.17 188.143 L2170.17 214.069 L2165.91 214.069 L2165.91 210.087 Q2164.36 212.448 2162.3 213.606 Q2160.26 214.74 2157.55 214.74 Q2153.08 214.74 2150.77 211.962 Q2148.45 209.184 2148.45 203.837 M2159.17 187.518 L2159.17 187.518 Z\" fill=\"#000000\" fill-rule=\"evenodd\" fill-opacity=\"1\" /><path clip-path=\"url(#clip560)\" d=\"M2183.57 210.133 L2199.89 210.133 L2199.89 214.069 L2177.94 214.069 L2177.94 210.133 Q2180.61 207.379 2185.19 202.749 Q2189.8 198.096 2190.98 196.754 Q2193.22 194.231 2194.1 192.495 Q2195 190.735 2195 189.046 Q2195 186.291 2193.06 184.555 Q2191.14 182.819 2188.04 182.819 Q2185.84 182.819 2183.38 183.583 Q2180.95 184.347 2178.18 185.897 L2178.18 181.175 Q2181 180.041 2183.45 179.462 Q2185.91 178.884 2187.94 178.884 Q2193.31 178.884 2196.51 181.569 Q2199.7 184.254 2199.7 188.745 Q2199.7 190.874 2198.89 192.796 Q2198.11 194.694 2196 197.286 Q2195.42 197.958 2192.32 201.175 Q2189.22 204.37 2183.57 210.133 Z\" fill=\"#000000\" fill-rule=\"evenodd\" fill-opacity=\"1\" /><path clip-path=\"url(#clip560)\" d=\"M2219.33 178.097 Q2216.23 183.421 2214.73 188.629 Q2213.22 193.837 2213.22 199.184 Q2213.22 204.532 2214.73 209.786 Q2216.25 215.018 2219.33 220.319 L2215.63 220.319 Q2212.16 214.879 2210.42 209.624 Q2208.71 204.37 2208.71 199.184 Q2208.71 194.022 2210.42 188.791 Q2212.13 183.56 2215.63 178.097 L2219.33 178.097 Z\" fill=\"#000000\" fill-rule=\"evenodd\" fill-opacity=\"1\" /><path clip-path=\"url(#clip560)\" d=\"M2231.81 180.782 L2231.81 188.143 L2240.58 188.143 L2240.58 191.453 L2231.81 191.453 L2231.81 205.527 Q2231.81 208.698 2232.67 209.601 Q2233.55 210.504 2236.21 210.504 L2240.58 210.504 L2240.58 214.069 L2236.21 214.069 Q2231.28 214.069 2229.4 212.24 Q2227.53 210.388 2227.53 205.527 L2227.53 191.453 L2224.4 191.453 L2224.4 188.143 L2227.53 188.143 L2227.53 180.782 L2231.81 180.782 Z\" fill=\"#000000\" fill-rule=\"evenodd\" fill-opacity=\"1\" /><path clip-path=\"url(#clip560)\" d=\"M2245.51 178.097 L2249.22 178.097 Q2252.69 183.56 2254.4 188.791 Q2256.14 194.022 2256.14 199.184 Q2256.14 204.37 2254.4 209.624 Q2252.69 214.879 2249.22 220.319 L2245.51 220.319 Q2248.59 215.018 2250.1 209.786 Q2251.62 204.532 2251.62 199.184 Q2251.62 193.837 2250.1 188.629 Q2248.59 183.421 2245.51 178.097 Z\" fill=\"#000000\" fill-rule=\"evenodd\" fill-opacity=\"1\" /><polyline clip-path=\"url(#clip560)\" style=\"stroke:#3da44d; stroke-linecap:round; stroke-linejoin:round; stroke-width:4; stroke-opacity:1; fill:none\" points=\"1979.37,248.629 2124.3,248.629 \"/>\n",
       "<path clip-path=\"url(#clip560)\" d=\"M2148.45 255.677 L2148.45 239.983 L2152.71 239.983 L2152.71 255.515 Q2152.71 259.196 2154.15 261.048 Q2155.58 262.876 2158.45 262.876 Q2161.9 262.876 2163.89 260.677 Q2165.91 258.478 2165.91 254.682 L2165.91 239.983 L2170.17 239.983 L2170.17 265.909 L2165.91 265.909 L2165.91 261.927 Q2164.36 264.288 2162.3 265.446 Q2160.26 266.58 2157.55 266.58 Q2153.08 266.58 2150.77 263.802 Q2148.45 261.024 2148.45 255.677 M2159.17 239.358 L2159.17 239.358 Z\" fill=\"#000000\" fill-rule=\"evenodd\" fill-opacity=\"1\" /><path clip-path=\"url(#clip560)\" d=\"M2193.71 247.274 Q2197.06 247.992 2198.94 250.261 Q2200.84 252.529 2200.84 255.862 Q2200.84 260.978 2197.32 263.779 Q2193.8 266.58 2187.32 266.58 Q2185.14 266.58 2182.83 266.14 Q2180.54 265.723 2178.08 264.867 L2178.08 260.353 Q2180.03 261.487 2182.34 262.066 Q2184.66 262.645 2187.18 262.645 Q2191.58 262.645 2193.87 260.909 Q2196.19 259.173 2196.19 255.862 Q2196.19 252.807 2194.03 251.094 Q2191.9 249.358 2188.08 249.358 L2184.06 249.358 L2184.06 245.515 L2188.27 245.515 Q2191.72 245.515 2193.55 244.149 Q2195.38 242.761 2195.38 240.168 Q2195.38 237.506 2193.48 236.094 Q2191.6 234.659 2188.08 234.659 Q2186.16 234.659 2183.96 235.075 Q2181.76 235.492 2179.13 236.372 L2179.13 232.205 Q2181.79 231.464 2184.1 231.094 Q2186.44 230.724 2188.5 230.724 Q2193.82 230.724 2196.93 233.154 Q2200.03 235.562 2200.03 239.682 Q2200.03 242.552 2198.38 244.543 Q2196.74 246.511 2193.71 247.274 Z\" fill=\"#000000\" fill-rule=\"evenodd\" fill-opacity=\"1\" /><path clip-path=\"url(#clip560)\" d=\"M2219.33 229.937 Q2216.23 235.261 2214.73 240.469 Q2213.22 245.677 2213.22 251.024 Q2213.22 256.372 2214.73 261.626 Q2216.25 266.858 2219.33 272.159 L2215.63 272.159 Q2212.16 266.719 2210.42 261.464 Q2208.71 256.21 2208.71 251.024 Q2208.71 245.862 2210.42 240.631 Q2212.13 235.4 2215.63 229.937 L2219.33 229.937 Z\" fill=\"#000000\" fill-rule=\"evenodd\" fill-opacity=\"1\" /><path clip-path=\"url(#clip560)\" d=\"M2231.81 232.622 L2231.81 239.983 L2240.58 239.983 L2240.58 243.293 L2231.81 243.293 L2231.81 257.367 Q2231.81 260.538 2232.67 261.441 Q2233.55 262.344 2236.21 262.344 L2240.58 262.344 L2240.58 265.909 L2236.21 265.909 Q2231.28 265.909 2229.4 264.08 Q2227.53 262.228 2227.53 257.367 L2227.53 243.293 L2224.4 243.293 L2224.4 239.983 L2227.53 239.983 L2227.53 232.622 L2231.81 232.622 Z\" fill=\"#000000\" fill-rule=\"evenodd\" fill-opacity=\"1\" /><path clip-path=\"url(#clip560)\" d=\"M2245.51 229.937 L2249.22 229.937 Q2252.69 235.4 2254.4 240.631 Q2256.14 245.862 2256.14 251.024 Q2256.14 256.21 2254.4 261.464 Q2252.69 266.719 2249.22 272.159 L2245.51 272.159 Q2248.59 266.858 2250.1 261.626 Q2251.62 256.372 2251.62 251.024 Q2251.62 245.677 2250.1 240.469 Q2248.59 235.261 2245.51 229.937 Z\" fill=\"#000000\" fill-rule=\"evenodd\" fill-opacity=\"1\" /></svg>\n"
      ]
     },
     "execution_count": 62,
     "metadata": {},
     "output_type": "execute_result"
    }
   ],
   "source": [
    "plot(sol)"
   ]
  },
  {
   "cell_type": "markdown",
   "id": "b9720ebf",
   "metadata": {},
   "source": [
    "### 2.3. Configuring the Solver: Common Solver Options <a class=\"anchor\" id=\"options\"></a>\n",
    "\n",
    "- When we solved our ODE problem just now, we simply did `solve(prob)` and allowed DifferentialEquations.jl to choose sensible defaults for the ODE solver algorithm and various other parameters.\n",
    "<br>\n",
    "\n",
    "- In practice, we often want more control over the solver.\n",
    "\n",
    "\n",
    "#### 2.3.1. Specifying the Solver Algorithm\n",
    "\n",
    "- A huge number of [ODE solvers](https://diffeq.sciml.ai/stable/solvers/ode_solve/) are implemented (or interfaced) in DifferentialEquations.jl.\n",
    "<br>\n",
    "\n",
    "- To specify a specific algorithm, simply pass it as the second argument to `solve`."
   ]
  },
  {
   "cell_type": "code",
   "execution_count": 63,
   "id": "82d90852",
   "metadata": {},
   "outputs": [
    {
     "data": {
      "text/plain": [
       "retcode: Success\n",
       "Interpolation: specialized 4th order \"free\" interpolation\n",
       "t: 98-element Vector{Float64}:\n",
       "  0.0\n",
       "  0.037686027031711686\n",
       "  0.06423640192671112\n",
       "  0.10885438709916373\n",
       "  0.15302988397674022\n",
       "  0.20133061019692808\n",
       "  0.2505553496183315\n",
       "  0.30217418372626514\n",
       "  0.3547847618321569\n",
       "  0.407677873576059\n",
       "  0.45247224835476085\n",
       "  0.49906051472202\n",
       "  0.5501392287184734\n",
       "  ⋮\n",
       "  8.895982054220877\n",
       "  8.99879870769752\n",
       "  9.114734498762507\n",
       "  9.208280932224376\n",
       "  9.314506017204021\n",
       "  9.409788826491067\n",
       "  9.533441320933024\n",
       "  9.634056880993645\n",
       "  9.748527973563217\n",
       "  9.840770777437339\n",
       "  9.942399632658445\n",
       " 10.0\n",
       "u: 98-element Vector{Vector{Float64}}:\n",
       " [0.5087143106577112, 0.7220387290925273, 0.554321660471579]\n",
       " [0.6649362036279258, 1.2791846113336978, 0.5220871061012304]\n",
       " [0.868104250729835, 1.793000621061993, 0.5164220785351178]\n",
       " [1.4274555626941074, 3.0612517145926113, 0.5741785858523176]\n",
       " [2.3766333536552793, 5.12949412971582, 0.8312677213101087]\n",
       " [4.151129396529686, 8.911530214591709, 1.757143519332517]\n",
       " [7.226802016080853, 15.14698127024013, 4.678601496124218]\n",
       " [12.28480234085383, 23.71027301880449, 13.335786112521589]\n",
       " [18.11055063526237, 26.85040307180352, 31.60925285714361]\n",
       " [19.08283623554213, 12.69321010736697, 47.32861849832327]\n",
       " [13.692014078534767, -2.1376254108551116, 45.494948401949976]\n",
       " [6.277903170677953, -8.374460413832702, 37.733746739444655]\n",
       " [0.17091326717202193, -9.054475994856663, 31.69299511039665]\n",
       " ⋮\n",
       " [-7.03389254794945, -9.11116125688568, 21.807147589686807]\n",
       " [-9.641616733605275, -12.269225445853877, 24.81812873780573]\n",
       " [-11.21169243064555, -10.622763528995126, 31.15182895359235]\n",
       " [-9.240984944110899, -6.15178591006802, 31.40693606096934]\n",
       " [-6.312373266250075, -4.379639100754093, 27.113187662296315]\n",
       " [-5.422522402560724, -5.464517392829144, 23.32164821482172]\n",
       " [-6.862678687503903, -9.052904473527663, 21.323820229955498]\n",
       " [-9.595258695185882, -12.487026942033022, 24.332692117369035]\n",
       " [-11.469202514252308, -11.06046765264166, 31.2888798929525]\n",
       " [-9.493321200134263, -6.16418786036192, 31.9223608538489]\n",
       " [-6.346278306436551, -4.029469098086202, 27.617950219436807]\n",
       " [-5.382712995884016, -4.358896319561033, 24.962044907334562]"
      ]
     },
     "execution_count": 63,
     "metadata": {},
     "output_type": "execute_result"
    }
   ],
   "source": [
    "solve(prob, Tsit5())"
   ]
  },
  {
   "cell_type": "markdown",
   "id": "94c8d955",
   "metadata": {},
   "source": [
    "#### 2.3.2. Save Times\n",
    "\n",
    "- By default, an adaptive step size algorithm will simply save the result at the times where it stopped.\n",
    "<br>\n",
    "\n",
    "- Often, you'll want the solver to output the solution at predefined times. To do this, use the keyword argument `saveat`."
   ]
  },
  {
   "cell_type": "code",
   "execution_count": 64,
   "id": "71404493",
   "metadata": {},
   "outputs": [
    {
     "data": {
      "text/plain": [
       "retcode: Success\n",
       "Interpolation: 1st order linear\n",
       "t: 101-element Vector{Float64}:\n",
       "  0.0\n",
       "  0.1\n",
       "  0.2\n",
       "  0.3\n",
       "  0.4\n",
       "  0.5\n",
       "  0.6\n",
       "  0.7\n",
       "  0.8\n",
       "  0.9\n",
       "  1.0\n",
       "  1.1\n",
       "  1.2\n",
       "  ⋮\n",
       "  8.9\n",
       "  9.0\n",
       "  9.1\n",
       "  9.2\n",
       "  9.3\n",
       "  9.4\n",
       "  9.5\n",
       "  9.6\n",
       "  9.7\n",
       "  9.8\n",
       "  9.9\n",
       " 10.0\n",
       "u: 101-element Vector{Vector{Float64}}:\n",
       " [0.5087143106577112, 0.7220387290925273, 0.554321660471579]\n",
       " [1.290287131178819, 2.757167631926005, 0.5524873408287414]\n",
       " [4.0882489439380105, 8.779332748412033, 1.7148123562546989]\n",
       " [12.03742676703115, 23.366550415821692, 12.789222000014885]\n",
       " [19.476530187090646, 15.587049434511094, 46.176436031220604]\n",
       " [6.140671466014411, -8.422937389045765, 37.59042300742775]\n",
       " [-3.3335628388869214, -8.49508194355623, 28.47182382596138]\n",
       " [-6.459890413760127, -8.373989358870045, 25.605363594346592]\n",
       " [-8.047969129956309, -9.46675896785113, 25.35173897045789]\n",
       " [-9.25975269738461, -10.1329600617924, 27.024785062296726]\n",
       " [-9.525785146800454, -9.127452464048178, 28.82899192936806]\n",
       " [-8.63103408832565, -7.44044056922193, 28.671388654175725]\n",
       " [-7.580602976904279, -6.842399405849, 26.906267029449435]\n",
       " ⋮\n",
       " [-7.118395176095213, -9.25001413466551, 21.83424702636105]\n",
       " [-9.67313882500814, -12.291031675583104, 24.88097953504814]\n",
       " [-11.2549704735781, -11.254508307464045, 30.546437020144168]\n",
       " [-9.493899781407977, -6.478105954032262, 31.613743467354894]\n",
       " [-6.614726316404999, -4.387596982701357, 27.76499914327526]\n",
       " [-5.427803296565399, -5.277317061814002, 23.649449915540043]\n",
       " [-6.211681485471964, -7.880655971231469, 21.37935656008727]\n",
       " [-8.59542084392499, -11.503640405117535, 22.737260111041138]\n",
       " [-11.169595396530685, -12.734470199742413, 28.51524825592083]\n",
       " [-10.699829522545613, -8.243599995257885, 32.469550933381036]\n",
       " [-7.511239479483778, -4.388521625659548, 29.64429912922209]\n",
       " [-5.382712995884016, -4.358896319561033, 24.962044907334562]"
      ]
     },
     "execution_count": 64,
     "metadata": {},
     "output_type": "execute_result"
    }
   ],
   "source": [
    "sol = solve(prob, Tsit5(), saveat = 0.1)"
   ]
  },
  {
   "cell_type": "markdown",
   "id": "72978380",
   "metadata": {},
   "source": [
    "- This does **not** force the adaptive solver to stop at those times. Instead, the solution at intermediate times is calculated using an efficient interpolation function that preserves the order of the solution."
   ]
  },
  {
   "cell_type": "markdown",
   "id": "5af8836b",
   "metadata": {},
   "source": [
    "#### 2.3.3. Error Tolerances\n",
    "\n",
    "- For an adaptive stepsize algorithm, the stepsize is controlled by the requirement that a normalised error estimate remains below a certain threshold.\n",
    "<br>\n",
    "\n",
    "- In particular, we require that the normalised error satisfies componentwise\n",
    "\n",
    "$$\\mathrm{err_i} \\leq \\mathrm{abstol_i} + \\max(|y_{0i}|, |y_{1i}|) \\cdot \\mathrm{reltol_i},$$\n",
    "\n",
    "where $|y_{0i}|$ is the initial value, $|y_{1i}|$ is the solver's estimate of the solution, $\\mathrm{abstol_i}$ is the *absolute tolerance* and $\\mathrm{reltol_i}$ is the *relative tolerance*.\n",
    "<br>\n",
    "\n",
    "- The stepping behaviour is therefore determined by our choice of $\\mathrm{abstol_i}$ and $\\mathrm{reltol_i}$.\n",
    "<br>\n",
    "\n",
    "- The relative tolerance scales with the solution, so you can interpret a relative tolerance of `1e-3` as meaning, roughly, that the solution is (locally) correct to 3 digits.\n",
    "<br>\n",
    "\n",
    "- On the other hand, the absolute tolerance controls the (local) error of the solution around zero.\n",
    "<br>\n",
    "\n",
    "- The default values are $10^{-3}$ and $10^{-6}$ for the relative and absolute tolerance, respectively. We can change these values using the `abstol` and `reltol` keyword arguments to `solve`:\n",
    "<br>"
   ]
  },
  {
   "cell_type": "code",
   "execution_count": 65,
   "id": "9c4cf9a5",
   "metadata": {},
   "outputs": [
    {
     "data": {
      "text/plain": [
       "retcode: Success\n",
       "Interpolation: specialized 4th order \"free\" interpolation\n",
       "t: 357-element Vector{Float64}:\n",
       "  0.0\n",
       "  0.01171120253523229\n",
       "  0.019655971479271093\n",
       "  0.03155141883721953\n",
       "  0.043081167285799936\n",
       "  0.05682376828949389\n",
       "  0.0712937017581904\n",
       "  0.08721695537898376\n",
       "  0.10390774044374079\n",
       "  0.1212740209942651\n",
       "  0.1388726513374344\n",
       "  0.15650075826327037\n",
       "  0.17394658531577445\n",
       "  ⋮\n",
       "  9.75263378400763\n",
       "  9.776786255620753\n",
       "  9.799972031354022\n",
       "  9.822493790302271\n",
       "  9.844691124205653\n",
       "  9.86692087104853\n",
       "  9.889507309181655\n",
       "  9.912738741790273\n",
       "  9.936865071336097\n",
       "  9.962223531456592\n",
       "  9.989588893818087\n",
       " 10.0\n",
       "u: 357-element Vector{Vector{Float64}}:\n",
       " [0.5087143106577112, 0.7220387290925273, 0.554321660471579]\n",
       " [0.5411668462027668, 0.8810296299793018, 0.5421217017903961]\n",
       " [0.5714904015894514, 0.994838873331802, 0.5348564347524721]\n",
       " [0.6292710338252848, 1.1777135851374485, 0.5257827096021793]\n",
       " [0.6996597226099417, 1.3731565360536855, 0.5194749539727002]\n",
       " [0.8029929139282529, 1.6355991531473006, 0.5160123417728241]\n",
       " [0.9366277800863829, 1.9547001863362414, 0.5186113643325991]\n",
       " [1.1168498557828703, 2.3682262003060837, 0.5315906964020385]\n",
       " [1.3490044960189735, 2.887647122276155, 0.5612482350475327]\n",
       " [1.6462934376712943, 3.5424935872070136, 0.617410271276187]\n",
       " [2.01730225453722, 4.351447873231633, 0.7131748438209158]\n",
       " [2.4741268812635413, 5.339869077115639, 0.8674817815409335]\n",
       " [3.0277947948183597, 6.528982713764911, 1.1058774389092099]\n",
       " ⋮\n",
       " [-11.250345080916512, -10.29256216186279, 31.587999659610254]\n",
       " [-10.903792361902758, -9.016021903609102, 32.12376649837762]\n",
       " [-10.379686550329838, -7.783757155869667, 32.208133846786794]\n",
       " [-9.739561833178833, -6.69275597444975, 31.92051997858795]\n",
       " [-9.036820666967168, -5.792009292898704, 31.345943516580398]\n",
       " [-8.31478150940014, -5.098237550091346, 30.557831603784933]\n",
       " [-7.609781779110989, -4.611076559568565, 29.61521316683071]\n",
       " [-6.953486337744983, -4.321408526631052, 28.56511617801043]\n",
       " [-6.374310906485715, -4.216500622662971, 27.446332884550586]\n",
       " [-5.8958405153661015, -4.2843225272182845, 26.28755048578064]\n",
       " [-5.536950040426526, -4.524278638494587, 25.098214938664427]\n",
       " [-5.443211268702291, -4.654599060074131, 24.669522841231665]"
      ]
     },
     "execution_count": 65,
     "metadata": {},
     "output_type": "execute_result"
    }
   ],
   "source": [
    "solve(prob, Tsit5(), reltol = 1e-6, abstol = 1e-6)"
   ]
  },
  {
   "cell_type": "markdown",
   "id": "30950b7e",
   "metadata": {},
   "source": [
    "## 3. Further Reading <a class=\"anchor\" id=\"further-reading\"></a>\n",
    "\n",
    "1. [Julia Manual](https://docs.julialang.org/en/v1/)\n",
    "2. [Julia Cheat Sheet](https://cheatsheet.juliadocs.org/)\n",
    "3. [Julia Performance Tips](https://docs.julialang.org/en/v1/manual/performance-tips/)\n",
    "4. [DifferentialEquations.jl docs](https://docs.sciml.ai/DiffEqDocs/stable/)"
   ]
  }
 ],
 "metadata": {
  "kernelspec": {
   "display_name": "Julia 1.8.2",
   "language": "julia",
   "name": "julia-1.8"
  },
  "language_info": {
   "file_extension": ".jl",
   "mimetype": "application/julia",
   "name": "julia",
   "version": "1.8.2"
  }
 },
 "nbformat": 4,
 "nbformat_minor": 5
}
