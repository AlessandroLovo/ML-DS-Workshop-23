{
 "cells": [
  {
   "cell_type": "markdown",
   "id": "843db417",
   "metadata": {},
   "source": [
    "# Julia: Crash Course and Solving ODEs"
   ]
  },
  {
   "cell_type": "markdown",
   "id": "a474d5e4",
   "metadata": {},
   "source": [
    "## Contents\n",
    "1. [Julia Crash Course](#julia)\n",
    "2. [DifferentialEquations.jl](#diffeq)"
   ]
  },
  {
   "cell_type": "markdown",
   "id": "92d72069",
   "metadata": {},
   "source": [
    "## 1. Julia Crash Course <a class=\"anchor\" id=\"julia\"></a>\n",
    "\n",
    "\n",
    "### 1.1. Why Julia\n",
    "\n",
    "- Historically, we might divide programming languages commonly used for scientific computing into so-called \"high-level\" and \"low-level\" languages:\n",
    "\n",
    "\n",
    "| Language Type | Implementation | Type System | Syntax | Speed | Examples\n",
    "| :- | :- | :- | :- | :- | :- |\n",
    "| High-level | [Interpreted](https://en.wikipedia.org/wiki/Interpreter_(computing)) | [Dynamic](https://en.wikipedia.org/wiki/Type_system#Dynamic_type_checking_and_runtime_type_information) | Easy, modern | Painfully slow | Python, R, Mathematica\n",
    "| Low-level | [Compiled](https://en.wikipedia.org/wiki/Compiled_language) | [Static](https://en.wikipedia.org/wiki/Type_system#Static_type_checking) | Hard, obscure | Blazing fast | Fortran, C, C++\n",
    "\n",
    "- This divide gives rise to the dreaded [**two-language problem**](https://www.nature.com/articles/d41586-019-02310-3): scientific programmes are often prototyped in a high-level language, such as Python, but then have to be translated into a low-level language, such as C, when speed becomes important. If you've ever had to convert a Python for-loop into vectorised NumPy code, then you've already experienced the two-language problem yourself.\n",
    "<br>\n",
    "\n",
    "- Julia aims to solve the two-language problem, giving scientists the flexibility to write code with the ease of Python while executing with the speed of Fortran or C, all inside one language.\n",
    "<br>\n",
    "\n",
    "- That is to say, Julia offers the best of both worlds:\n",
    "    - it's ([JIT](https://en.wikipedia.org/wiki/Just-in-time_compilation)) **compiled**,\n",
    "    - it's **dynamically typed**,\n",
    "    - it has a clean **modern syntax**,\n",
    "    - it's **exceptionally** [**fast**](https://julialang.org/benchmarks/).\n",
    "    \n",
    "\n",
    "- TODO: Add some examples of high profile uses of Julia, e.g. Clima.\n",
    "- TODO: Add something about the REPL between here and the next section."
   ]
  },
  {
   "cell_type": "markdown",
   "id": "67f483d8",
   "metadata": {},
   "source": [
    "### 1.2. Arrays\n",
    "\n",
    "- Unsurprisingly, given its emphasis on technical computing, Julia has a first-class array implementation, `Array`.\n",
    "<br>\n",
    "\n",
    "- It's a good idea to read the array [documentation](https://docs.julialang.org/en/v1/manual/arrays/), but here we will give a very brief overview of what you need to get started.\n",
    "\n",
    "#### 1.2.1. `Array` can have arbitrary dimensions\n",
    "\n",
    "- In Julia, arrays can have **arbitrary dimensions**. You can think of an array as a finite n-dimensional grid, with an object placed at each gridpoint."
   ]
  },
  {
   "cell_type": "code",
   "execution_count": 6,
   "id": "841a2934",
   "metadata": {},
   "outputs": [
    {
     "data": {
      "text/plain": [
       "Array{Float64, 3}"
      ]
     },
     "execution_count": 6,
     "metadata": {},
     "output_type": "execute_result"
    }
   ],
   "source": [
    "a = zeros(2, 3, 4)  # zeros is a useful constructor\n",
    "typeof(a)"
   ]
  },
  {
   "cell_type": "code",
   "execution_count": 3,
   "id": "2bb1de32",
   "metadata": {},
   "outputs": [
    {
     "data": {
      "text/plain": [
       "Matrix{Float64}\u001b[90m (alias for \u001b[39m\u001b[90mArray{Float64, 2}\u001b[39m\u001b[90m)\u001b[39m"
      ]
     },
     "execution_count": 3,
     "metadata": {},
     "output_type": "execute_result"
    }
   ],
   "source": [
    "a = zeros(2, 3)\n",
    "typeof(a)"
   ]
  },
  {
   "cell_type": "code",
   "execution_count": 4,
   "id": "3f70a622",
   "metadata": {},
   "outputs": [
    {
     "data": {
      "text/plain": [
       "Vector{Float64}\u001b[90m (alias for \u001b[39m\u001b[90mArray{Float64, 1}\u001b[39m\u001b[90m)\u001b[39m"
      ]
     },
     "execution_count": 4,
     "metadata": {},
     "output_type": "execute_result"
    }
   ],
   "source": [
    "a = zeros(2)\n",
    "typeof(a)"
   ]
  },
  {
   "cell_type": "code",
   "execution_count": 7,
   "id": "bf86cd29",
   "metadata": {},
   "outputs": [
    {
     "data": {
      "text/plain": [
       "Array{Float64, 0}"
      ]
     },
     "execution_count": 7,
     "metadata": {},
     "output_type": "execute_result"
    }
   ],
   "source": [
    "a = zeros()\n",
    "typeof(a)"
   ]
  },
  {
   "cell_type": "markdown",
   "id": "3a7528d4",
   "metadata": {},
   "source": [
    "#### 1.2.2. `Array` is 1-indexed\n",
    "\n",
    "- Unlike other programming languages you might be familiar with, Julia arrays are 1-indexed rather than 0-indexed."
   ]
  },
  {
   "cell_type": "code",
   "execution_count": 11,
   "id": "a8baa6db",
   "metadata": {},
   "outputs": [
    {
     "data": {
      "text/plain": [
       "3-element Vector{Float64}:\n",
       " 0.5301631387140582\n",
       " 0.5518406542346757\n",
       " 0.310180193598278"
      ]
     },
     "execution_count": 11,
     "metadata": {},
     "output_type": "execute_result"
    }
   ],
   "source": [
    "a = rand(3)"
   ]
  },
  {
   "cell_type": "code",
   "execution_count": 12,
   "id": "a426180a",
   "metadata": {},
   "outputs": [
    {
     "ename": "LoadError",
     "evalue": "BoundsError: attempt to access 3-element Vector{Float64} at index [0]",
     "output_type": "error",
     "traceback": [
      "BoundsError: attempt to access 3-element Vector{Float64} at index [0]",
      "",
      "Stacktrace:",
      " [1] getindex(A::Vector{Float64}, i1::Int64)",
      "   @ Base ./array.jl:924",
      " [2] top-level scope",
      "   @ In[12]:1",
      " [3] eval",
      "   @ ./boot.jl:368 [inlined]",
      " [4] include_string(mapexpr::typeof(REPL.softscope), mod::Module, code::String, filename::String)",
      "   @ Base ./loading.jl:1428"
     ]
    }
   ],
   "source": [
    "a[0]  # Attempt to get the element at position 0 of a"
   ]
  },
  {
   "cell_type": "code",
   "execution_count": 14,
   "id": "10d42168",
   "metadata": {},
   "outputs": [
    {
     "data": {
      "text/plain": [
       "0.5301631387140582"
      ]
     },
     "execution_count": 14,
     "metadata": {},
     "output_type": "execute_result"
    }
   ],
   "source": [
    "a[1]  # Get the first element of a"
   ]
  },
  {
   "cell_type": "markdown",
   "id": "588e499c",
   "metadata": {},
   "source": [
    "#### 1.2.3. More General Array Indexing\n",
    "\n",
    "- The general syntax for indexing into an n-dimensional array `A` is:\n",
    "\n",
    "    `A[I_1, I_2, ..., I_n]`,\n",
    "\n",
    "    where each `I_k` may be a scalar integer, an array of integers, or any other supported index (see the [docs]((https://docs.julialang.org/en/v1/manual/arrays/#man-supported-index-types)) for other supported indices)."
   ]
  },
  {
   "cell_type": "code",
   "execution_count": 28,
   "id": "43acfb88",
   "metadata": {},
   "outputs": [
    {
     "data": {
      "text/plain": [
       "2×3 Matrix{Float64}:\n",
       " 0.185933  0.0478174  0.481766\n",
       " 0.371688  0.972404   0.725433"
      ]
     },
     "execution_count": 28,
     "metadata": {},
     "output_type": "execute_result"
    }
   ],
   "source": [
    "a = rand(2, 3)"
   ]
  },
  {
   "cell_type": "code",
   "execution_count": 29,
   "id": "e1ea5d50",
   "metadata": {},
   "outputs": [
    {
     "data": {
      "text/plain": [
       "0.04781739072882396"
      ]
     },
     "execution_count": 29,
     "metadata": {},
     "output_type": "execute_result"
    }
   ],
   "source": [
    "a[1, 2]"
   ]
  },
  {
   "cell_type": "code",
   "execution_count": 30,
   "id": "aab17f9e",
   "metadata": {},
   "outputs": [
    {
     "data": {
      "text/plain": [
       "2-element Vector{Float64}:\n",
       " 0.3716881178129522\n",
       " 0.9724037155246469"
      ]
     },
     "execution_count": 30,
     "metadata": {},
     "output_type": "execute_result"
    }
   ],
   "source": [
    "a[2, 1:2]  # 1:2 is a range object"
   ]
  },
  {
   "cell_type": "markdown",
   "id": "db752056",
   "metadata": {},
   "source": [
    "#### 1.2.4. Indexed Assignment\n",
    "- As you might expect, arrays are mutable.\n",
    "<br>\n",
    "\n",
    "- Similar to array indexing, the general syntax for assigning values in an n-dimensional array `A` is:\n",
    "\n",
    "    `A[I_1, I_2, ..., I_n] = X`,\n",
    "\n",
    "    where each `I_k` may be a scalar integer, an array of integers, or any other supported index."
   ]
  },
  {
   "cell_type": "code",
   "execution_count": 31,
   "id": "3be5d9a4",
   "metadata": {},
   "outputs": [
    {
     "data": {
      "text/plain": [
       "2×3 Matrix{Float64}:\n",
       " 0.185933  2.0       0.481766\n",
       " 0.371688  0.972404  0.725433"
      ]
     },
     "execution_count": 31,
     "metadata": {},
     "output_type": "execute_result"
    }
   ],
   "source": [
    "a[1, 2] = 2\n",
    "a"
   ]
  },
  {
   "cell_type": "markdown",
   "id": "90b203a3",
   "metadata": {},
   "source": [
    "- If any index `I_k` is itself an array, then the right hand side `X` must also be an array with the same shape as the result of indexing `A[I_1, I_2, ..., I_n]` or a vector with the same number of elements. "
   ]
  },
  {
   "cell_type": "code",
   "execution_count": 32,
   "id": "0ed60c99",
   "metadata": {},
   "outputs": [
    {
     "data": {
      "text/plain": [
       "(2,)"
      ]
     },
     "execution_count": 32,
     "metadata": {},
     "output_type": "execute_result"
    }
   ],
   "source": [
    "size(a[1, [1,2]])  # Two-element vector"
   ]
  },
  {
   "cell_type": "code",
   "execution_count": 33,
   "id": "49b15155",
   "metadata": {},
   "outputs": [
    {
     "data": {
      "text/plain": [
       "(2,)"
      ]
     },
     "execution_count": 33,
     "metadata": {},
     "output_type": "execute_result"
    }
   ],
   "source": [
    "size([3, 4])  # Also a two-element vector"
   ]
  },
  {
   "cell_type": "code",
   "execution_count": 34,
   "id": "519ab143",
   "metadata": {},
   "outputs": [
    {
     "data": {
      "text/plain": [
       "2×3 Matrix{Float64}:\n",
       " 0.185933  2.0  0.481766\n",
       " 3.0       4.0  0.725433"
      ]
     },
     "execution_count": 34,
     "metadata": {},
     "output_type": "execute_result"
    }
   ],
   "source": [
    "a[2, [1,2]] = [3, 4]  # Which means we can do this\n",
    "a"
   ]
  },
  {
   "cell_type": "markdown",
   "id": "5ff2fa7a",
   "metadata": {},
   "source": [
    "- Finally, the element-wise assignment operator `.=` may be used to broadcast `X` across the selected locations:\n",
    "\n",
    "    `A[I_1, I_2, ..., I_n] .= X`"
   ]
  },
  {
   "cell_type": "code",
   "execution_count": 36,
   "id": "31b51f40",
   "metadata": {},
   "outputs": [
    {
     "data": {
      "text/plain": [
       "2×3 Matrix{Float64}:\n",
       " 0.185933  2.0  5.0\n",
       " 3.0       4.0  5.0"
      ]
     },
     "execution_count": 36,
     "metadata": {},
     "output_type": "execute_result"
    }
   ],
   "source": [
    "a[:, 3] .= 5.0\n",
    "a"
   ]
  },
  {
   "cell_type": "markdown",
   "id": "bdf0b276",
   "metadata": {},
   "source": [
    "### 1.3. Functions, Methods, and Multiple Dispatch\n",
    "\n",
    "- At a high level, functions in Julia are conceputally similar to mathematical functions: they map inputs to return values.\n",
    "\n",
    "#### 1.3.1. Standard Function Definition Syntax \n",
    "\n",
    "- This is probably the form you'll see and use most often."
   ]
  },
  {
   "cell_type": "code",
   "execution_count": 37,
   "id": "2f3c4e78",
   "metadata": {},
   "outputs": [
    {
     "data": {
      "text/plain": [
       "f (generic function with 1 method)"
      ]
     },
     "execution_count": 37,
     "metadata": {},
     "output_type": "execute_result"
    }
   ],
   "source": [
    "function f(x, y)\n",
    "    return x + y\n",
    "end"
   ]
  },
  {
   "cell_type": "code",
   "execution_count": 38,
   "id": "e6b7ecd0",
   "metadata": {},
   "outputs": [
    {
     "data": {
      "text/plain": [
       "3"
      ]
     },
     "execution_count": 38,
     "metadata": {},
     "output_type": "execute_result"
    }
   ],
   "source": [
    "f(1, 2)"
   ]
  },
  {
   "cell_type": "markdown",
   "id": "cc4db6e5",
   "metadata": {},
   "source": [
    "- Note that the `return` keyword is optional, since by default a function will return the value of the **last expression evaluated**. However, I generally prefer to be as explicit as possible so I include it.\n",
    "<br>\n",
    "\n",
    "- By convention, functions which modify their arguments in-place have names ending in `!`."
   ]
  },
  {
   "cell_type": "code",
   "execution_count": 43,
   "id": "91997f90",
   "metadata": {},
   "outputs": [
    {
     "data": {
      "text/plain": [
       "square_array! (generic function with 1 method)"
      ]
     },
     "execution_count": 43,
     "metadata": {},
     "output_type": "execute_result"
    }
   ],
   "source": [
    "function square_array!(a)\n",
    "    a .= a.^2\n",
    "    return nothing\n",
    "end"
   ]
  },
  {
   "cell_type": "code",
   "execution_count": 59,
   "id": "11f6eeb5",
   "metadata": {},
   "outputs": [
    {
     "data": {
      "text/plain": [
       "2×3 Matrix{Float64}:\n",
       " 0.243873  0.260621  0.465913\n",
       " 0.262262  0.426214  0.0256367"
      ]
     },
     "execution_count": 59,
     "metadata": {},
     "output_type": "execute_result"
    }
   ],
   "source": [
    "a = rand(2, 3)"
   ]
  },
  {
   "cell_type": "code",
   "execution_count": 60,
   "id": "fe8efb68",
   "metadata": {},
   "outputs": [
    {
     "data": {
      "text/plain": [
       "2×3 Matrix{Float64}:\n",
       " 0.0594738  0.0679234  0.217075\n",
       " 0.0687815  0.181658   0.000657241"
      ]
     },
     "execution_count": 60,
     "metadata": {},
     "output_type": "execute_result"
    }
   ],
   "source": [
    "square_array!(a)\n",
    "a"
   ]
  },
  {
   "cell_type": "markdown",
   "id": "e4fb8b7f",
   "metadata": {},
   "source": [
    "- For more information on defining functions, such as [optional arguments](https://docs.julialang.org/en/v1/manual/functions/#Optional-Arguments) and [keyword arguments](https://docs.julialang.org/en/v1/manual/functions/#Keyword-Arguments), see the [docs](https://docs.julialang.org/en/v1/manual/functions/)."
   ]
  },
  {
   "cell_type": "markdown",
   "id": "e1dd118e",
   "metadata": {},
   "source": [
    "#### 1.3.2. Methods\n",
    "\n",
    "- Closely related to functions is the idea of a method.\n",
    "<br>\n",
    "\n",
    "- A method defines one possible behaviour for a function, _given the_ number _and_ types _of its arguments_.\n"
   ]
  },
  {
   "cell_type": "code",
   "execution_count": 62,
   "id": "59bf72f3",
   "metadata": {},
   "outputs": [
    {
     "data": {
      "text/plain": [
       "add (generic function with 2 methods)"
      ]
     },
     "execution_count": 62,
     "metadata": {},
     "output_type": "execute_result"
    }
   ],
   "source": [
    "function add(x, y)\n",
    "    return x + y\n",
    "end\n",
    "\n",
    "function add(x, y, z)\n",
    "    return x + y + z\n",
    "end"
   ]
  },
  {
   "cell_type": "code",
   "execution_count": 63,
   "id": "4e4876c7",
   "metadata": {},
   "outputs": [
    {
     "data": {
      "text/html": [
       "# 2 methods for generic function <b>add</b>:<ul><li> add(x, y) in Main at In[62]:1</li> <li> add(x, y, z) in Main at In[62]:5</li> </ul>"
      ],
      "text/plain": [
       "# 2 methods for generic function \"add\":\n",
       "[1] add(x, y) in Main at In[62]:1\n",
       "[2] add(x, y, z) in Main at In[62]:5"
      ]
     },
     "execution_count": 63,
     "metadata": {},
     "output_type": "execute_result"
    }
   ],
   "source": [
    "methods(add)"
   ]
  },
  {
   "cell_type": "code",
   "execution_count": 67,
   "id": "00d5b4da",
   "metadata": {},
   "outputs": [
    {
     "data": {
      "text/plain": [
       "3"
      ]
     },
     "execution_count": 67,
     "metadata": {},
     "output_type": "execute_result"
    }
   ],
   "source": [
    "add(1, 2)"
   ]
  },
  {
   "cell_type": "code",
   "execution_count": 66,
   "id": "ed9120a8",
   "metadata": {},
   "outputs": [
    {
     "data": {
      "text/plain": [
       "6"
      ]
     },
     "execution_count": 66,
     "metadata": {},
     "output_type": "execute_result"
    }
   ],
   "source": [
    "add(1, 2, 3)"
   ]
  },
  {
   "cell_type": "markdown",
   "id": "73e32800",
   "metadata": {},
   "source": [
    "- Conceptually, we have one function (addition), with many possible behaviours, depending on the types of the inputs (integers, floats, matrices, and so on).\n",
    "<br>\n",
    "\n",
    "- We can use _type annotations_ to make our method definitions more specific. "
   ]
  },
  {
   "cell_type": "code",
   "execution_count": 64,
   "id": "95c0af23",
   "metadata": {},
   "outputs": [
    {
     "data": {
      "text/plain": [
       "add (generic function with 3 methods)"
      ]
     },
     "execution_count": 64,
     "metadata": {},
     "output_type": "execute_result"
    }
   ],
   "source": [
    "function add(X::Array, Y::Array)\n",
    "    return X .+ Y\n",
    "end"
   ]
  },
  {
   "cell_type": "code",
   "execution_count": 68,
   "id": "c6edaa10",
   "metadata": {},
   "outputs": [
    {
     "data": {
      "text/html": [
       "# 3 methods for generic function <b>add</b>:<ul><li> add(X::<b>Array</b>, Y::<b>Array</b>) in Main at In[64]:1</li> <li> add(x, y) in Main at In[62]:1</li> <li> add(x, y, z) in Main at In[62]:5</li> </ul>"
      ],
      "text/plain": [
       "# 3 methods for generic function \"add\":\n",
       "[1] add(X::Array, Y::Array) in Main at In[64]:1\n",
       "[2] add(x, y) in Main at In[62]:1\n",
       "[3] add(x, y, z) in Main at In[62]:5"
      ]
     },
     "execution_count": 68,
     "metadata": {},
     "output_type": "execute_result"
    }
   ],
   "source": [
    "methods(add)"
   ]
  },
  {
   "cell_type": "code",
   "execution_count": 78,
   "id": "584ad042",
   "metadata": {},
   "outputs": [
    {
     "data": {
      "text/plain": [
       "2×3 Matrix{Float64}:\n",
       " 1.70928   0.636454  1.11681\n",
       " 0.537059  0.367346  0.868063"
      ]
     },
     "execution_count": 78,
     "metadata": {},
     "output_type": "execute_result"
    }
   ],
   "source": [
    "A = rand(2, 3)\n",
    "B = rand(2, 3)\n",
    "add(A, B)"
   ]
  },
  {
   "cell_type": "markdown",
   "id": "63b3d857",
   "metadata": {},
   "source": [
    "#### 1.3.3. Multiple Dispatch\n",
    "\n",
    "- Given a single function with many methods, how does Julia choose which method to call?\n",
    "\n",
    "> The choice of which method to execute when a function is applied is called dispatch. **Julia allows the dispatch process to choose which of a function's methods to call based on the number of arguments given, and on the types of all of the function's arguments**. This is different than traditional object-oriented languages, where dispatch occurs based only on the first argument, which often has a special argument syntax, and is sometimes implied rather than explicitly written as an argument. **Using all of a function's arguments to choose which method should be invoked, rather than just the first, is known as multiple dispatch**. \n",
    "\n",
    "\n",
    "- In particular, Julia will automatically select the **most specific** method matching the arguments provided.\n",
    "<br>\n",
    "\n",
    "- _Multiple dispatch is the core programming paradigm of the Julia language_."
   ]
  },
  {
   "cell_type": "markdown",
   "id": "ae4799a8",
   "metadata": {},
   "source": [
    "### 1.4. Structs (or: Julia Objects)\n",
    "\n",
    "- The most common user-defined type in Julia is a **composite type** or `struct`. This is the Julia equivalent of a `Class` in Python.\n",
    "\n",
    "#### 1.4.1. Defining Structs\n",
    "\n",
    "- Composite types are introduced with the `struct` keyword followed by a block of field names."
   ]
  },
  {
   "cell_type": "code",
   "execution_count": 71,
   "id": "251eacb3",
   "metadata": {},
   "outputs": [],
   "source": [
    "struct Foo\n",
    "    bar\n",
    "    baz\n",
    "end"
   ]
  },
  {
   "cell_type": "markdown",
   "id": "edbe306d",
   "metadata": {},
   "source": [
    "#### 1.4.2. Instantiating Structs\n",
    "\n",
    "- To create a new object of a given type, simply apply the type name like a function."
   ]
  },
  {
   "cell_type": "code",
   "execution_count": 72,
   "id": "480ba118",
   "metadata": {},
   "outputs": [
    {
     "data": {
      "text/plain": [
       "Foo(\"Machine\", \"Learning\")"
      ]
     },
     "execution_count": 72,
     "metadata": {},
     "output_type": "execute_result"
    }
   ],
   "source": [
    "foo = Foo(\"Machine\", \"Learning\")"
   ]
  },
  {
   "cell_type": "code",
   "execution_count": 73,
   "id": "71905692",
   "metadata": {},
   "outputs": [
    {
     "data": {
      "text/plain": [
       "Foo"
      ]
     },
     "execution_count": 73,
     "metadata": {},
     "output_type": "execute_result"
    }
   ],
   "source": [
    "typeof(foo)"
   ]
  },
  {
   "cell_type": "markdown",
   "id": "da1dadc4",
   "metadata": {},
   "source": [
    "#### 1.4.3. Accessing the Fields of a Struct\n",
    "\n",
    "- You can access the field names of a composite type using the standard `foo.bar` notation."
   ]
  },
  {
   "cell_type": "code",
   "execution_count": 75,
   "id": "32560da0",
   "metadata": {},
   "outputs": [
    {
     "data": {
      "text/plain": [
       "\"Machine\""
      ]
     },
     "execution_count": 75,
     "metadata": {},
     "output_type": "execute_result"
    }
   ],
   "source": [
    "foo.bar"
   ]
  },
  {
   "cell_type": "code",
   "execution_count": 76,
   "id": "e68cc5c8",
   "metadata": {},
   "outputs": [
    {
     "data": {
      "text/plain": [
       "\"Learning\""
      ]
     },
     "execution_count": 76,
     "metadata": {},
     "output_type": "execute_result"
    }
   ],
   "source": [
    "foo.baz"
   ]
  },
  {
   "cell_type": "markdown",
   "id": "e100c7bd",
   "metadata": {},
   "source": [
    "#### 1.4.4 Structs are Not Mutable\n",
    "\n",
    "- Composite objects declared with `struct` are **immutable**; they cannot be modified after construction."
   ]
  },
  {
   "cell_type": "code",
   "execution_count": 77,
   "id": "91ed8795",
   "metadata": {},
   "outputs": [
    {
     "ename": "LoadError",
     "evalue": "setfield!: immutable struct of type Foo cannot be changed",
     "output_type": "error",
     "traceback": [
      "setfield!: immutable struct of type Foo cannot be changed",
      "",
      "Stacktrace:",
      " [1] setproperty!(x::Foo, f::Symbol, v::String)",
      "   @ Base ./Base.jl:39",
      " [2] top-level scope",
      "   @ In[77]:1",
      " [3] eval",
      "   @ ./boot.jl:368 [inlined]",
      " [4] include_string(mapexpr::typeof(REPL.softscope), mod::Module, code::String, filename::String)",
      "   @ Base ./loading.jl:1428"
     ]
    }
   ],
   "source": [
    "foo.baz = \"Intelligence\""
   ]
  },
  {
   "cell_type": "markdown",
   "id": "3b8c183e",
   "metadata": {},
   "source": [
    "- **N.B.** An immutable object might contain mutable objects, such as arrays, as fields. Those mutable field values will remain mutable; only the fields of the immutable object itself cannot be changed to point to different objects."
   ]
  },
  {
   "cell_type": "code",
   "execution_count": 79,
   "id": "b5019547",
   "metadata": {},
   "outputs": [
    {
     "data": {
      "text/plain": [
       "2-element Vector{Float64}:\n",
       " 1.0\n",
       " 2.0"
      ]
     },
     "execution_count": 79,
     "metadata": {},
     "output_type": "execute_result"
    }
   ],
   "source": [
    "struct ArrayStruct\n",
    "    a::Array\n",
    "end\n",
    "\n",
    "array_struct = ArrayStruct([1.0, 2.0])\n",
    "array_struct.a"
   ]
  },
  {
   "cell_type": "code",
   "execution_count": 80,
   "id": "5984de46",
   "metadata": {},
   "outputs": [
    {
     "data": {
      "text/plain": [
       "2-element Vector{Float64}:\n",
       " 3.0\n",
       " 2.0"
      ]
     },
     "execution_count": 80,
     "metadata": {},
     "output_type": "execute_result"
    }
   ],
   "source": [
    "# Modify the mutable object\n",
    "array_struct.a[1] = 3.0\n",
    "array_struct.a"
   ]
  },
  {
   "cell_type": "code",
   "execution_count": 81,
   "id": "20624d04",
   "metadata": {},
   "outputs": [
    {
     "ename": "LoadError",
     "evalue": "setfield!: immutable struct of type ArrayStruct cannot be changed",
     "output_type": "error",
     "traceback": [
      "setfield!: immutable struct of type ArrayStruct cannot be changed",
      "",
      "Stacktrace:",
      " [1] setproperty!(x::ArrayStruct, f::Symbol, v::Vector{Float64})",
      "   @ Base ./Base.jl:39",
      " [2] top-level scope",
      "   @ In[81]:2",
      " [3] eval",
      "   @ ./boot.jl:368 [inlined]",
      " [4] include_string(mapexpr::typeof(REPL.softscope), mod::Module, code::String, filename::String)",
      "   @ Base ./loading.jl:1428"
     ]
    }
   ],
   "source": [
    "# Attempt to modify the field value itself\n",
    "array_struct.a = [3.0, 4.0]"
   ]
  },
  {
   "cell_type": "markdown",
   "id": "98865a3e",
   "metadata": {},
   "source": [
    "- Why is it like this? Isn't this unnecessarily restrictive for the programmer?\n",
    "<br>\n",
    "\n",
    "- The main reason for structs to be immutable is to allow the compiler to effectively optimise your code. In particular, it allows your objects to be stored efficiently in memory.\n",
    "<br>\n",
    "\n",
    "- If you _really_ do need a mutable struct (you probably don't), you can simply declare one with the `mutable` keyword:"
   ]
  },
  {
   "cell_type": "code",
   "execution_count": 82,
   "id": "0aa42e1a",
   "metadata": {},
   "outputs": [
    {
     "data": {
      "text/plain": [
       "\"original value\""
      ]
     },
     "execution_count": 82,
     "metadata": {},
     "output_type": "execute_result"
    }
   ],
   "source": [
    "mutable struct MyMutableStruct\n",
    "    a\n",
    "end\n",
    "m = MyMutableStruct(\"original value\")\n",
    "m.a"
   ]
  },
  {
   "cell_type": "code",
   "execution_count": 83,
   "id": "52a77c03",
   "metadata": {},
   "outputs": [
    {
     "data": {
      "text/plain": [
       "\"new value\""
      ]
     },
     "execution_count": 83,
     "metadata": {},
     "output_type": "execute_result"
    }
   ],
   "source": [
    "m.a = \"new value\"\n",
    "m.a"
   ]
  },
  {
   "cell_type": "markdown",
   "id": "89750831",
   "metadata": {},
   "source": [
    "### 1.5. Control Flow\n",
    "\n",
    "#### 1.5.1 The `for` Loop\n",
    "\n",
    "- The most common loop in Julia is the `for` loop:"
   ]
  },
  {
   "cell_type": "code",
   "execution_count": 84,
   "id": "001de796",
   "metadata": {},
   "outputs": [
    {
     "name": "stdout",
     "output_type": "stream",
     "text": [
      "1\n",
      "2\n",
      "3\n",
      "4\n",
      "5\n"
     ]
    }
   ],
   "source": [
    "for i = 1:5\n",
    "    println(i)\n",
    "end"
   ]
  },
  {
   "cell_type": "markdown",
   "id": "5ab4e135",
   "metadata": {},
   "source": [
    "- You will often find yourself using range objects together with `for` loops. This is a very useful construct for generating sequences of numbers and takes the general form:\n",
    "\n",
    "    ```julia\n",
    "    a:b:c\n",
    "    ```\n",
    "\n",
    "    where `a` is the starting number, `c` is the ending number, and `b` is the stepsize. By default `b = 1`.    \n",
    "\n",
    "\n",
    "- **N.B.** ranges in Julia are **inclusive**, i.e. the range includes `c`.\n",
    "<br>\n",
    "- The `for` loop can also iterate over all the items of a container (e.g. `Array`, `Tuple`), not just a range object:"
   ]
  },
  {
   "cell_type": "code",
   "execution_count": 85,
   "id": "0fe62dc4",
   "metadata": {},
   "outputs": [
    {
     "name": "stdout",
     "output_type": "stream",
     "text": [
      "Machine\n",
      "Learning\n"
     ]
    }
   ],
   "source": [
    "stuff = [\"Machine\", \"Learning\"]\n",
    "for thing in stuff\n",
    "    println(thing)\n",
    "end"
   ]
  },
  {
   "cell_type": "markdown",
   "id": "778ef486",
   "metadata": {},
   "source": [
    "#### 1.5.2. Conditional Evaluation\n",
    "\n",
    "- The standard `if`-`elseif`-`else` syntax in Julia is:\n",
    "\n",
    "```julia\n",
    "if x < y\n",
    "    println(\"x is less than y\")\n",
    "elseif x > y\n",
    "    println(\"x is greater than y\")\n",
    "else\n",
    "    println(\"x is equal to y\")\n",
    "end\n",
    "```\n",
    "\n",
    "- Unlike other languages (e.g. Python), the value given to the conditional expression __must be a boolean__, i.e. `true` or `false`. In other words, there are no \"truthy\" and \"falsy\" values in Julia."
   ]
  },
  {
   "cell_type": "markdown",
   "id": "dbae3512",
   "metadata": {},
   "source": [
    "### 1.6. Pkg.jl - The Julia Package Manager\n",
    "\n",
    "- [Pkg.jl](https://pkgdocs.julialang.org/v1/) is Julia's built-in package manager.\n",
    "<br>\n",
    "\n",
    "- It's comparable to the combination of `pip` and `virtualenv`, or `conda`, in Python. Except it actually works.\n",
    "<br>\n",
    "\n",
    "- There are two ways to use Pkg.jl:\n",
    "    1. [The Pkg REPL](https://pkgdocs.julialang.org/v1/repl/), which you can enter by simply typing `]` at the Julia REPL.\n",
    "    2. [The Pkg API](https://pkgdocs.julialang.org/v1/api/), useful when you want to interact with the package manager from a script or Jupyter notebook.\n",
    "<br><br>\n",
    "\n",
    "- Pkg.jl is built around the idea of environments, and an environment is defined by a `Project.toml` file.\n",
    "<br>\n",
    "\n",
    "#### 1.6.1. Activating an Environment\n",
    "\n",
    "#### 1.6.2. Instantiating an Environment\n",
    "\n",
    "#### 1.6.3. Adding Packages"
   ]
  },
  {
   "cell_type": "markdown",
   "id": "0aa5e6ca",
   "metadata": {},
   "source": [
    "## 2. DifferentialEquations.jl <a class=\"anchor\" id=\"diffeq\"></a>\n",
    "\n",
    "- [DifferentialEquations.jl](https://diffeq.sciml.ai/stable/) is a comprehensive suite of algorithms for the numerical solution of differential equations in Julia.\n",
    "<br>\n",
    "\n",
    "- First, let's install the package:"
   ]
  },
  {
   "cell_type": "code",
   "execution_count": 93,
   "id": "7ab6fde5",
   "metadata": {},
   "outputs": [
    {
     "name": "stderr",
     "output_type": "stream",
     "text": [
      "\u001b[32m\u001b[1m  Activating\u001b[22m\u001b[39m project at `~/code/ML-DS-Workshop-23`\n",
      "\u001b[32m\u001b[1m   Resolving\u001b[22m\u001b[39m package versions...\n",
      "\u001b[32m\u001b[1m  No Changes\u001b[22m\u001b[39m to `~/code/ML-DS-Workshop-23/Project.toml`\n",
      "\u001b[32m\u001b[1m  No Changes\u001b[22m\u001b[39m to `~/code/ML-DS-Workshop-23/Manifest.toml`\n"
     ]
    }
   ],
   "source": [
    "using Pkg\n",
    "Pkg.activate(\".\")\n",
    "Pkg.add(\"DifferentialEquations\")"
   ]
  },
  {
   "cell_type": "markdown",
   "id": "8179b638",
   "metadata": {},
   "source": [
    "- Once the package is installed, we need to import it. This is most commonly done with the `using` keyword, although see [here](https://docs.julialang.org/en/v1/manual/code-loading/) for other options and the full details of code loading in Julia."
   ]
  },
  {
   "cell_type": "code",
   "execution_count": 94,
   "id": "5e54edff",
   "metadata": {},
   "outputs": [],
   "source": [
    "using DifferentialEquations"
   ]
  },
  {
   "cell_type": "markdown",
   "id": "88469a93",
   "metadata": {},
   "source": [
    "### 2.1. Solving ODEs"
   ]
  },
  {
   "cell_type": "markdown",
   "id": "c279f666",
   "metadata": {},
   "source": [
    "- With all of this done, solving an ODE in Julia is a simple 3-step process.\n",
    "\n",
    "#### Step 1: Define the RHS of your ODE\n",
    "\n",
    "- For a standard ODE of the form $\\dot u = f(u, t; p)$, $u \\in \\mathbb R^n$, we need to define $f$."
   ]
  },
  {
   "cell_type": "code",
   "execution_count": null,
   "id": "7c29a641",
   "metadata": {},
   "outputs": [],
   "source": [
    "# Lorenz '63 (OOP)\n",
    "function f(u, p, t)\n",
    "    x, y, z = u\n",
    "    σ, β, ρ = p\n",
    "    \n",
    "    dx = σ * (y - x)\n",
    "    dy = x * (ρ - z) - y\n",
    "    dz = x * y - β * z\n",
    "    \n",
    "    return [dx, dy, dz]\n",
    "end"
   ]
  },
  {
   "cell_type": "markdown",
   "id": "9e94d5d3",
   "metadata": {},
   "source": [
    "#### Step 2: Set up the ODE Problem"
   ]
  },
  {
   "cell_type": "code",
   "execution_count": null,
   "id": "4d1e8567",
   "metadata": {},
   "outputs": [],
   "source": [
    "u0 = rand(3)             # Initial conditions\n",
    "tspan = (0.0, 10.0)      # Timespan of the integration\n",
    "p = [10.0, 8 / 3, 28.0]  # Parameters (optional)\n",
    "\n",
    "prob = ODEProblem(f, u0, tspan, p)"
   ]
  },
  {
   "cell_type": "markdown",
   "id": "2958817c",
   "metadata": {},
   "source": [
    "#### Step 3: Solve the ODE Problem"
   ]
  },
  {
   "cell_type": "code",
   "execution_count": null,
   "id": "6b03d49e",
   "metadata": {},
   "outputs": [],
   "source": [
    "sol = solve(prob)"
   ]
  },
  {
   "cell_type": "code",
   "execution_count": null,
   "id": "2fa6dc71",
   "metadata": {},
   "outputs": [],
   "source": [
    "Array(sol)"
   ]
  },
  {
   "cell_type": "markdown",
   "id": "3a4bdb48",
   "metadata": {},
   "source": [
    "#### Alternative: In-Place Updates\n",
    "\n",
    "- So far we've defined and solved our problem in the out-of-place (OOP) form.\n",
    "<br>\n",
    "\n",
    "- Often it is more efficient to define the problem in the in-place (IIP) form."
   ]
  },
  {
   "cell_type": "code",
   "execution_count": 95,
   "id": "a860b1e3",
   "metadata": {},
   "outputs": [
    {
     "data": {
      "text/plain": [
       "f! (generic function with 1 method)"
      ]
     },
     "execution_count": 95,
     "metadata": {},
     "output_type": "execute_result"
    }
   ],
   "source": [
    "# Lorenz '63 (IIP)\n",
    "function f!(du, u, p, t)\n",
    "    x, y, z = u\n",
    "    σ, β, ρ = p\n",
    "    \n",
    "    du[1] = σ * (y - x)\n",
    "    du[2] = x * (ρ - z) - y\n",
    "    du[3] = x * y - β * z\n",
    "    \n",
    "    return nothing\n",
    "end"
   ]
  },
  {
   "cell_type": "code",
   "execution_count": null,
   "id": "c0fa7fd2",
   "metadata": {},
   "outputs": [],
   "source": [
    "using BenchmarkTools\n",
    "@btime solve(prob)  # experiment with this yourself"
   ]
  },
  {
   "cell_type": "markdown",
   "id": "69813612",
   "metadata": {},
   "source": [
    "### 2.2. Plotting the Solution\n",
    "\n",
    "- DifferentialEquations.jl provides recipes for plotting ODE solutions using the Plots.jl package.\n",
    "<br>\n",
    "\n",
    "- First, make sure the Plots.jl package is installed and imported."
   ]
  },
  {
   "cell_type": "code",
   "execution_count": 96,
   "id": "c5dcbf6b",
   "metadata": {},
   "outputs": [
    {
     "name": "stderr",
     "output_type": "stream",
     "text": [
      "\u001b[32m\u001b[1m   Resolving\u001b[22m\u001b[39m package versions...\n",
      "\u001b[32m\u001b[1m    Updating\u001b[22m\u001b[39m `~/code/ML-DS-Workshop-23/Project.toml`\n",
      " \u001b[90m [91a5bcdd] \u001b[39m\u001b[92m+ Plots v1.38.5\u001b[39m\n",
      "\u001b[32m\u001b[1m    Updating\u001b[22m\u001b[39m `~/code/ML-DS-Workshop-23/Manifest.toml`\n",
      " \u001b[90m [d1d4a3ce] \u001b[39m\u001b[92m+ BitFlags v0.1.7\u001b[39m\n",
      " \u001b[90m [944b1d66] \u001b[39m\u001b[92m+ CodecZlib v0.7.1\u001b[39m\n",
      " \u001b[90m [35d6a980] \u001b[39m\u001b[92m+ ColorSchemes v3.20.0\u001b[39m\n",
      " \u001b[90m [3da002f7] \u001b[39m\u001b[92m+ ColorTypes v0.11.4\u001b[39m\n",
      " \u001b[90m [c3611d14] \u001b[39m\u001b[92m+ ColorVectorSpace v0.9.10\u001b[39m\n",
      " \u001b[90m [5ae59095] \u001b[39m\u001b[92m+ Colors v0.12.10\u001b[39m\n",
      " \u001b[90m [d38c429a] \u001b[39m\u001b[92m+ Contour v0.6.2\u001b[39m\n",
      " \u001b[90m [c87230d0] \u001b[39m\u001b[92m+ FFMPEG v0.4.1\u001b[39m\n",
      " \u001b[90m [53c48c17] \u001b[39m\u001b[92m+ FixedPointNumbers v0.8.4\u001b[39m\n",
      " \u001b[90m [59287772] \u001b[39m\u001b[92m+ Formatting v0.4.2\u001b[39m\n",
      " \u001b[90m [28b8d3ca] \u001b[39m\u001b[92m+ GR v0.71.7\u001b[39m\n",
      " \u001b[90m [42e2da0e] \u001b[39m\u001b[92m+ Grisu v1.0.2\u001b[39m\n",
      " \u001b[90m [cd3eb016] \u001b[39m\u001b[92m+ HTTP v1.7.4\u001b[39m\n",
      " \u001b[90m [83e8ac13] \u001b[39m\u001b[92m+ IniFile v0.5.1\u001b[39m\n",
      " \u001b[90m [1019f520] \u001b[39m\u001b[92m+ JLFzf v0.1.5\u001b[39m\n",
      " \u001b[90m [682c06a0] \u001b[39m\u001b[92m+ JSON v0.21.3\u001b[39m\n",
      " \u001b[90m [b964fa9f] \u001b[39m\u001b[92m+ LaTeXStrings v1.3.0\u001b[39m\n",
      " \u001b[90m [23fbe1c1] \u001b[39m\u001b[92m+ Latexify v0.15.18\u001b[39m\n",
      " \u001b[90m [e6f89c97] \u001b[39m\u001b[92m+ LoggingExtras v1.0.0\u001b[39m\n",
      " \u001b[90m [739be429] \u001b[39m\u001b[92m+ MbedTLS v1.1.7\u001b[39m\n",
      " \u001b[90m [442fdcdd] \u001b[39m\u001b[92m+ Measures v0.3.2\u001b[39m\n",
      " \u001b[90m [4d8831e6] \u001b[39m\u001b[92m+ OpenSSL v1.3.3\u001b[39m\n",
      " \u001b[90m [69de0a69] \u001b[39m\u001b[92m+ Parsers v2.5.7\u001b[39m\n",
      " \u001b[90m [b98c9c47] \u001b[39m\u001b[92m+ Pipe v1.3.0\u001b[39m\n",
      " \u001b[90m [ccf2f8ad] \u001b[39m\u001b[92m+ PlotThemes v3.1.0\u001b[39m\n",
      " \u001b[90m [995b91a9] \u001b[39m\u001b[92m+ PlotUtils v1.3.4\u001b[39m\n",
      " \u001b[90m [91a5bcdd] \u001b[39m\u001b[92m+ Plots v1.38.5\u001b[39m\n",
      " \u001b[90m [01d81517] \u001b[39m\u001b[92m+ RecipesPipeline v0.6.11\u001b[39m\n",
      " \u001b[90m [05181044] \u001b[39m\u001b[92m+ RelocatableFolders v1.0.0\u001b[39m\n",
      " \u001b[90m [6c6a2e73] \u001b[39m\u001b[92m+ Scratch v1.1.1\u001b[39m\n",
      " \u001b[90m [992d4aef] \u001b[39m\u001b[92m+ Showoff v1.0.3\u001b[39m\n",
      " \u001b[90m [777ac1f9] \u001b[39m\u001b[92m+ SimpleBufferStream v1.1.0\u001b[39m\n",
      " \u001b[90m [62fd8b95] \u001b[39m\u001b[92m+ TensorCore v0.1.1\u001b[39m\n",
      " \u001b[90m [3bb67fe8] \u001b[39m\u001b[92m+ TranscodingStreams v0.9.11\u001b[39m\n",
      " \u001b[90m [5c2747f8] \u001b[39m\u001b[92m+ URIs v1.4.2\u001b[39m\n",
      " \u001b[90m [1cfade01] \u001b[39m\u001b[92m+ UnicodeFun v0.4.1\u001b[39m\n",
      " \u001b[90m [41fe7b60] \u001b[39m\u001b[92m+ Unzip v0.2.0\u001b[39m\n",
      " \u001b[90m [6e34b625] \u001b[39m\u001b[92m+ Bzip2_jll v1.0.8+0\u001b[39m\n",
      " \u001b[90m [83423d85] \u001b[39m\u001b[92m+ Cairo_jll v1.16.1+1\u001b[39m\n",
      " \u001b[90m [2e619515] \u001b[39m\u001b[92m+ Expat_jll v2.4.8+0\u001b[39m\n",
      " \u001b[90m [b22a6f82] \u001b[39m\u001b[92m+ FFMPEG_jll v4.4.2+2\u001b[39m\n",
      " \u001b[90m [a3f928ae] \u001b[39m\u001b[92m+ Fontconfig_jll v2.13.93+0\u001b[39m\n",
      " \u001b[90m [d7e528f0] \u001b[39m\u001b[92m+ FreeType2_jll v2.10.4+0\u001b[39m\n",
      " \u001b[90m [559328eb] \u001b[39m\u001b[92m+ FriBidi_jll v1.0.10+0\u001b[39m\n",
      " \u001b[90m [0656b61e] \u001b[39m\u001b[92m+ GLFW_jll v3.3.8+0\u001b[39m\n",
      " \u001b[90m [d2c73de3] \u001b[39m\u001b[92m+ GR_jll v0.71.7+0\u001b[39m\n",
      " \u001b[90m [78b55507] \u001b[39m\u001b[92m+ Gettext_jll v0.21.0+0\u001b[39m\n",
      " \u001b[90m [7746bdde] \u001b[39m\u001b[92m+ Glib_jll v2.74.0+2\u001b[39m\n",
      " \u001b[90m [3b182d85] \u001b[39m\u001b[92m+ Graphite2_jll v1.3.14+0\u001b[39m\n",
      " \u001b[90m [2e76f6c2] \u001b[39m\u001b[92m+ HarfBuzz_jll v2.8.1+1\u001b[39m\n",
      " \u001b[90m [aacddb02] \u001b[39m\u001b[92m+ JpegTurbo_jll v2.1.2+0\u001b[39m\n",
      " \u001b[90m [c1c5ebd0] \u001b[39m\u001b[92m+ LAME_jll v3.100.1+0\u001b[39m\n",
      " \u001b[90m [88015f11] \u001b[39m\u001b[92m+ LERC_jll v3.0.0+1\u001b[39m\n",
      " \u001b[90m [dd4b983a] \u001b[39m\u001b[92m+ LZO_jll v2.10.1+0\u001b[39m\n",
      "\u001b[33m⌅\u001b[39m\u001b[90m [e9f186c6] \u001b[39m\u001b[92m+ Libffi_jll v3.2.2+1\u001b[39m\n",
      " \u001b[90m [d4300ac3] \u001b[39m\u001b[92m+ Libgcrypt_jll v1.8.7+0\u001b[39m\n",
      " \u001b[90m [7e76a0d4] \u001b[39m\u001b[92m+ Libglvnd_jll v1.6.0+0\u001b[39m\n",
      " \u001b[90m [7add5ba3] \u001b[39m\u001b[92m+ Libgpg_error_jll v1.42.0+0\u001b[39m\n",
      " \u001b[90m [94ce4f54] \u001b[39m\u001b[92m+ Libiconv_jll v1.16.1+2\u001b[39m\n",
      " \u001b[90m [4b2f31a3] \u001b[39m\u001b[92m+ Libmount_jll v2.35.0+0\u001b[39m\n",
      " \u001b[90m [89763e89] \u001b[39m\u001b[92m+ Libtiff_jll v4.4.0+0\u001b[39m\n",
      " \u001b[90m [38a345b3] \u001b[39m\u001b[92m+ Libuuid_jll v2.36.0+0\u001b[39m\n",
      " \u001b[90m [e7412a2a] \u001b[39m\u001b[92m+ Ogg_jll v1.3.5+1\u001b[39m\n",
      " \u001b[90m [458c3c95] \u001b[39m\u001b[92m+ OpenSSL_jll v1.1.20+0\u001b[39m\n",
      " \u001b[90m [91d4177d] \u001b[39m\u001b[92m+ Opus_jll v1.3.2+0\u001b[39m\n",
      " \u001b[90m [30392449] \u001b[39m\u001b[92m+ Pixman_jll v0.40.1+0\u001b[39m\n",
      " \u001b[90m [ea2cea3b] \u001b[39m\u001b[92m+ Qt5Base_jll v5.15.3+2\u001b[39m\n",
      " \u001b[90m [a2964d1f] \u001b[39m\u001b[92m+ Wayland_jll v1.21.0+0\u001b[39m\n",
      " \u001b[90m [2381bf8a] \u001b[39m\u001b[92m+ Wayland_protocols_jll v1.25.0+0\u001b[39m\n",
      " \u001b[90m [02c8fc9c] \u001b[39m\u001b[92m+ XML2_jll v2.10.3+0\u001b[39m\n",
      " \u001b[90m [aed1982a] \u001b[39m\u001b[92m+ XSLT_jll v1.1.34+0\u001b[39m\n",
      " \u001b[90m [4f6342f7] \u001b[39m\u001b[92m+ Xorg_libX11_jll v1.6.9+4\u001b[39m\n",
      " \u001b[90m [0c0b7dd1] \u001b[39m\u001b[92m+ Xorg_libXau_jll v1.0.9+4\u001b[39m\n",
      " \u001b[90m [935fb764] \u001b[39m\u001b[92m+ Xorg_libXcursor_jll v1.2.0+4\u001b[39m\n",
      " \u001b[90m [a3789734] \u001b[39m\u001b[92m+ Xorg_libXdmcp_jll v1.1.3+4\u001b[39m\n",
      " \u001b[90m [1082639a] \u001b[39m\u001b[92m+ Xorg_libXext_jll v1.3.4+4\u001b[39m\n",
      " \u001b[90m [d091e8ba] \u001b[39m\u001b[92m+ Xorg_libXfixes_jll v5.0.3+4\u001b[39m\n",
      " \u001b[90m [a51aa0fd] \u001b[39m\u001b[92m+ Xorg_libXi_jll v1.7.10+4\u001b[39m\n",
      " \u001b[90m [d1454406] \u001b[39m\u001b[92m+ Xorg_libXinerama_jll v1.1.4+4\u001b[39m\n",
      " \u001b[90m [ec84b674] \u001b[39m\u001b[92m+ Xorg_libXrandr_jll v1.5.2+4\u001b[39m\n",
      " \u001b[90m [ea2f1a96] \u001b[39m\u001b[92m+ Xorg_libXrender_jll v0.9.10+4\u001b[39m\n",
      " \u001b[90m [14d82f49] \u001b[39m\u001b[92m+ Xorg_libpthread_stubs_jll v0.1.0+3\u001b[39m\n",
      " \u001b[90m [c7cfdc94] \u001b[39m\u001b[92m+ Xorg_libxcb_jll v1.13.0+3\u001b[39m\n",
      " \u001b[90m [cc61e674] \u001b[39m\u001b[92m+ Xorg_libxkbfile_jll v1.1.0+4\u001b[39m\n",
      " \u001b[90m [12413925] \u001b[39m\u001b[92m+ Xorg_xcb_util_image_jll v0.4.0+1\u001b[39m\n",
      " \u001b[90m [2def613f] \u001b[39m\u001b[92m+ Xorg_xcb_util_jll v0.4.0+1\u001b[39m\n",
      " \u001b[90m [975044d2] \u001b[39m\u001b[92m+ Xorg_xcb_util_keysyms_jll v0.4.0+1\u001b[39m\n",
      " \u001b[90m [0d47668e] \u001b[39m\u001b[92m+ Xorg_xcb_util_renderutil_jll v0.3.9+1\u001b[39m\n",
      " \u001b[90m [c22f9ab0] \u001b[39m\u001b[92m+ Xorg_xcb_util_wm_jll v0.4.1+1\u001b[39m\n",
      " \u001b[90m [35661453] \u001b[39m\u001b[92m+ Xorg_xkbcomp_jll v1.4.2+4\u001b[39m\n",
      " \u001b[90m [33bec58e] \u001b[39m\u001b[92m+ Xorg_xkeyboard_config_jll v2.27.0+4\u001b[39m\n",
      " \u001b[90m [c5fb5394] \u001b[39m\u001b[92m+ Xorg_xtrans_jll v1.4.0+3\u001b[39m\n",
      " \u001b[90m [3161d3a3] \u001b[39m\u001b[92m+ Zstd_jll v1.5.4+0\u001b[39m\n",
      "\u001b[33m⌅\u001b[39m\u001b[90m [214eeab7] \u001b[39m\u001b[92m+ fzf_jll v0.29.0+0\u001b[39m\n",
      " \u001b[90m [a4ae2306] \u001b[39m\u001b[92m+ libaom_jll v3.4.0+0\u001b[39m\n",
      " \u001b[90m [0ac62f75] \u001b[39m\u001b[92m+ libass_jll v0.15.1+0\u001b[39m\n",
      " \u001b[90m [f638f0a6] \u001b[39m\u001b[92m+ libfdk_aac_jll v2.0.2+0\u001b[39m\n",
      " \u001b[90m [b53b4c65] \u001b[39m\u001b[92m+ libpng_jll v1.6.38+0\u001b[39m\n",
      " \u001b[90m [f27f6e37] \u001b[39m\u001b[92m+ libvorbis_jll v1.3.7+1\u001b[39m\n",
      " \u001b[90m [1270edf5] \u001b[39m\u001b[92m+ x264_jll v2021.5.5+0\u001b[39m\n",
      " \u001b[90m [dfaa095f] \u001b[39m\u001b[92m+ x265_jll v3.5.0+0\u001b[39m\n",
      " \u001b[90m [d8fb68d0] \u001b[39m\u001b[92m+ xkbcommon_jll v1.4.1+0\u001b[39m\n",
      " \u001b[90m [8bb1440f] \u001b[39m\u001b[92m+ DelimitedFiles\u001b[39m\n",
      " \u001b[90m [efcefdf7] \u001b[39m\u001b[92m+ PCRE2_jll v10.40.0+0\u001b[39m\n",
      "\u001b[36m\u001b[1m        Info\u001b[22m\u001b[39m Packages marked with \u001b[33m⌅\u001b[39m have new versions available but compatibility constraints restrict them from upgrading. To see why use `status --outdated -m`\n",
      "┌ Info: Precompiling Plots [91a5bcdd-55d7-5caf-9e0b-520d859cae80]\n",
      "└ @ Base loading.jl:1664\n",
      "\u001b[36m\u001b[1m[ \u001b[22m\u001b[39m\u001b[36m\u001b[1mInfo: \u001b[22m\u001b[39mGR\n"
     ]
    }
   ],
   "source": [
    "Pkg.add(\"Plots\")\n",
    "using Plots"
   ]
  },
  {
   "cell_type": "markdown",
   "id": "bcf60511",
   "metadata": {},
   "source": [
    "- Then, plotting trajectories is as simple as calling `plot` with the solution object."
   ]
  },
  {
   "cell_type": "code",
   "execution_count": null,
   "id": "0b263b1c",
   "metadata": {},
   "outputs": [],
   "source": [
    "plot(sol)"
   ]
  },
  {
   "cell_type": "markdown",
   "id": "b9720ebf",
   "metadata": {},
   "source": [
    "### 2.3. Configuring the Solver: Common Solver Options\n",
    "\n",
    "- When we solved our ODE problem just now, we simply called `solve(prob)` and allowed DifferentialEquations.jl to choose sensible defaults for the ODE solver algorithm and various other important parameters.\n",
    "<br>\n",
    "\n",
    "- In practice, we will often want to specify the precise behaviour of the solver.\n",
    "\n",
    "\n",
    "#### 2.3.1. Specifying the Solver Algorithm\n",
    "\n",
    "- A huge number of [ODE solvers](https://diffeq.sciml.ai/stable/solvers/ode_solve/) are implemented (or interfaced) in DifferentialEquations.jl.\n",
    "<br>\n",
    "\n",
    "- To specify a specific algorithm, simply pass it as the second argument to `solve`."
   ]
  },
  {
   "cell_type": "code",
   "execution_count": null,
   "id": "82d90852",
   "metadata": {},
   "outputs": [],
   "source": [
    "solve(prob, Tsit5())"
   ]
  },
  {
   "cell_type": "markdown",
   "id": "94c8d955",
   "metadata": {},
   "source": [
    "#### 2.3.2. Save Times\n",
    "\n",
    "- By default, an adaptive step size algorithm will simply save the result at the times where it stopped.\n",
    "<br>\n",
    "\n",
    "- Often, you'll want the solver to output the solution at predefined times. To do this, use the keyword argument `saveat`."
   ]
  },
  {
   "cell_type": "code",
   "execution_count": null,
   "id": "71404493",
   "metadata": {},
   "outputs": [],
   "source": [
    "sol = solve(prob, Tsit5(), saveat = 0.1)"
   ]
  },
  {
   "cell_type": "markdown",
   "id": "72978380",
   "metadata": {},
   "source": [
    "- This does **not** force the adaptive solver to stop at those times. Instead, the solution at intermediate times is calculated using an efficient interpolation function which, it can be shown, preserves the order of the solution."
   ]
  },
  {
   "cell_type": "markdown",
   "id": "5af8836b",
   "metadata": {},
   "source": [
    "#### 2.3.3. Error Tolerances\n",
    "\n",
    "- As you saw earlier, adaptive step size algorithms choose the step size such that the estimated local error at each step remains below some user-defined tolerance.\n",
    "<br>\n",
    "\n",
    "- In general, it is required that the normalised error estimate satisfies componentwise\n",
    "\n",
    "$$\\mathrm{err_i} \\leq \\mathrm{abstol_i} + \\max(|y_{0i}|, |y_{1i}|) \\cdot \\mathrm{reltol_i},$$\n",
    "\n",
    "where $|y_{0i}|$ is the initial value, $|y_{1i}|$ is the solver's estimate of the solution, $\\mathrm{abstol_i}$ is the *absolute tolerance* and $\\mathrm{reltol_i}$ is the *relative tolerance*.\n",
    "<br>\n",
    "\n",
    "- The relative tolerance scales with the solution, so you can interpret a relative tolerance of `1e-3` as meaning, roughly, that the solution is (locally) correct to 3 digits.\n",
    "<br>\n",
    "\n",
    "- On the other hand, the absolute tolerance controls the (local) error of the solution around zero.\n",
    "<br>\n",
    "\n",
    "- Control the stepping behaviour with the `abstol` and `reltol` keyword arguments to `solve`."
   ]
  },
  {
   "cell_type": "code",
   "execution_count": null,
   "id": "9c4cf9a5",
   "metadata": {},
   "outputs": [],
   "source": [
    "solve(prob, Tsit5(), reltol = 1e-6, abstol = 1e-6)"
   ]
  }
 ],
 "metadata": {
  "kernelspec": {
   "display_name": "Julia 1.8.2",
   "language": "julia",
   "name": "julia-1.8"
  },
  "language_info": {
   "file_extension": ".jl",
   "mimetype": "application/julia",
   "name": "julia",
   "version": "1.8.2"
  }
 },
 "nbformat": 4,
 "nbformat_minor": 5
}
