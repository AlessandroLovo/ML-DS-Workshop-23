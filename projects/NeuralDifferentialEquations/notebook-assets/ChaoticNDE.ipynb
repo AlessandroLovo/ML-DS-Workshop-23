{
 "cells": [
  {
   "cell_type": "markdown",
   "id": "b9ebfd60",
   "metadata": {},
   "source": [
    "# Details on ChaoticNDE\n",
    "\n",
    "In the main notebook we make use of `ChaoticNDE` from `ChaoticNDETools`. Here, are some details on the implementation of it, to make the Neural DE model easily trainable with the training data we have set up.\n",
    "\n",
    "`ChaoticNDE` is set up similar to how other neural network layers and models are set up in the `Flux.jl` library. We define a `struct` (similar to classes in OOP-languages like Python) that holds all information about the Neural DE:\n",
    "* its parameters `p`\n",
    "* `prob`, the `ODEProblem` that defines the initial value problem to solve for the ODE solver\n",
    "* the solver algorithm that we want to `alg`\n",
    "    * if none is given `Tsit5()` is used, a Runge-Kutta 4/5 solver with adaptive stepsize \n",
    "* any additional keyword arguments for the solver \n",
    "    * this could be for example `reltol` for controlling the accuracy (of the adaptive stepping) \n",
    "    * we can also specifiy the exact algorithm we want to use for computing the gradients here via the `sensealg` keyword\n",
    "    \n",
    "We make this type parameteric with the `{P,R,A,K}` parameters. They are stand-ins for any concrete type that we initialize the `struct` with when running the code. This construction lets the compiler optimize the code better. "
   ]
  },
  {
   "cell_type": "code",
   "execution_count": null,
   "id": "b81d2f7d",
   "metadata": {},
   "outputs": [],
   "source": [
    "abstract type AbstractChaoticNDEModel end \n",
    "\n",
    "\"\"\"\n",
    "    ChaoticNDE{P,R,A,K} <: AbstractChaoticNDEModel\n",
    "\n",
    "Model for setting up and training Chaotic Neural Differential Equations.\n",
    "\n",
    "# Fields:\n",
    "\n",
    "* `p` parameter vector \n",
    "* `prob` DEProblem \n",
    "* `alg` Algorithm to use for the `solve` command \n",
    "* `kwargs` any additional keyword arguments that should be handed over (e.g. `sensealg`)\n",
    "\n",
    "# Constructor \n",
    "\n",
    "`ChaoticNDE(prob; alg=Tsit5(), kwargs...)`\n",
    "\"\"\"\n",
    "struct ChaoticNDE{P,R,A,K} <: AbstractChaoticNDEModel\n",
    "    p::P \n",
    "    prob::R \n",
    "    alg::A\n",
    "    kwargs::K\n",
    "end "
   ]
  },
  {
   "cell_type": "markdown",
   "id": "d26ffb66",
   "metadata": {},
   "source": [
    "Then, we define an alternative way to initialize this struct, just based of a previously defined `ODEProblem`: "
   ]
  },
  {
   "cell_type": "code",
   "execution_count": null,
   "id": "88a60c02",
   "metadata": {},
   "outputs": [],
   "source": [
    "function ChaoticNDE(prob; alg=Tsit5(), kwargs...)\n",
    "    p = prob.p \n",
    "    ChaoticNDE{typeof(p), typeof(prob), typeof(alg), typeof(kwargs)}(p, prob, alg, kwargs)\n",
    "end "
   ]
  },
  {
   "cell_type": "markdown",
   "id": "a4ea2f17",
   "metadata": {},
   "source": [
    "Next, we tell `Flux.jl` that this is a trainable model with its parameters being the field `p` of the struct:"
   ]
  },
  {
   "cell_type": "code",
   "execution_count": null,
   "id": "971ca1da",
   "metadata": {},
   "outputs": [],
   "source": [
    "Flux.@functor ChaoticNDE\n",
    "Flux.trainable(m::ChaoticNDE) = (p=m.p,)"
   ]
  },
  {
   "cell_type": "markdown",
   "id": "0e7bc929",
   "metadata": {},
   "source": [
    "Last thing we do is to overload the struct, so that we can call the struct like a function after we initialized it:"
   ]
  },
  {
   "cell_type": "code",
   "execution_count": null,
   "id": "3a61943b",
   "metadata": {},
   "outputs": [],
   "source": [
    "function (m::ChaoticNDE)(X,p=m.p)\n",
    "    (t, x) = X \n",
    "    Array(solve(remake(m.prob; tspan=(t[1],t[end]),u0=x[:,1],p=p), m.alg; saveat=t, m.kwargs...))\n",
    "end"
   ]
  },
  {
   "cell_type": "markdown",
   "id": "0c58f249",
   "metadata": {},
   "source": [
    "This allow a syntax like this: "
   ]
  },
  {
   "cell_type": "code",
   "execution_count": null,
   "id": "2c502f55",
   "metadata": {},
   "outputs": [],
   "source": [
    "model = ChaoticNDE(prob) # this code will not run in this notebook\n",
    "model(input)"
   ]
  },
  {
   "cell_type": "markdown",
   "id": "eadfd451",
   "metadata": {},
   "source": [
    "In the [actual package](https://github.com/maximilian-gelbrecht/ChaoticNDETools.jl/blob/main/src/models.jl) we also do some additional bookkeeping to make the Neural DE also runnable on GPUs and load parameters. "
   ]
  }
 ],
 "metadata": {
  "kernelspec": {
   "display_name": "Julia 1.8.5",
   "language": "julia",
   "name": "julia-1.8"
  },
  "language_info": {
   "file_extension": ".jl",
   "mimetype": "application/julia",
   "name": "julia",
   "version": "1.8.5"
  }
 },
 "nbformat": 4,
 "nbformat_minor": 5
}
